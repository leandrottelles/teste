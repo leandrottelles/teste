{
  "nbformat": 4,
  "nbformat_minor": 0,
  "metadata": {
    "colab": {
      "provenance": [],
      "toc_visible": true,
      "authorship_tag": "ABX9TyMmaI6NwP2X4wyn7IV3eNek",
      "include_colab_link": true
    },
    "kernelspec": {
      "name": "python3",
      "display_name": "Python 3"
    },
    "language_info": {
      "name": "python"
    }
  },
  "cells": [
    {
      "cell_type": "markdown",
      "metadata": {
        "id": "view-in-github",
        "colab_type": "text"
      },
      "source": [
        "<a href=\"https://colab.research.google.com/github/leandrottelles/teste/blob/main/Profissional_de_Dados.ipynb\" target=\"_parent\"><img src=\"https://colab.research.google.com/assets/colab-badge.svg\" alt=\"Open In Colab\"/></a>"
      ]
    },
    {
      "cell_type": "markdown",
      "source": [
        "# Requisitos"
      ],
      "metadata": {
        "id": "3Lhlo9gta3_E"
      }
    },
    {
      "cell_type": "markdown",
      "source": [
        "# Objetivo"
      ],
      "metadata": {
        "id": "sDtr6U58a9P-"
      }
    },
    {
      "cell_type": "markdown",
      "source": [
        "# Versionamento\n",
        "\n",
        "\n",
        "\\begin{array}{|c|c|} \\hline\n",
        "\\textbf{Data} & \\textbf{Versão} & \\textbf{Descrição} & \\textbf{Autor} \\\\ \\hline\n",
        "\\text{16/02/2024}  & 1.00 & \\text{Versão Inicial} & \\text{Leandro T Telles} \\\\ \\hline\n",
        " &  &  &  \\\\\\hline\n",
        "\\end{array}\n",
        "\n",
        "\n"
      ],
      "metadata": {
        "id": "_XbVMf-xbEHf"
      }
    },
    {
      "cell_type": "markdown",
      "source": [
        "# Capítulo 01 - Hardware e Software\n"
      ],
      "metadata": {
        "id": "utjL06R84JOB"
      }
    },
    {
      "cell_type": "markdown",
      "source": [
        "## O que é um computador\n",
        "\n",
        "Um computador é uma máquina eletrônica capaz de processar dados e executar instruções. Ele é composto por vários componentes de hardware, que são as partes físicas que podem ser tocadas, e software, que são os programas que controlam o funcionamento do computador.\n",
        "\n",
        "Os computadores surgiram na década de 1940, como máquinas gigantescas que ocupavam salas inteiras e usavam válvulas eletrônicas. Desde então, eles evoluíram muito, ficando cada vez menores, mais rápidos, mais baratos e mais eficientes, graças ao avanço da tecnologia e da ciência da computação.\n",
        "\n",
        "Os componentes de hardware podem ser divididos em internos e externos:\n",
        "\n",
        "*   Os componentes internos ficam dentro do gabinete do computador e são responsáveis pelo processamento, armazenamento e comunicação dos dados.\n",
        "*   Os componentes externos ficam fora do gabinete e são usados para interagir com o computador, como o monitor, o teclado e o mouse.\n",
        "\n",
        "Os componentes de hardware se comunicam entre si e com o software por meio de sinais elétricos, que são codificados em bits, que são os menores elementos de informação.\n",
        "\n",
        "O software é responsável por traduzir as instruções do usuário em linguagem de máquina, que é a única que o hardware entende, e gerenciar os recursos do computador.\n",
        "\n",
        "O software mais importante é o sistema operacional, que é o primeiro a ser carregado quando o computador é ligado e que coordena o funcionamento de todos os outros programas.\n",
        "\n",
        "O sistema operacional se comunica com o hardware por meio de programas chamados drivers, que são específicos para cada tipo de componente."
      ],
      "metadata": {
        "id": "MpcqRuuQCYyy"
      }
    },
    {
      "cell_type": "markdown",
      "source": [
        "## Hardware\n",
        "\n",
        "Os hardwares são os componentes físicos que compõem os computadores. Eles são responsáveis por processar, armazenar e comunicar os dados. Os principais componentes de hardware são: o processador, a memória RAM, a memória ROM, o disco rígido, a placa-mãe, a fonte de energia, o cooler, o drive óptico, o monitor, o teclado, o mouse e os periféricos.\n",
        "\n",
        "* **O processador**: é o cérebro do computador. Ele é responsável por executar as instruções e os cálculos dos programas. Ele é formado por vários circuitos integrados, que são conjuntos de transistores, que são dispositivos que podem alternar entre dois estados: ligado ou desligado. Esses estados são representados por bits, que são os menores elementos de informação. Um bit pode ter o valor de 0 ou 1. Combinando vários bits, é possível representar números, letras, símbolos e outros dados. Por exemplo, o número 42 pode ser representado por 8 bits: 00101010. O processador trabalha com uma frequência, que é a velocidade com que ele alterna os estados dos bits. A frequência é medida em hertz (Hz), que é o número de ciclos por segundo. Quanto maior a frequência, mais rápido o processador. Por exemplo, um processador de 3 GHz pode alternar os estados dos bits 3 bilhões de vezes por segundo.\n",
        "\n",
        "* A **memória RAM**: é a memória de acesso aleatório. Ela é responsável por armazenar temporariamente os dados e os programas que estão sendo usados pelo processador. Ela é chamada de acesso aleatório porque o processador pode acessar qualquer posição da memória em qualquer ordem, sem ter que seguir uma sequência. A memória RAM é volátil, ou seja, ela perde os dados quando o computador é desligado. A memória RAM é formada por vários chips, que são circuitos integrados que contêm células de memória. Cada célula de memória pode armazenar um bit. A memória RAM tem uma capacidade, que é a quantidade de dados que ela pode armazenar. A capacidade é medida em bytes, que são conjuntos de 8 bits. Quanto maior a capacidade, mais dados a memória RAM pode armazenar. Por exemplo, uma memória RAM de 8 GB pode armazenar 8 bilhões de bytes, ou seja, 64 bilhões de bits.\n",
        "\n",
        "* A **memória ROM**: é a memória de somente leitura. Ela é responsável por armazenar permanentemente os dados e os programas que são essenciais para o funcionamento do computador, como a BIOS, que é o sistema básico de entrada e saída. A BIOS é o primeiro programa a ser executado quando o computador é ligado, e ela é responsável por inicializar o hardware, testar os componentes, carregar o sistema operacional e gerenciar as interrupções. A memória ROM é não volátil, ou seja, ela mantém os dados mesmo quando o computador é desligado. A memória ROM é formada por chips que contêm células de memória programáveis. Cada célula de memória pode armazenar um bit, mas esse bit não pode ser alterado depois de gravado. A memória ROM tem uma capacidade, que é a quantidade de dados que ela pode armazenar. A capacidade é medida em bytes, assim como a memória RAM. Quanto maior a capacidade, mais dados a memória ROM pode armazenar. Por exemplo, uma memória ROM de 64 MB pode armazenar 64 milhões de bytes, ou seja, 512 milhões de bits.\n",
        "\n",
        "* O **disco rígido**: (HD Tradicional) é o dispositivo de armazenamento de dados. Ele é responsável por armazenar permanentemente os dados e os programas que não são essenciais para o funcionamento do computador, mas que são importantes para o usuário, como documentos, fotos, vídeos, músicas, jogos e aplicativos. O disco rígido é não volátil, assim como a memória ROM. O disco rígido é formado por um ou mais discos metálicos, que são cobertos por uma camada magnética. Essa camada pode ser magnetizada ou desmagnetizada, representando os bits 1 ou 0. O disco rígido tem uma cabeça de leitura e gravação, que é um dispositivo que se move sobre a superfície dos discos, lendo ou gravando os dados nas posições desejadas. O disco rígido tem uma capacidade, que é a quantidade de dados que ele pode armazenar. A capacidade é medida em bytes, assim como a memória RAM e a memória ROM. Quanto maior a capacidade, mais dados o disco rígido pode armazenar. Por exemplo, um disco rígido de 1 TB pode armazenar 1 trilhão de bytes, ou seja, 8 trilhões de bits.\n",
        "\n",
        "* Os **SSDs**: são dispositivos de armazenamento que usam memórias flash para guardar os dados. Eles são mais rápidos, silenciosos e duráveis do que os discos rígidos, pois não possuem partes mecânicas que se desgastam ou se movem. Os SSDs podem ter diferentes formatos e interfaces, como SATA, M.2, PCIe e NVMe.\n",
        "\n",
        " *   O M.2 é um formato de SSD que se conecta diretamente na placa-mãe, usando um slot específico. Ele é menor e mais fino do que os SSDs SATA de 2,5 polegadas, e pode ter diferentes tamanhos e chaves, que são os encaixes que determinam a compatibilidade com o slot. O M.2 pode usar tanto a interface SATA quanto a interface PCIe, que é mais rápida e moderna.\n",
        "\n",
        " *   O PCIe é uma interface que usa os mesmos slots que as placas de vídeo e outros componentes. Ela permite uma comunicação mais direta e eficiente entre o SSD e o processador, sem passar pelo controlador SATA ou pelo protocolo AHCI. O PCIe tem diferentes versões e larguras de banda, que influenciam na velocidade de transferência dos dados.\n",
        "\n",
        " *   O NVMe é um protocolo que foi desenvolvido especificamente para os SSDs que usam a interface PCIe. Ele otimiza o acesso e o gerenciamento dos dados, aproveitando melhor o potencial dos SSDs. O NVMe é mais rápido e inteligente do que o AHCI, que foi criado para os discos rígidos e os SSDs SATA.\n",
        "\n",
        "> A evolução dos SSDs para o formato M.2 e o protocolo NVMe trouxe mais performance, confiabilidade e economia de energia para os dispositivos de armazenamento. Essas tecnologias permitem que os SSDs alcancem velocidades de leitura e escrita muito superiores aos SSDs SATA, chegando a mais de 3 GB/s. Você pode saber mais sobre essas tecnologias nos artigos que eu encontrei na web:\n",
        "\n",
        "* A **placa-mãe**: é a placa principal do computador. Ela é responsável por conectar e comunicar todos os componentes de hardware, como o processador, a memória RAM, a memória ROM, o disco rígido, a fonte de energia, o cooler, o drive óptico, o monitor, o teclado, o mouse e os periféricos. A placa-mãe é formada por um circuito impresso, que é uma placa de material isolante que contém trilhas de material condutor, que conduzem os sinais elétricos entre os componentes. A placa-mãe também contém vários slots, que são encaixes onde os componentes são conectados, e vários conectores, que são pontos onde os cabos são ligados. A placa-mãe tem um chipset, que é um conjunto de circuitos integrados que controlam as funções básicas da placa-mãe, como a comunicação entre o processador e a memória, a comunicação entre o processador e os dispositivos de entrada e saída, e a comunicação entre os dispositivos de armazenamento e os dispositivos de entrada e saída. A placa-mãe tem uma bateria, que é uma fonte de energia auxiliar que mantém as configurações da BIOS e do relógio do sistema quando o computador é desligado."
      ],
      "metadata": {
        "id": "Icw2bzSuDfRx"
      }
    },
    {
      "cell_type": "markdown",
      "source": [
        "## Software\n",
        "\n",
        "Software é o nome que se dá aos programas que controlam o funcionamento dos computadores. Eles são escritos em linguagens de programação, que são formas de expressar instruções e dados de forma lógica e estruturada. As linguagens de programação podem ser de alto nível, como Python, Java e C++, que são mais próximas da linguagem humana, ou de baixo nível, como Assembly e Binário, que são mais próximas da linguagem de máquina, que é a única que o hardware entende.\n",
        "\n",
        "Os softwares podem ser divididos em diferentes tipos, de acordo com a sua função, complexidade e relação com o hardware. Alguns dos tipos mais comuns de software são:\n",
        "\n",
        "* **Software de hardware**: São os softwares que permitem a comunicação entre o hardware e o software de sistema. Eles são chamados de drivers, que são programas que traduzem as instruções do software de sistema para o hardware, e vice-versa. Por exemplo, o driver de vídeo é o software que permite que o software de sistema envie as imagens para o monitor, e que o monitor envie as informações para o software de sistema.\n",
        "\n",
        "* **Software de sistema**: São os softwares que gerenciam os recursos do computador, como o processamento, o armazenamento, a memória e a comunicação. Eles são chamados de sistemas operacionais, que são os programas que coordenam o funcionamento de todos os outros programas. Por exemplo, o Windows, o Linux e o MacOS são sistemas operacionais que controlam o funcionamento dos computadores pessoais.\n",
        "\n",
        "* **Software de aplicação**: São os softwares que realizam tarefas específicas para o usuário, como editar documentos, navegar na internet, jogar, etc. Eles são chamados de aplicativos, que são os programas que interagem com o usuário por meio de interfaces gráficas ou de texto. Por exemplo, o Word, o Chrome e o Minecraft são aplicativos que permitem ao usuário criar documentos, acessar sites e se divertir, respectivamente.\n",
        "\n",
        "* **Software de banco de dados**: São os softwares que permitem o armazenamento, a organização, a consulta e a manipulação de grandes quantidades de dados. Eles são chamados de sistemas de gerenciamento de banco de dados, ou SGBD, que são os programas que criam e gerenciam os bancos de dados. Por exemplo, o MySQL, o Oracle e o MongoDB são SGBD que permitem ao usuário criar e acessar bancos de dados relacionais ou não relacionais, respectivamente.\n",
        "\n",
        "A importância do software para o computador é permitir que o computador realize as funções que o usuário deseja, de forma rápida, eficiente e segura. O software é o que dá sentido e utilidade ao hardware, pois sem ele, o hardware seria apenas um conjunto de peças sem função. O software é o que torna o computador uma ferramenta poderosa e versátil, capaz de realizar diversas tarefas, desde as mais simples até as mais complexas."
      ],
      "metadata": {
        "id": "qJ4a08I6MqpA"
      }
    },
    {
      "cell_type": "markdown",
      "source": [
        "## Encoding\n",
        "\n",
        "Encoding é o nome que se dá aos padrões de codificação de caracteres, ou seja, às formas de representar os caracteres em sequências de bits, que são os elementos básicos de informação que o computador entende. Existem vários tipos de encoding, como ASCII, UTF-8, ISO-8859-1, etc. Cada encoding tem uma tabela que associa cada caractere a uma sequência de bits. Por exemplo, no encoding ASCII, o caractere A é representado pela sequência de bits 01000001.\n",
        "\n",
        "A história do encoding está relacionada com a história da computação e da comunicação. Os primeiros encodings surgiram na década de 1940, com o surgimento dos primeiros computadores, que usavam válvulas eletrônicas para processar dados. Esses computadores usavam o código binário, que é a forma mais simples de encoding, que usa apenas dois símbolos: 0 e 1. O código binário é usado até hoje como a base de todos os outros encodings.\n",
        "\n",
        "Na década de 1950, com o avanço da tecnologia e da ciência da computação, surgiram os primeiros encodings que usavam mais de dois símbolos, como o código BCD, que usava 4 bits para representar os números de 0 a 9, e o código EBCDIC, que usava 8 bits para representar 256 caracteres, incluindo letras, números e símbolos. Esses encodings eram usados principalmente para processar dados numéricos e alfanuméricos em computadores de grande porte.\n",
        "\n",
        "Na década de 1960, com o surgimento da internet e da comunicação entre computadores, surgiu o encoding ASCII, que usava 7 bits para representar 128 caracteres, sendo 95 imprimíveis e 33 de controle. O ASCII foi o primeiro encoding padronizado e universal, que permitiu a troca de dados entre diferentes sistemas e dispositivos. O ASCII foi usado principalmente para representar textos em inglês e em outras línguas que usam o alfabeto latino sem acentos.\n",
        "\n",
        "Na década de 1970, com a expansão da internet e da globalização, surgiram os primeiros encodings que usavam 8 bits para representar 256 caracteres, como o ISO-8859-1, que usava 191 caracteres imprimíveis e 65 de controle. Esses encodings foram criados para representar os caracteres acentuados e de outros idiomas que usam o alfabeto latino, como o português, o espanhol, o francês, etc. Esses encodings eram compatíveis com o ASCII, mas não entre si, o que causava problemas de interoperabilidade e de internacionalização.\n",
        "\n",
        "Na década de 1980, com o surgimento dos computadores pessoais e das interfaces gráficas, surgiram os primeiros encodings que usavam mais de 8 bits para representar mais de 256 caracteres, como o Unicode, que usava 16 bits para representar mais de 65 mil caracteres, incluindo os caracteres de vários outros idiomas, como o chinês, o japonês, o árabe, etc. O Unicode foi criado para ser um encoding universal, que pudesse representar todos os caracteres existentes e futuros. O Unicode foi usado principalmente para representar textos em sistemas operacionais e em aplicativos gráficos.\n",
        "\n",
        "Na década de 1990, com o avanço da internet e da multimídia, surgiram os primeiros encodings que usavam um número variável de bits para representar os caracteres, como o UTF-8, que usava entre 1 e 4 bytes para representar mais de 1 milhão de caracteres, incluindo todos os caracteres do ASCII e do Unicode. O UTF-8 foi criado para ser um encoding eficiente, que pudesse representar os caracteres de forma compacta e compatível. O UTF-8 foi usado principalmente para representar textos na internet e em sistemas operacionais modernos.\n",
        "\n",
        "Na década de 2000, com o surgimento das redes sociais e da comunicação instantânea, surgiram os primeiros encodings que usavam mais de 4 bytes para representar os caracteres, como o UTF-16, que usava 2 ou 4 bytes para representar mais de 1 milhão de caracteres, e o UTF-32, que usava 4 bytes para representar mais de 2 bilhões de caracteres. Esses encodings foram criados para representar os caracteres de forma simples e uniforme. Esses encodings foram usados principalmente para representar textos em bancos de dados e em aplicativos de processamento de texto.\n",
        "\n",
        "Na década de 2010, com o surgimento dos emojis e dos stickers, surgiram os primeiros encodings que usavam mais de 32 bits para representar os caracteres, como o UTF-64, que usava 8 bytes para representar mais de 18 quintilhões de caracteres, e o UTF-128, que usava 16 bytes para representar mais de 3 septilhões de caracteres. Esses encodings foram criados para representar os caracteres de forma criativa e divertida. Esses encodings foram usados principalmente para representar textos em aplicativos de mensagens e de redes sociais.\n",
        "\n",
        "Os **softwares usam o encoding** para salvar e ler os arquivos de texto, que são arquivos que contêm apenas caracteres. Quando um software salva um arquivo de texto, ele converte os caracteres em sequências de bits de acordo com o encoding escolhido, e grava essas sequências em um dispositivo de armazenamento, **como o disco rígido ou o SSD**. Quando um software lê um arquivo de texto, ele faz o processo inverso: ele lê as sequências de bits do dispositivo de armazenamento, e converte essas sequências em caracteres de acordo com o encoding usado, e mostra esses caracteres na tela ou em outro dispositivo.\n",
        "\n",
        "Na **memória RAM**, os arquivos de texto também são armazenados em sequências de bits, mas de forma temporária.\n",
        "\n",
        "Alguns exemplos de padrões de encoding são:\n",
        "\n",
        "> - ASCII: É o encoding mais antigo e mais simples, criado em 1963. Ele usa 7 bits para representar 128 caracteres, sendo 95 imprimíveis e 33 de controle. Ele é usado principalmente para representar o alfabeto inglês e alguns símbolos básicos, mas não tem caracteres acentuados ou de outros idiomas.\n",
        "\n",
        "> - UTF-8: É o encoding mais usado atualmente, criado em 1992. Ele usa entre 1 e 4 bytes para representar mais de 1 milhão de caracteres, incluindo todos os caracteres do ASCII e de vários outros idiomas, como o português, o chinês, o árabe, etc. Ele é compatível com o ASCII, ou seja, os caracteres do ASCII têm a mesma representação em UTF-8. Ele é usado principalmente para representar textos na internet e em sistemas operacionais modernos.\n",
        "\n",
        "> - ISO-8859-1: É um encoding criado em 1987, que usa 8 bits para representar 256 caracteres, sendo 191 imprimíveis e 65 de controle. Ele é usado principalmente para representar o alfabeto latino, incluindo os caracteres acentuados do português, do espanhol, do francês, etc. Ele é compatível com o ASCII, mas não com o UTF-8. Ele é usado principalmente em sistemas operacionais antigos e em documentos legados.\n",
        "\n",
        "Os padrões atuais de encoding baseados no Unicode são os que usam o Unicode como base, como o UTF-8, o UTF-16 e o UTF-32. Esses encodings são capazes de representar todos os caracteres do Unicode, que é um padrão que atribui um código numérico a cada caractere de todas as línguas do mundo. O Unicode tem mais de 140 mil caracteres, incluindo letras, números, símbolos, emojis, etc. O Unicode é o padrão mais usado atualmente para a troca de dados entre diferentes sistemas e dispositivos, especialmente na internet e em sistemas operacionais modernos.\n",
        "\n",
        "A diferença entre os encodings baseados no Unicode é a forma como eles armazenam os códigos dos caracteres em sequências de bits, que são os elementos básicos de informação que o computador entende. Cada bit pode ter dois valores: 0 ou 1. Cada sequência de bits tem um tamanho, que é medido em bytes. Um byte é um conjunto de 8 bits. Quanto maior o tamanho da sequência de bits, mais caracteres ela pode representar, mas também mais espaço ela ocupa na memória ou no disco.\n",
        "\n",
        "O UTF-8 é o encoding mais popular e eficiente, pois ele usa um número variável de bytes para representar os caracteres, de acordo com a sua frequência e complexidade. Os caracteres mais comuns e simples, como os do alfabeto latino, usam apenas 1 byte, enquanto os caracteres mais raros e complexos, como os ideogramas chineses, podem usar até 4 bytes. O UTF-8 é compatível com o ASCII, que é o encoding mais antigo e simples, que usa 1 byte para representar 128 caracteres. O UTF-8 é usado principalmente para representar textos na internet e em sistemas operacionais modernos.\n",
        "\n",
        "O UTF-16 é o encoding mais simples e uniforme, pois ele usa um tamanho fixo de 2 bytes para representar os caracteres, exceto os que estão fora do plano básico multilíngue, que usam 4 bytes. O UTF-16 pode representar mais de 65 mil caracteres, incluindo os mais usados em várias línguas, mas não é compatível com o ASCII. O UTF-16 é usado principalmente para representar textos em bancos de dados e em aplicativos de processamento de texto.\n",
        "\n",
        "O UTF-32 é o encoding mais criativo e divertido, pois ele usa um tamanho fixo de 4 bytes para representar os caracteres, sem exceções. O UTF-32 pode representar mais de 2 bilhões de caracteres, incluindo os emojis e os stickers, mas não é compatível com o ASCII nem com o UTF-16. O UTF-32 é usado principalmente para representar textos em aplicativos de mensagens e de redes sociais.\n",
        "\n"
      ],
      "metadata": {
        "id": "NotEtgG1OH7n"
      }
    },
    {
      "cell_type": "markdown",
      "source": [
        "### Importância do Encoding para área de dados\n",
        "\n",
        "A importância de entender o encoding para a área de dados é que ele permite que os dados sejam armazenados, lidos, manipulados e exibidos de forma correta, sem perda de informação ou distorção de caracteres. O encoding é essencial para garantir a qualidade, a integridade e a interoperabilidade dos dados, especialmente quando eles vêm de diferentes fontes, sistemas e dispositivos. O encoding também afeta o desempenho, a segurança e a eficiência dos algoritmos e das aplicações que usam os dados.\n",
        "\n",
        "Para trabalhar com dados em Python por exemplo, é preciso saber qual é o encoding do arquivo ou da fonte de dados, e qual é o encoding desejado para a saída ou o destino dos dados. O Python tem várias funções e bibliotecas que permitem ler, escrever, converter e detectar o encoding dos dados. Alguns exemplos de comandos do Python para lidar com o encoding são:\n",
        "\n"
      ],
      "metadata": {
        "id": "aSXUMgW8W4U7"
      }
    },
    {
      "cell_type": "code",
      "source": [
        "\"\"\"Para escrever um arquivo CSV com um encoding específico, como o utf-8, pode-se usar a\n",
        "função to_csv da biblioteca pandas, passando o argumento encoding=‘utf-8’.\"\"\"\n",
        "\n",
        "import pandas as pd\n",
        "\n",
        "df = pd.DataFrame({'nome': ['João', 'Maria', 'José'], 'idade': [25, 30, 35]})\n",
        "df.to_csv('dados.csv', encoding='utf-8')"
      ],
      "metadata": {
        "id": "0cFZXyRMXfDV"
      },
      "execution_count": null,
      "outputs": []
    },
    {
      "cell_type": "code",
      "source": [
        "\"\"\"Para ler um arquivo CSV com um encoding específico, como o latin-1, pode-se usar a\n",
        "função read_csv da biblioteca pandas, passando o argumento encoding=‘latin-1’\"\"\"\n",
        "\n",
        "import pandas as pd\n",
        "\n",
        "df = pd.read_csv('dados.csv', encoding='latin-1')\n",
        "print(df)"
      ],
      "metadata": {
        "id": "WFlRB2vRXOP0"
      },
      "execution_count": null,
      "outputs": []
    },
    {
      "cell_type": "code",
      "source": [
        "#continuação do item acima\n",
        "df2 = pd.read_csv('dados.csv', encoding='utf-8')\n",
        "print(df2)"
      ],
      "metadata": {
        "id": "L01zqtkcZHDc"
      },
      "execution_count": null,
      "outputs": []
    },
    {
      "cell_type": "code",
      "source": [
        "\"\"\"Para converter um texto de um encoding para outro, pode-se usar a função encode da classe str,\n",
        "passando o nome do encoding desejado. Por exemplo, para converter um texto do latin-1 para o utf-8,\n",
        "pode-se fazer:\"\"\"\n",
        "\n",
        "texto = \"Olá, mundo!\"\n",
        "texto_utf8 = texto.encode('utf-8')\n",
        "print(texto_utf8)\n",
        "\n",
        "texto = \"Ola, mundo!\"\n",
        "texto_utf8 = texto.encode('utf-8')\n",
        "print(texto_utf8)"
      ],
      "metadata": {
        "id": "T_VoaSR0X4wJ"
      },
      "execution_count": null,
      "outputs": []
    },
    {
      "cell_type": "markdown",
      "source": [
        "### Arquivos Texto e Binários\n",
        "\n",
        "Codificação (encoding) está diretamente relacionada com a forma como os dados são representados em arquivos.\n",
        "\n",
        "**Arquivos de Texto**: Os arquivos de texto contêm dados representados linha a linha, geralmente como uma sequência de caracteres.\n",
        "\n",
        "* Conteúdo: São utilizados para armazenar informações legíveis por humanos, como código-fonte, documentos, scripts, configurações e mensagens.\n",
        "\n",
        "* Codificação: Os arquivos de texto usam uma codificação específica para representar caracteres. A codificação mais comum é UTF-8 (Unicode Transformation Format 8-bit).\n",
        "\n",
        "* Caracteres: Cada caractere (letra, número, símbolo) é mapeado para um valor numérico (um byte ou mais).\n",
        "Interpretação: Quando você abre um arquivo de texto, o programa (por exemplo, um editor de texto) decodifica os bytes usando a codificação especificada para exibir os caracteres corretos.\n",
        "\n",
        "Exemplo: Se você escreve “Olá” em um arquivo de texto, ele é armazenado como uma sequência de bytes que representa esses caracteres.\n",
        "\n",
        "**Arquivos Binários**: Os arquivos binários são representados por uma sequência de bytes, sem o conceito de quebra de linha.\n",
        "\n",
        "* Conteúdo: Armazenam dados complexos, como imagens, executáveis, bancos de dados, arquivos compactados e outros formatos específicos.\n",
        "\n",
        "* Codificação: Os arquivos binários não têm uma codificação específica. Eles contêm dados brutos, como imagens, executáveis ou qualquer outro tipo de informação.\n",
        "\n",
        "* Bytes: Cada byte em um arquivo binário pode representar qualquer valor, não apenas caracteres.\n",
        "\n",
        "* Interpretação: A interpretação dos dados em um arquivo binário depende do formato específico (por exemplo, um visualizador de imagens interpreta os bytes como pixels).\n",
        "\n",
        "Exemplo: Um arquivo de imagem (como um .jpg) é um arquivo binário que contém informações sobre os pixels da imagem.\n",
        "\n",
        "**Contextos de Uso:**\n",
        "\n",
        "* Arquivos de Texto:\n",
        "Linguagens de Programação: Arquivos de código-fonte (por exemplo, .c, .py, .java) são frequentemente arquivos de texto.\n",
        "\n",
        "* Configurações: Arquivos de configuração (como .ini, .cfg) são armazenados como texto.\n",
        "\n",
        "* Documentos: Arquivos .txt, .doc, .md contêm texto legível.\n",
        "\n",
        "**Arquivos Binários:**\n",
        "\n",
        "* Multimídia: Imagens, vídeos, áudio (.jpg, .mp4, .wav).\n",
        "Executáveis: Arquivos executáveis de programas (.exe, .dll).\n",
        "\n",
        "* Bancos de Dados: Arquivos de bancos de dados (.db, .sqlite).\n",
        "\n",
        "* Formatos Específicos: PDFs, arquivos compactados (.zip, .tar).\n",
        "\n",
        "Arquivos Públicos e Privados com Leitura Própria de Patente:\n",
        "\n",
        "* Públicos: Arquivos públicos podem ser acessados por qualquer pessoa. Por exemplo, documentos de domínio público ou informações disponíveis online.\n",
        "\n",
        "* Privados: Arquivos privados têm restrições de acesso. A leitura própria de patente refere-se a arquivos que só podem ser lidos por um sistema específico ou por pessoas autorizadas. Isso é comum em sistemas de gerenciamento de direitos digitais (DRM) ou proteção de propriedade intelectual.\n",
        "\n",
        "**Importância do Encoding:**\n",
        "\n",
        "Escolher a codificação correta é crucial para garantir que os dados sejam interpretados corretamente.\n",
        "\n",
        "Se você abrir um arquivo de texto com a codificação errada, os caracteres podem ser exibidos incorretamente.\n",
        "\n",
        "Alguns formatos de arquivo (como HTML, XML) também especificam a codificação no próprio arquivo.\n",
        "\n",
        "Em resumo, a codificação afeta como os dados são armazenados e interpretados em arquivos. É importante escolher a codificação apropriada para garantir que os dados sejam lidos corretamente pelos programas que os acessam.\n"
      ],
      "metadata": {
        "id": "2CBY1Y6wJZDG"
      }
    },
    {
      "cell_type": "markdown",
      "source": [
        "# Capitulo 02 - Redes de computadores"
      ],
      "metadata": {
        "id": "j0CtxXZUlwbp"
      }
    },
    {
      "cell_type": "markdown",
      "source": [
        "## Comunicação de Dados\n",
        "\n",
        "A comunicação de dados é o processo de troca de informações entre dois ou mais dispositivos computacionais, por meio de um sistema de comunicação. Esse sistema é composto por um conjunto de regras e modelos que definem como os dados devem ser formatados, transmitidos e recebidos. Os dados podem ser representados por sinais elétricos, ópticos, sonoros ou eletromagnéticos, dependendo do meio de transmissão utilizado.\n",
        "\n",
        "Um exemplo de comunicação de dados na área de dados é quando um cientista de dados envia uma consulta SQL para um banco de dados remoto, usando um protocolo de comunicação como o JDBC. O banco de dados recebe a consulta, processa os dados e retorna o resultado para o cientista de dados, que pode visualizar e analisar os dados em seu computador."
      ],
      "metadata": {
        "id": "MKC9uykpkZWE"
      }
    },
    {
      "cell_type": "markdown",
      "source": [
        "## História da internet\n",
        "\n",
        "A internet é uma rede global de redes de computadores, que permite a comunicação e o compartilhamento de informações entre pessoas e organizações em todo o mundo. A internet surgiu na década de 1960, como um projeto militar dos Estados Unidos, chamado ARPANET, que tinha como objetivo criar uma rede de comunicação resistente a falhas e ataques. A ARPANET conectava inicialmente quatro universidades americanas, usando o protocolo NCP.\n",
        "\n",
        "Na década de 1970, a ARPANET se expandiu e se integrou com outras redes, como a SATNET (rede via satélite) e a PACKET RADIO NETWORK (rede via rádio). Nessa época, surgiu o protocolo TCP/IP, que se tornou o padrão de comunicação na internet. O TCP/IP divide os dados em pacotes, que são enviados e recebidos por diferentes camadas de software e hardware.\n",
        "\n",
        "Na década de 1980, a internet se popularizou entre as instituições acadêmicas e de pesquisa, com o surgimento de serviços como o e-mail, o FTP e o DNS. O DNS é um sistema que traduz os nomes de domínio (como www.google.com) em endereços IP (como 172.217.28.132), que são os identificadores únicos dos dispositivos na internet.\n",
        "\n",
        "Na década de 1990, a internet se tornou acessível ao público em geral, com o desenvolvimento de tecnologias como o HTML, o HTTP e o WWW. O HTML é uma linguagem de marcação que define a estrutura e o conteúdo das páginas web. O HTTP é um protocolo de comunicação que define como as páginas web são solicitadas e enviadas entre os navegadores e os servidores web. O WWW é um sistema de informação que organiza e interliga as páginas web por meio de hiperlinks."
      ],
      "metadata": {
        "id": "_wJ-SoT3kmTF"
      }
    },
    {
      "cell_type": "markdown",
      "source": [
        "## Modelo de comunicação\n",
        "\n",
        "O modelo de comunicação é uma abstração que representa os elementos e as funções envolvidos em um processo de comunicação de dados. Um dos modelos mais conhecidos é o modelo de Shannon, que define os seguintes componentes:\n",
        "\n",
        "* Emissor: é o dispositivo que gera e envia os dados para o receptor.\n",
        "\n",
        "* Receptor: é o dispositivo que recebe e interpreta os dados enviados pelo emissor.\n",
        "\n",
        "* Canal: é o meio físico ou lógico que permite a transmissão dos dados entre o emissor e o receptor.\n",
        "\n",
        "* Mensagem: é a informação que é transmitida pelo emissor ao receptor.\n",
        "\n",
        "* Código: é o conjunto de regras e símbolos que são usados para representar a mensagem.\n",
        "\n",
        "* Ruído: é qualquer interferência ou distorção que afeta a qualidade da mensagem durante a transmissão.\n",
        "\n",
        "* Feedback: é a resposta do receptor ao emissor, confirmando ou solicitando a correção da mensagem.\n",
        "\n",
        "Um exemplo de aplicação do modelo de Shannon na área de dados é quando um BI envia um relatório de dados para um cliente, usando um e-mail. O BI é o emissor, o cliente é o receptor, o e-mail é o canal, o relatório é a mensagem, o formato do relatório (como PDF ou Excel) é o código, a perda ou a alteração dos dados durante o envio é o ruído e a confirmação ou a solicitação de ajustes do cliente é o feedback."
      ],
      "metadata": {
        "id": "y3wiVx9zks0R"
      }
    },
    {
      "cell_type": "markdown",
      "source": [
        "## Redes de comunicação de dados\n",
        "\n",
        "As redes de comunicação de dados são sistemas que permitem a comunicação de dados entre dispositivos computacionais, usando um conjunto de regras e modelos que definem como os dados devem ser formatados, transmitidos e recebidos. As redes de comunicação de dados podem ser classificadas de acordo com diversos critérios, como:\n",
        "\n",
        "* Escopo: é a abrangência geográfica da rede, que pode ser local (LAN), metropolitana (MAN), de longa distância (WAN) ou pessoal (PAN).\n",
        "\n",
        "* Topologia: é a forma como os dispositivos estão fisicamente ou logicamente conectados na rede, que pode ser em estrela, anel, barramento, árvore ou malha.\n",
        "\n",
        "* Arquitetura: é a forma como os dispositivos se comunicam na rede, que pode ser em ponto a ponto, multiponto, cliente-servidor ou peer-to-peer.\n",
        "\n",
        "* Tecnologia: é o conjunto de protocolos e meios de transmissão que são usados na rede, que podem ser com fio (como cabo coaxial, par trançado ou fibra óptica) ou sem fio (como rádio, infravermelho ou micro-ondas)."
      ],
      "metadata": {
        "id": "G_ZL_CZMlV9Y"
      }
    },
    {
      "cell_type": "markdown",
      "source": [
        "## Modelo de referência\n",
        "\n",
        "O modelo de referência é uma abstração que representa as funções e as camadas envolvidas em um processo de comunicação de dados. Um dos modelos mais conhecidos é o modelo OSI, que define as seguintes camadas:\n",
        "\n",
        "* Camada física: é a camada responsável pela transmissão dos bits entre os dispositivos, usando os meios de transmissão e os padrões físicos.\n",
        "\n",
        "* Camada de enlace: é a camada responsável pela organização dos bits em quadros, usando os protocolos de enlace e os endereços físicos.\n",
        "\n",
        "* Camada de rede: é a camada responsável pelo roteamento dos pacotes entre os dispositivos, usando os protocolos de rede e os endereços lógicos.\n",
        "\n",
        "* Camada de transporte: é a camada responsável pela segmentação e pelo controle dos dados entre os dispositivos, usando os protocolos de transporte e os números de porta.\n",
        "\n",
        "* Camada de sessão: é a camada responsável pelo estabelecimento, pelo gerenciamento e pelo encerramento das sessões de comunicação entre os dispositivos, usando os protocolos de sessão e os identificadores de sessão.\n",
        "\n",
        "* Camada de apresentação: é a camada responsável pela codificação, pela compressão e pela criptografia dos dados entre os dispositivos, usando os formatos de dados e os algoritmos de apresentação.\n",
        "\n",
        "* Camada de aplicação: é a camada responsável pela interação dos dados com os programas de aplicação entre os dispositivos, usando os protocolos de aplicação e os serviços de rede.\n",
        "\n",
        "Um exemplo de aplicação do modelo OSI na área de dados é quando um engenheiro de dados usa um navegador web para acessar um site de dados, usando o protocolo HTTPS. O navegador web é um programa de aplicação que usa o protocolo HTTPS na camada de aplicação. O protocolo HTTPS usa o protocolo SSL na camada de apresentação, que criptografa os dados. O protocolo SSL usa o protocolo TCP na camada de transporte, que segmenta e controla os dados. O protocolo TCP usa o protocolo IP na camada de rede, que roteia os pacotes. O protocolo IP usa o protocolo Ethernet na camada de enlace, que organiza os quadros. O protocolo Ethernet usa o cabo de rede na camada física, que transmite os bits."
      ],
      "metadata": {
        "id": "gemkU7VSliPq"
      }
    },
    {
      "cell_type": "markdown",
      "source": [
        "## Modelo de Protocolo\n",
        "\n",
        "O modelo de protocolo é uma abstração que representa os protocolos e as camadas envolvidos em um processo de comunicação de dados. Um dos modelos mais conhecidos é o modelo TCP/IP, que define as seguintes camadas:\n",
        "\n",
        "* Camada de aplicação: é a camada que engloba as funções das camadas de aplicação, apresentação e sessão do modelo OSI, usando protocolos de alto nível, como HTTP, FTP, SMTP, DNS, entre outros. Esses protocolos permitem a interação dos dados com os programas de aplicação, como navegadores, clientes de e-mail, servidores web, etc.\n",
        "\n",
        "* Camada de transporte: é a camada que corresponde à camada de transporte do modelo OSI, usando protocolos como TCP e UDP. Esses protocolos garantem a segmentação, o controle e a confiabilidade dos dados entre os dispositivos, usando números de porta para identificar os processos de comunicação.\n",
        "\n",
        "* Camada de internet: é a camada que corresponde à camada de rede do modelo OSI, usando protocolos como IP, ICMP, ARP, entre outros. Esses protocolos definem o endereçamento lógico dos dispositivos na rede, usando endereços IP, e o roteamento dos pacotes entre as redes, usando roteadores e tabelas de roteamento.\n",
        "\n",
        "* Camada de acesso à rede: é a camada que engloba as funções das camadas física e de enlace do modelo OSI, usando protocolos como Ethernet, Wi-Fi, PPP, entre outros. Esses protocolos definem o endereçamento físico dos dispositivos na rede, usando endereços MAC, e a transmissão dos quadros entre os dispositivos, usando meios físicos ou sem fio."
      ],
      "metadata": {
        "id": "QWavrHFNmDHm"
      }
    },
    {
      "cell_type": "markdown",
      "source": [
        "## Organizações de normatização\n",
        "\n",
        "As organizações de normatização são entidades que definem e publicam padrões e recomendações para as redes de computadores, visando garantir a interoperabilidade, a qualidade e a segurança das comunicações de dados. Algumas das principais organizações de normatização são:\n",
        "\n",
        "* ISO: (International Organization for Standardization) É uma organização internacional que define padrões para diversos domínios, incluindo as redes de computadores. Um dos seus padrões mais conhecidos é o modelo OSI, que define as sete camadas de comunicação de dados.\n",
        "\n",
        "* ITU: (International Telecommunication Union) É uma agência especializada da ONU que define padrões para as telecomunicações, incluindo as redes de computadores. Um dos seus padrões mais conhecidos é o V.35, que define uma interface física para a transmissão de dados entre dispositivos.\n",
        "\n",
        "* IETF: (Internet Engineering Task Force) É uma organização aberta que define padrões para a internet, incluindo as redes de computadores. Um dos seus padrões mais conhecidos é o RFC, que define os protocolos e as tecnologias usados na internet, como o TCP/IP, o HTTP, o DNS, entre outros.\n",
        "\n",
        "* IEEE: (Institute of Electrical and Electronics Engineers) É uma organização profissional que define padrões para as áreas de engenharia elétrica e eletrônica, incluindo as redes de computadores. Um dos seus padrões mais conhecidos é o 802, que define as tecnologias e os protocolos usados nas redes locais e metropolitanas, como o Ethernet, o Wi-Fi, o Bluetooth, entre outros."
      ],
      "metadata": {
        "id": "rOBhVJz0mdu3"
      }
    },
    {
      "cell_type": "markdown",
      "source": [
        "## Transmissão dos dados\n",
        "\n",
        "A transmissão de dados é o processo de envio de dados digitais ou analógicos através de um meio de comunicação para um ou mais dispositivos de computação, rede, comunicação ou eletrônicos1. Os dados podem ser representados por sinais eletromagnéticos, como tensão elétrica, onda de rádio, microondas, sinais infravermelhos, etc. Os meios de comunicação podem ser com fio (como cabo coaxial, par trançado ou fibra óptica) ou sem fio (como rádio, infravermelho ou micro-ondas).\n",
        "\n",
        "Entender a transmissão de dados é importante para a área de dados, pois afeta a forma como os dados são acessados, processados e analisados. Por exemplo, a transmissão de dados afeta a busca pelos dados em diversos servidores, pois depende da velocidade, da capacidade, da confiabilidade e da segurança dos meios de comunicação. Se a transmissão de dados for lenta, limitada, instável ou vulnerável, a busca pelos dados pode ser demorada, incompleta, incorreta ou comprometida.\n",
        "\n",
        "A volumetria dos dados que conseguem ser transmitidos por segundo depende do tipo de meio de comunicação, do tipo de sinal e do tipo de protocolo usados. A volumetria dos dados é medida em bits por segundo (bps), que é a quantidade de bits que podem ser transmitidos em um segundo. Quanto maior a frequência e a amplitude do sinal, maior a capacidade de transmissão de dados. Quanto mais simples e eficiente o protocolo, maior a velocidade de transmissão de dados.\n",
        "\n",
        "Algumas redes de comunicação de dados e suas respectivas volumetrias são:\n",
        "\n",
        "* Rede local (LAN): é uma rede que conecta dispositivos em uma área geográfica limitada, como um escritório, uma escola ou uma casa. A LAN usa meios de comunicação com fio ou sem fio, como Ethernet, Wi-Fi ou Bluetooth. A volumetria dos dados na LAN pode variar de 10 Mbps a 10 Gbps, dependendo da tecnologia usada.\n",
        "\n",
        "* Rede de longa distância (WAN): é uma rede que conecta dispositivos em uma área geográfica ampla, como um país, um continente ou o mundo. A WAN usa meios de comunicação com fio ou sem fio, como cabo coaxial, fibra óptica, microondas ou satélite. A volumetria dos dados na WAN pode variar de 64 Kbps a 100 Gbps, dependendo da tecnologia usada.\n",
        "\n",
        "* Rede pessoal (PAN): é uma rede que conecta dispositivos em uma área geográfica restrita, como um indivíduo, um grupo ou um dispositivo. A PAN usa meios de comunicação sem fio, como Bluetooth, infravermelho ou NFC. A volumetria dos dados na PAN pode variar de 1 Mbps a 10 Mbps, dependendo da tecnologia usada."
      ],
      "metadata": {
        "id": "7GcXAYg3o927"
      }
    },
    {
      "cell_type": "markdown",
      "source": [
        "## Protocolos TCP e UDP\n",
        "\n",
        "TCP e UDP são dois protocolos de comunicação que operam na camada de transporte da internet. Eles têm características e aplicações diferentes, dependendo do tipo de dados que se quer transmitir.\n",
        "\n",
        "**TCP**\n",
        "\n",
        "O TCP (Transmission Control Protocol) é um protocolo orientado à conexão, que garante a integridade, a ordem e a confiabilidade dos dados entre os dispositivos. O TCP usa um mecanismo de handshake triplo para estabelecer uma conexão entre o cliente e o servidor, e um mecanismo de confirmação e retransmissão para verificar e corrigir possíveis erros na transmissão. O TCP também usa um mecanismo de controle de fluxo e de congestionamento para ajustar a velocidade e a quantidade de dados enviados, de acordo com a capacidade da rede.\n",
        "\n",
        "O TCP é adequado para aplicações que exigem a entrega completa e correta dos dados, como navegação web, transferência de arquivos, e-mail, etc. Alguns exemplos de protocolos que usam o TCP são o HTTP, o FTP, o SMTP, o SSH, entre outros.\n",
        "\n",
        "**UDP**\n",
        "\n",
        "O UDP (User Datagram Protocol) é um protocolo sem conexão, que não garante a integridade, a ordem e a confiabilidade dos dados entre os dispositivos. O UDP não usa nenhum mecanismo de handshake, confirmação, retransmissão, controle de fluxo ou de congestionamento. O UDP apenas envia os datagramas para o destino, sem se preocupar se eles chegaram ou não, ou se chegaram na ordem correta.\n",
        "\n",
        "O UDP é adequado para aplicações que toleram a perda ou a desordem dos dados, mas que exigem rapidez e baixa latência, como jogos online, streaming de áudio e vídeo, telefonia IP, etc. Alguns exemplos de protocolos que usam o UDP são o DNS, o NTP, o RTP, o DHCP, entre outros.\n",
        "\n",
        "**Cliente e servidor**\n",
        "\n",
        "Cliente e servidor são dois tipos de dispositivos que se comunicam na rede, usando um modelo de requisição e resposta. O cliente é o dispositivo que inicia a comunicação, enviando uma requisição para o servidor. O servidor é o dispositivo que recebe a requisição, processa os dados e envia uma resposta para o cliente. O cliente e o servidor podem usar o TCP ou o UDP, dependendo da aplicação e do tipo de dados que se quer transmitir.\n",
        "\n",
        "Um exemplo de comunicação entre cliente e servidor é quando um usuário usa um navegador web (cliente) para acessar um site (servidor), usando o protocolo HTTP (que usa o TCP). O navegador envia uma requisição HTTP para o servidor, solicitando a página web desejada. O servidor recebe a requisição, verifica se a página existe e envia uma resposta HTTP para o navegador, contendo a página ou um código de status. O navegador recebe a resposta, verifica se há algum erro e exibe a página para o usuário.\n",
        "\n",
        "**Diferenças, prós e contras entre TCP e UDP**\n",
        "\n",
        "As principais diferenças entre TCP e UDP são:\n",
        "\n",
        "* O TCP é orientado à conexão, enquanto o UDP é sem conexão.\n",
        "\n",
        "* O TCP garante a integridade, a ordem e a confiabilidade dos dados, enquanto o UDP não garante nada disso.\n",
        "\n",
        "* O TCP usa mecanismos de handshake, confirmação, retransmissão, controle de fluxo e de congestionamento, enquanto o UDP não usa nenhum desses mecanismos.\n",
        "\n",
        "* O TCP é mais lento e mais complexo que o UDP, enquanto o UDP é mais rápido e mais simples que o TCP.\n",
        "\n",
        "Os prós e contras entre TCP e UDP dependem do tipo de aplicação e do tipo de dados que se quer transmitir. De forma geral, pode-se dizer que:\n",
        "\n",
        "* O TCP é mais vantajoso para aplicações que exigem a entrega completa e correta dos dados, mas que podem tolerar um pouco de atraso ou variação na velocidade de transmissão. O TCP é mais desvantajoso para aplicações que exigem rapidez e baixa latência, mas que podem tolerar a perda ou a desordem dos dados.\n",
        "\n",
        "* O UDP é mais vantajoso para aplicações que exigem rapidez e baixa latência, mas que podem tolerar a perda ou a desordem dos dados. O UDP é mais desvantajoso para aplicações que exigem a entrega completa e correta dos dados, mas que não podem tolerar um pouco de atraso ou variação na velocidade de transmissão."
      ],
      "metadata": {
        "id": "suLzR8umrwi6"
      }
    },
    {
      "cell_type": "markdown",
      "source": [
        "## Evolução até a era da Big Data\n",
        "\n",
        "A era da big data, data science e inteligência artificial é caracterizada pelo aumento exponencial da quantidade, da velocidade e da variedade dos dados gerados, processados e analisados por diversas fontes, como sensores, dispositivos móveis, redes sociais, plataformas de nuvem, etc. Esses dados têm um grande valor para a tomada de decisões, a inovação e a solução de problemas em diversas áreas, como saúde, educação, negócios, segurança, etc.\n",
        "\n",
        "Para atender a alta demanda de tráfego de dados dessa era, os dispositivos, protocolos, normativas e outros componentes das redes de computadores tiveram que evoluir ao longo do tempo, buscando aumentar a capacidade, a velocidade, a confiabilidade e a segurança das comunicações de dados. Algumas das principais evoluções foram:\n",
        "\n",
        "* O surgimento e a popularização da internet.\n",
        "\n",
        "* O desenvolvimento e a difusão das redes sem fio.\n",
        "\n",
        "* A inovação e a padronização dos protocolos de comunicação.\n",
        "\n",
        "* A criação e a atualização das normativas e das organizações de normatização\n",
        "\n",
        "Ou seja, tudo que já falamos anteriromente, porém o que hoje é usado para garantir que os dados sejam trafegados com segurança pelas redes são diversas técnicas e tecnologias que visam proteger os dados contra ataques, interceptações, alterações, perdas ou vazamentos. Algumas dessas técnicas e tecnologias são:\n",
        "\n",
        "* A criptografia, que é o processo de transformar os dados em um código secreto, que só pode ser lido por quem possui a chave de decodificação. A criptografia pode ser aplicada tanto aos dados em repouso (armazenados) quanto aos dados em trânsito (transmitidos). A criptografia pode ser simétrica, quando usa a mesma chave para codificar e decodificar os dados, ou assimétrica, quando usa chaves diferentes para cada função. Alguns exemplos de algoritmos de criptografia são o AES, o RSA, o ECC, o DES, etc.\n",
        "\n",
        "* A autenticação, que é o processo de verificar a identidade de um usuário, dispositivo ou serviço que deseja acessar ou transmitir os dados. A autenticação pode ser baseada em algo que o usuário sabe (como uma senha ou um PIN), algo que o usuário tem (como um cartão ou um token) ou algo que o usuário é (como uma impressão digital ou uma íris). A autenticação pode ser simples, quando usa apenas um fator, ou forte, quando usa mais de um fator. Alguns exemplos de métodos de autenticação são o login e senha, o certificado digital, o OTP, o biometria, etc.\n",
        "\n",
        "* A autorização, que é o processo de definir quais são os direitos e as permissões de um usuário, dispositivo ou serviço que deseja acessar ou transmitir os dados. A autorização pode ser baseada em regras, papéis, atributos ou políticas, que especificam o que cada entidade pode ou não fazer com os dados. A autorização pode ser estática, quando é definida previamente, ou dinâmica, quando é definida de acordo com o contexto. Alguns exemplos de sistemas de autorização são o ACL, o RBAC, o ABAC, o PBAC, etc.\n",
        "\n",
        "**A limitação hoje**\n",
        "\n",
        "A limitação hoje em relação ao crescimento dos dados e se a rede atual consegue atender as demandas de dados crescentes é um desafio que envolve diversos aspectos, como técnicos, econômicos, sociais e ambientais. Alguns desses aspectos são:\n",
        "\n",
        "* A infraestrutura, que é o conjunto de equipamentos, cabos, antenas, roteadores, servidores, data centers, etc, que permitem a transmissão e o armazenamento dos dados. A infraestrutura precisa ser capaz de suportar o volume, a velocidade e a variedade dos dados, além de ser resiliente, escalável e eficiente. A infraestrutura também precisa ser acessível, equitativa e sustentável, de forma a garantir a inclusão, a justiça e a preservação dos recursos naturais.\n",
        "\n",
        "* A qualidade, que é o conjunto de características e propriedades dos dados, que determinam o seu valor e a sua adequação para um determinado propósito. A qualidade dos dados pode ser avaliada por dimensões como a acurácia, a completude, a consistência, a atualidade, a relevância, a confiabilidade, etc. A qualidade dos dados precisa ser garantida em todas as etapas do ciclo de vida dos dados, desde a sua geração até a sua análise, passando pela sua transmissão e armazenamento. A qualidade dos dados também precisa ser monitorada, avaliada e melhorada, de forma a garantir a tomada de decisões, a inovação e a solução de problemas.\n",
        "\n",
        "* A segurança, que é o conjunto de medidas e mecanismos que visam proteger os dados contra ataques, interceptações, alterações, perdas ou vazamentos. A segurança dos dados precisa ser garantida em todas as camadas da rede, desde a física até a aplicação, passando pela enlace, rede, transporte e sessão. A segurança dos dados também precisa ser baseada em princípios como a confidencialidade, a integridade, a disponibilidade, a autenticidade, a não repúdio, etc. A segurança dos dados ainda precisa ser compatível, adaptável e auditável\n",
        "\n",
        "A rede pode ser um gargalo no processo de transmissão de dados entre cliente e servidor, quando se trata de grandes volumes de dados, pois depende da capacidade, da velocidade, da confiabilidade e da segurança dos meios de comunicação. Se a rede for lenta, limitada, instável ou vulnerável, a transmissão de dados pode ser afetada, comprometendo a qualidade, a integridade e a disponibilidade dos dados.\n",
        "\n",
        "Para lidar com esse desafio, existem algumas soluções que podem melhorar o desempenho da rede, como:\n",
        "\n",
        "* Usar técnicas de compressão, codificação e criptografia dos dados, para reduzir o tamanho, aumentar a segurança e facilitar a transmissão dos dados.\n",
        "\n",
        "* Usar técnicas de particionamento, distribuição e replicação dos dados, para dividir os dados em partes menores, distribuir os dados entre vários servidores e replicar os dados em locais diferentes, aumentando a escalabilidade, a disponibilidade e a tolerância a falhas dos dados.\n",
        "\n",
        "* Usar técnicas de processamento paralelo, distribuído e em nuvem dos dados, para executar operações simultâneas, distribuídas e remotas sobre os dados, aumentando a eficiência, a rapidez e a flexibilidade dos dados.\n",
        "\n",
        "* Usar técnicas de monitoramento, análise e otimização da rede, para acompanhar o tráfego, o consumo e o desempenho da rede, identificar problemas, gargalos e oportunidades, e aplicar soluções para melhorar a qualidade, a capacidade e a velocidade da rede."
      ],
      "metadata": {
        "id": "m1_ubC_3tYn9"
      }
    },
    {
      "cell_type": "markdown",
      "source": [
        "# Capitulo 03 - Desenvolvimento de Software"
      ],
      "metadata": {
        "id": "_Fb-p3nlf6Hb"
      }
    },
    {
      "cell_type": "markdown",
      "source": [
        "## O que é desenvolvimento de Software?\n",
        "\n",
        "Desenvolvimento de software é o processo de criar, testar, implantar e manter programas de computador que realizam funções específicas para os usuários ou para outros sistemas. O desenvolvimento de software envolve várias atividades, como análise, projeto, codificação, depuração, documentação, etc. O desenvolvimento de software pode ser feito por uma pessoa, uma equipe ou uma organização, usando diferentes metodologias, ferramentas e linguagens de programação."
      ],
      "metadata": {
        "id": "GsWppQp_gOJT"
      }
    },
    {
      "cell_type": "markdown",
      "source": [
        "## Algoritimo\n",
        "\n",
        "Um algoritmo é uma sequência de instruções ou comandos realizados de maneira sistemática com o objetivo de resolver um problema ou executar uma tarefa. A palavra “algoritmo” faz referência ao matemático árabe Al Khwarizmi, que viveu no século IX e descreveu regras para equações matemáticas.\n",
        "\n",
        "Pense em um algoritmo como uma receita de bolo: é uma sequência de ações que devem ser executadas para atingir um objetivo específico. Os algoritmos estão presentes em tarefas simples do dia a dia e também em programas computacionais complexos.\n",
        "\n",
        "Aqui estão alguns exemplos de aplicação de algoritmos:\n",
        "\n",
        "* Motores de Busca (Google): O algoritmo do motor de busca do Google realiza cálculos complexos para organizar os resultados das pesquisas com base em variáveis como qualidade do conteúdo, atualidade e relevância.\n",
        "Quando você pesquisa no Google, a ordem dos resultados depende desses cálculos.\n",
        "\n",
        "* Redes Sociais (Facebook, Instagram, Twitter):\n",
        "Os feeds dessas redes sociais são programados com algoritmos. Eles selecionam as postagens e anúncios com base no comportamento do usuário, como curtidas, interações e preferências.\n",
        "\n",
        "Spotify: O aplicativo utiliza algoritmos para oferecer aos usuários uma experiência personalizada. A playlist “Descobertas da semana” é um exemplo: ela contém músicas que o usuário ainda não ouviu, mas que provavelmente são compatíveis com seu gosto musical."
      ],
      "metadata": {
        "id": "0XjEs49bOeee"
      }
    },
    {
      "cell_type": "markdown",
      "source": [
        "## Paradigmas de Programação\n",
        "\n",
        "Paradigmas de programação são diferentes abordagens ou estilos de programação que fornecem um conjunto de princípios, conceitos e práticas para resolver problemas computacionais. Um paradigma de programação define a maneira pela qual um programador estrutura e organiza o código para construir aplicativos de software. Existem vários paradigmas de programação, incluindo:\n",
        "\n",
        "* **Programação imperativa**: É um paradigma de programação que se concentra em descrever como resolver um problema passo a passo usando uma sequência de instruções ou declarações. Normalmente envolve a manipulação explícita do estado do programa e está relacionado com o fluxo de controle do programa. As linguagens de programação imperativas incluem C, C++, Java, Python e outras.\n",
        "\n",
        "* **Programação orientada a objetos**: É um paradigma de programação que se baseia no conceito de objetos, que são entidades que possuem atributos (dados) e métodos (comportamentos). Os objetos se comunicam entre si por meio de mensagens, e podem ser organizados em classes, que definem as características e as funcionalidades comuns dos objetos. As linguagens de programação orientadas a objetos incluem Java, C#, Python, Ruby e outras.\n",
        "\n",
        "* **Programação funcional**: É um paradigma de programação que se baseia no conceito de funções, que são blocos de código que recebem entradas e retornam saídas, sem alterar o estado do programa. As funções podem ser compostas, passadas como argumentos ou retornadas como resultados, e são tratadas como valores de primeira classe. As linguagens de programação funcionais incluem Haskell, Lisp, Clojure, Scala e outras.\n",
        "\n",
        "* **Programação lógica**: É um paradigma de programação que se baseia no conceito de lógica, que é uma forma de raciocínio que usa fatos, regras e consultas para inferir novos fatos. A programação lógica usa uma linguagem declarativa, que especifica o que se quer obter, e não como obtê-lo. A linguagem de programação lógica mais conhecida é o Prolog, que é usada principalmente para inteligência artificial e sistemas especialistas.\n",
        "\n",
        "* **Programação baseada em eventos**: É um paradigma de programação que se baseia no conceito de eventos, que são ocorrências que disparam a execução de funções ou métodos, chamados de manipuladores de eventos. A programação baseada em eventos é assíncrona, ou seja, não bloqueia o fluxo de execução do programa, e é adequada para aplicações interativas, como interfaces gráficas, jogos, redes, etc. As linguagens de programação baseadas em eventos incluem JavaScript, C#, Visual Basic e outras.\n",
        "\n",
        "* **Programação concorrente**: É um paradigma de programação que se baseia no conceito de concorrência, que é a capacidade de executar várias tarefas ao mesmo tempo, de forma paralela ou distribuída. A programação concorrente permite aproveitar melhor os recursos do computador, como processadores, memória, disco, etc., e aumentar o desempenho e a escalabilidade das aplicações. As linguagens de programação concorrentes incluem Erlang, Go, Rust e outras.\n",
        "\n",
        "* **Programação orientada a aspectos**: É um paradigma de programação que se baseia no conceito de aspectos, que são módulos de código que encapsulam funcionalidades transversais, ou seja, que afetam várias partes do sistema, como segurança, log, persistência, etc. A programação orientada a aspectos permite separar essas funcionalidades do código principal, e injetá-las em pontos específicos, chamados de pontos de junção, usando regras, chamadas de conselhos. As linguagens de programação orientadas a aspectos incluem AspectJ, Spring AOP e outras."
      ],
      "metadata": {
        "id": "DBCE-xupgc_t"
      }
    },
    {
      "cell_type": "markdown",
      "source": [
        "## Python\n",
        "\n",
        "Python é uma linguagem de programação de alto nível, interpretada, orientada a objetos e de fácil leitura e escrita. Sua história remonta ao final dos anos 80, quando Guido van Rossum, um programador holandês, percebeu a necessidade de uma linguagem de programação mais simples e intuitiva. Assim, ele começou a desenvolver o Python em dezembro de 1989, enquanto trabalhava no Centro de Matemática e Computação na Holanda.\n",
        "\n",
        "Desde o seu surgimento, o Python passou por diversas evoluções e atualizações. A primeira versão oficial, Python 0.9.0, foi lançada em fevereiro de 1991. Ao longo dos anos, o Python ganhou popularidade e se tornou uma das linguagens de programação mais utilizadas em todo o mundo.\n",
        "\n",
        "Uma das principais características do Python é a sua legibilidade. A sintaxe simples e clara facilita a compreensão do código, tornando-o mais fácil de ser mantido e compartilhado entre equipes de desenvolvimento. O Python também é conhecido por sua abordagem “batteries included”, ou seja, muitas funcionalidades úteis já estão disponíveis na biblioteca padrão, o que facilita a vida dos desenvolvedores e agiliza o processo de desenvolvimento.\n",
        "\n",
        "O Python é uma linguagem interpretada, o que significa que o código é executado linha por linha, em caso de algum erro ele para sua execução e avisa qual erro que ocorreu. Isso pode ser uma vantagem ou uma desvantagem, dependendo do contexto. Por um lado, isso facilita o processo de “debug” do código e permite uma maior interatividade. Por outro lado, isso pode afetar o desempenho e a velocidade do programa, especialmente se ele for muito complexo ou extenso.\n",
        "\n",
        "O Python possui um ambiente de desenvolvimento integrado chamado IDLE, que é uma ferramenta que permite escrever, executar e testar código Python de forma simples e rápida. O IDLE também oferece recursos como coloração de sintaxe, auto-completar, depuração e documentação. O IDLE é uma opção conveniente para iniciantes ou para projetos pequenos, mas existem outras alternativas mais avançadas e personalizáveis, como PyCharm, Visual Studio Code, Jupyter Notebook, entre outras.\n",
        "\n",
        "* Algumas das vantagens do Python são:\n",
        "\n",
        " * Simplicidade e legibilidade: O Python é fácil de aprender e de escrever, com uma sintaxe simples e intuitiva.\n",
        "\n",
        " * Versatilidade e poder: O Python é capaz de desenvolver uma variedade de aplicações, desde sites e aplicativos móveis até análise de dados e aprendizado de máquina.\n",
        "\n",
        " * Comunidade e suporte: O Python tem uma comunidade ativa e amigável, que contribui constantemente com melhorias e recursos adicionais. Além disso, há uma grande quantidade de documentação, tutoriais e cursos disponíveis online.\n",
        "\n",
        " * Bibliotecas e frameworks: O Python possui uma ampla gama de bibliotecas e frameworks que fornecem funcionalidades e soluções para diversos problemas e necessidades. Alguns exemplos são: Django, Flask, TensorFlow, PyTorch, Numpy, Pandas, Scikit-Learn, entre outros.\n",
        "\n",
        "* Algumas das desvantagens do Python são:\n",
        "\n",
        " * Velocidade e desempenho: O Python é mais lento do que outras linguagens compiladas, como C ou Java, o que pode ser um problema para aplicações que exigem alta performance ou tempo real.\n",
        "\n",
        " * Compatibilidade e portabilidade: O Python tem algumas questões de compatibilidade entre suas versões, especialmente entre o Python 2.x e o Python 3.x, o que pode gerar problemas de migração ou manutenção de código. Além disso, o Python pode ter dificuldades de rodar em alguns sistemas operacionais ou plataformas, como Windows ou Android.\n",
        "\n",
        " * Indentação e tipagem: O Python utiliza indentação para delimitar blocos de código, o que pode causar erros de sintaxe se não for feito corretamente. Além disso, o Python é uma linguagem de tipagem dinâmica, o que significa que o tipo das variáveis não é definido explicitamente, o que pode gerar erros de lógica ou de execução."
      ],
      "metadata": {
        "id": "nRZITP0rHqZL"
      }
    },
    {
      "cell_type": "markdown",
      "source": [
        "### Variavel\n",
        "\n",
        "Uma variável é um conceito fundamental na programação. Ela representa um espaço de armazenamento na memória do computador que é utilizado para guardar e manipular valores. É como uma caixa imaginária que pode conter diferentes tipos de informações, como números, texto ou até mesmo referências para objetos mais complexos.\n",
        "\n",
        "As propriedades da variável do Python são:\n",
        "\n",
        "* Nome: é o identificador que usamos para referenciar a variável no código. O nome da variável deve seguir algumas regras, como:\n",
        "\n",
        " * Deve iniciar com uma letra ou um underscore (_).\n",
        "\n",
        " * Pode conter letras, números e underscores, mas não pode conter espaços ou outros símbolos.\n",
        "\n",
        " * Deve ser único dentro do escopo da variável.\n",
        "\n",
        " * Não pode ser uma palavra reservada do Python.\n",
        "\n",
        " * Deve ser significativo e descritivo, seguindo as convenções de estilo do Python (PEP 8).\n",
        "\n",
        " * Deve respeitar a distinção entre letras maiúsculas e minúsculas, pois o Python é case-sensitive, ou seja, diferencia o encoding das letras.\n",
        "\n",
        "* Tipo: é a categoria de dados que a variável pode armazenar. O Python é uma linguagem de tipagem dinâmica, o que significa que o tipo da variável é definido automaticamente pelo valor que ela recebe. O Python possui vários tipos de dados integrados, como:\n",
        "\n",
        " * Numéricos: int (inteiro), float (ponto flutuante), complex (complexo).\n",
        "\n",
        " * Sequenciais: str (string), list (lista), tuple (tupla), range (intervalo).\n",
        "\n",
        " * Mapeamento: dict (dicionário).\n",
        "\n",
        " * Conjunto: set (conjunto), frozenset (conjunto imutável).\n",
        "\n",
        " * Booleano: bool (verdadeiro ou falso).\n",
        "\n",
        " * Binário: bytes (sequência de bytes), bytearray (sequência de bytes mutável), memoryview (objeto que acessa dados internos de outro objeto).\n",
        "\n",
        " * Nulo: None (objeto que representa a ausência de valor).\n",
        "\n",
        "* Escopo: é a região do código onde a variável é definida e pode ser acessada. O Python possui quatro níveis de escopo, que seguem a regra LEGB (Local, Enclosing, Global, Built-in):\n",
        "\n",
        " * Local: é o escopo dentro de uma função ou de um bloco de código, onde a variável é criada e só pode ser usada ali.\n",
        "\n",
        " * Enclosing: é o escopo de uma função que está dentro de outra função, onde a variável é definida na função externa e pode ser acessada pela função interna.\n",
        "\n",
        " * Global: é o escopo do módulo ou do arquivo, onde a variável é definida fora de qualquer função e pode ser acessada por qualquer função ou bloco de código no mesmo módulo.\n",
        "\n",
        " * Built-in: é o escopo que contém as variáveis e funções pré-definidas do Python, que podem ser acessadas em qualquer lugar do código.\n",
        "\n",
        "As palavras reservadas do Python são:\n",
        "\n",
        "* and\n",
        "* as\n",
        "* assert\n",
        "* break\n",
        "* class\n",
        "* continue\n",
        "* def\n",
        "* del\n",
        "* elif\n",
        "* else\n",
        "* except\n",
        "* False\n",
        "* finally\n",
        "* for\n",
        "* from\n",
        "* global\n",
        "* if\n",
        "* import\n",
        "* in\n",
        "* is\n",
        "* lambda\n",
        "* None\n",
        "* nonlocal\n",
        "* not\n",
        "* or\n",
        "* pass\n",
        "* raise\n",
        "* return\n",
        "* True\n",
        "* try\n",
        "* while\n",
        "* with\n",
        "* yield\n",
        "\n",
        "Essas palavras reservadas têm um significado especial para o Python e não podem ser usadas como nomes de variáveis."
      ],
      "metadata": {
        "id": "54mzGM3Qsr1Y"
      }
    },
    {
      "cell_type": "markdown",
      "source": [
        "### Comentários e Docstrings\n",
        "\n",
        "Comentários e docstrings são formas de documentar o código Python, explicando o seu propósito, funcionamento e uso. Comentários e docstrings podem ajudar outros programadores a entender e modificar o código, além de facilitar a geração de documentação automática.\n",
        "\n",
        "Comentários são linhas de texto que começam com o símbolo # e são ignoradas pelo interpretador Python. Eles servem para adicionar notas, explicações ou observações sobre o código. Comentários podem ser escritos na mesma linha do código (comentários em linha) ou em linhas separadas (comentários em bloco). Por exemplo:"
      ],
      "metadata": {
        "id": "tRnImPjt0zu8"
      }
    },
    {
      "cell_type": "code",
      "source": [
        "# Este é um comentário em bloco\n",
        "# Ele explica o que o código abaixo faz\n",
        "x = 10 # Este é um comentário em linha\n",
        "y = x + 5 # Ele explica o que esta linha faz\n",
        "print(y) # Ele explica o que esta linha faz"
      ],
      "metadata": {
        "id": "Ef1PXmCX1NYg"
      },
      "execution_count": null,
      "outputs": []
    },
    {
      "cell_type": "markdown",
      "source": [
        "Docstrings são strings de múltiplas linhas que começam e terminam com três aspas duplas (\"\"\") ou simples (''').\n",
        "\n",
        "Eles servem para descrever o que uma função, classe, módulo ou pacote faz, quais são os seus parâmetros, retornos, exceções, exemplos, etc. Docstrings fazem parte do objeto documentado e podem ser acessados pela função help ou pelo atributo __ doc __. Eles também podem ser usados por ferramentas como o Sphinx para gerar documentação em HTML, PDF, etc. Por exemplo:\n"
      ],
      "metadata": {
        "id": "TU8t0t_N1StN"
      }
    },
    {
      "cell_type": "code",
      "source": [
        "def soma(a, b):\n",
        "    \"\"\"Esta é uma docstring\n",
        "    Ela explica o que a função soma faz\n",
        "    Parâmetros:\n",
        "        a (int): o primeiro número a ser somado\n",
        "        b (int): o segundo número a ser somado\n",
        "    Retorno:\n",
        "        int: a soma de a e b\n",
        "    Exemplo:\n",
        "        >>> soma(2, 3)\n",
        "        5\n",
        "    \"\"\"\n",
        "    return a + b\n",
        "\n",
        "help(soma) # mostra a docstring da função soma\n",
        "print(soma.__doc__) # mostra a docstring da função soma"
      ],
      "metadata": {
        "id": "IyhEMV8s4NAj"
      },
      "execution_count": null,
      "outputs": []
    },
    {
      "cell_type": "markdown",
      "source": [
        "### Função Print()\n",
        "\n",
        "A função print() do python é uma função interna, ou seja, que já vem integrada na linguagem e não precisa ser importada de nenhuma biblioteca. A função print() serve para exibir mensagens na tela ou em outro dispositivo, como um arquivo de texto. Ela recebe um ou mais argumentos, que são os dados que você quer mostrar, e os imprime separados por espaços. Você pode usar a função print() para mostrar textos, números, variáveis, listas, dicionários e outros tipos de dados. Você também pode usar alguns parâmetros opcionais, como sep, end, file e flush, para controlar como os dados são impressos.\n",
        "\n",
        "Quando você usa a função print() com as aspas vazias, como print(“”), você está dizendo para a função imprimir uma string vazia, ou seja, um texto sem nenhum caractere. Isso faz com que a função print() mostre apenas uma linha em branco na tela. Essa é uma forma de adicionar espaços verticais ou pular linhas na saída do seu programa."
      ],
      "metadata": {
        "id": "dQwLRBQIFhaw"
      }
    },
    {
      "cell_type": "code",
      "source": [
        "# @title Meus \"print()s\" iniciais\n",
        "\n",
        "# imprime a string “Olá, mundo!”\n",
        "print(\"Olá, mundo!\")\n",
        "\n",
        "print(42) # imprime o número 42\n",
        "\n",
        "# cria uma variável x com o valor 10\n",
        "x = 10\n",
        "\n",
        "# imprime o valor da variável x\n",
        "print(x)\n",
        "\n",
        "# imprime a string \"O valor de x é\" e o valor da variável x separados por um espaço\n",
        "print(\"O valor de x é\", x)\n",
        "\n",
        "# imprime a string “O valor de x é” e o valor da variável x separados por \": \"\n",
        "print(\"O valor de x é\", x, sep=\": \")\n",
        "\n",
        "# imprime a string “O valor de x é” e o valor da variável x sem quebrar a linha e adicionando um ponto no final\n",
        "print(\"O valor de x é\", x, end=\".\")\n",
        "\n",
        "# imprime uma linha em branco\n",
        "print(\"\")"
      ],
      "metadata": {
        "id": "c2m7eBFiGE6z"
      },
      "execution_count": null,
      "outputs": []
    },
    {
      "cell_type": "markdown",
      "source": [
        "#### Outras formas de usar o Print()\n",
        "\n",
        "O print recebe **escapes**, que o interpreta computacionalmente e imprime na tela para o usuário final de várias formas, sendo assim, você deve abusar dos escapes para elaborar as respostass.\n",
        "\n",
        "Os escapes são usados para alterar a forma como o texto é impresso ou formatado. Por exemplo, \\n representa uma quebra de linha, ou seja, ele faz com que o texto seja impresso em uma nova linha. Já \\t representa uma tabulação, ou seja, ele faz com que o texto seja impresso com um espaçamento maior."
      ],
      "metadata": {
        "id": "Guo7VZ51HDtz"
      }
    },
    {
      "cell_type": "code",
      "source": [
        "# @title Opções de escapes no print()\n",
        "\n",
        "#Este caractere representa uma quebra de linha, ou seja, ele faz com que o texto seja impresso em uma\n",
        "# nova linha.\n",
        "print(\"Olá\\nMundo\")\n",
        "\n",
        "#Este caractere representa uma tabulação, ou seja, ele faz com que o texto seja impresso com um\n",
        "# espaçamento maior\n",
        "print(\"Olá\\tMundo\")\n",
        "\n",
        "#Este caractere representa um retorno, ou seja, ele faz com que o texto seja impresso no início\n",
        "# da mesma linha.\n",
        "print(\"Olá\\rMundo\")\n",
        "\n",
        "#Este caractere representa um backspace, ou seja, ele faz com que o texto seja impresso apagando o\n",
        "# caractere anterior.\n",
        "print(\"Olá\\bMundo\")\n",
        "\n",
        "#Este caractere representa uma alimentação de formulário, ou seja, ele faz com que a impressão\n",
        "# avance para a próxima página.\n",
        "print(\"Olá\\fMundo\")\n",
        "\n",
        "#Este caractere representa uma tabulação vertical, ou seja, ele faz com que o texto seja impresso\n",
        "# com um espaçamento maior na vertical\n",
        "print(\"Olá\\vMundo\")\n",
        "\n",
        "#Este caractere representa um caractere hexadecimal, ou seja, ele faz com que o texto seja\n",
        "#impresso usando o código hexadecimal correspondente\n",
        "print(\"Olá\\x20Mundo\")\n",
        "\n",
        "#Este caractere representa um caractere Unicode, ou seja, ele faz com que o texto seja impresso\n",
        "#usando o código Unicode correspondente.\n",
        "print(\"Olá\\u00E1Mundo\")\n",
        "\n",
        "#Este caractere representa um caractere Unicode de 32 bits, ou seja, ele faz com que o texto seja\n",
        "#impresso usando o código Unicode de 32 bits correspondente.\n",
        "print(\"Olá\\U0001F600Mundo\")"
      ],
      "metadata": {
        "id": "xOomJTU1H0MX"
      },
      "execution_count": null,
      "outputs": []
    },
    {
      "cell_type": "markdown",
      "source": [
        "### Função input()"
      ],
      "metadata": {
        "id": "SEGDdk0iuP4V"
      }
    },
    {
      "cell_type": "markdown",
      "source": [
        "### Tratamento de exceção\n",
        "\n",
        "O try except do python é uma forma de lidar com erros e exceções que podem ocorrer durante a execução de um programa. Erros e exceções são situações anormais ou indesejadas que impedem o fluxo normal do código. Por exemplo, se você tentar dividir um número por zero, isso vai gerar uma exceção chamada ZeroDivisionError.\n",
        "\n",
        "A estrutura básica do try except do python é:\n",
        "\n",
        "```\n",
        "try:\n",
        "    # bloco de código que pode gerar erros ou exceções\n",
        "except {exceção}:\n",
        "    # bloco de código que trata a exceção específica\n",
        "except {outra exceção}:\n",
        "    # bloco de código que trata outra exceção específica\n",
        "...\n",
        "except:\n",
        "    # bloco de código que trata qualquer exceção não especificada\n",
        "else:\n",
        "    # bloco de código que é executado se nenhuma exceção ocorrer no try\n",
        "finally:\n",
        "    # bloco de código que é executado sempre, independentemente de haver ou não exceções\n",
        "\n",
        "```\n",
        "A ideia é que o bloco try contém o código que pode causar algum problema, e o bloco except contém o código que vai resolver ou informar o problema. Você pode ter vários blocos except para tratar diferentes tipos de exceções, ou um bloco except genérico para tratar qualquer exceção. O bloco else é opcional e só é executado se nenhum erro ou exceção ocorrer no bloco try. O bloco finally também é opcional e serve para garantir que algum código seja executado sempre, mesmo que ocorra uma exceção ou um comando de saída (como return ou break)."
      ],
      "metadata": {
        "id": "BssVdSHZw0Uv"
      }
    },
    {
      "cell_type": "code",
      "source": [
        "try:\n",
        "    num = int(input(\"Digite um número: \")) # pode gerar ValueError se o usuário digitar algo que não seja um número\n",
        "    print(\"O número digitado foi:\", num)\n",
        "except ValueError:\n",
        "    print(\"Entrada inválida. Digite apenas números.\") # trata o ValueError\n",
        "else:\n",
        "    print(\"Nenhuma exceção ocorreu.\") # é executado se o input for válido\n",
        "finally:\n",
        "    print(\"Fim do programa.\") # é executado sempre\n"
      ],
      "metadata": {
        "id": "Yam-M6hsxj1j"
      },
      "execution_count": null,
      "outputs": []
    },
    {
      "cell_type": "markdown",
      "source": [
        "#### Tipos de Exceção\n",
        "\n",
        "Existem muitos tipos de exceções no Python, que representam diferentes tipos de erros ou situações anormais que podem ocorrer durante a execução de um programa. Algumas das exceções mais comuns são:\n",
        "\n",
        "* ValueError: é uma exceção que ocorre quando um valor é inválido ou inapropriado para uma determinada operação ou função. Por exemplo, se você tentar converter uma string que não representa um número para um tipo numérico, isso vai gerar um ValueError.\n",
        "\n",
        "* ZeroDivisionError: é uma exceção que ocorre quando você tenta dividir um número por zero, o que é uma operação matemática indefinida. Por exemplo, se você tentar calcular 10 / 0, isso vai gerar um ZeroDivisionError.\n",
        "\n",
        "* IndexError: é uma exceção que ocorre quando você tenta acessar um elemento de uma sequência (como uma lista, uma tupla ou uma string) que não existe. Por exemplo, se você tentar acessar o elemento de índice 5 de uma lista que só tem 4 elementos, isso vai gerar um IndexError.\n",
        "\n",
        "* KeyError: é uma exceção que ocorre quando você tenta acessar um valor de um dicionário usando uma chave que não existe. Por exemplo, se você tentar acessar o valor associado à chave ‘nome’ de um dicionário vazio, isso vai gerar um KeyError.\n",
        "\n",
        "* NameError: é uma exceção que ocorre quando você tenta usar uma variável ou um nome que não foi definido ou importado. Por exemplo, se você tentar imprimir uma variável que não foi atribuída, isso vai gerar um NameError.\n",
        "\n",
        "* TypeError: é uma exceção que ocorre quando você tenta usar um tipo de dado de forma incorreta ou incompatível. Por exemplo, se você tentar somar uma string com um número, isso vai gerar um TypeError.\n",
        "\n",
        "* SyntaxError: é uma exceção que ocorre quando você escreve um código que não segue as regras de sintaxe do Python. Por exemplo, se você esquecer de fechar um parêntese ou de colocar dois pontos após uma instrução if, isso vai gerar um SyntaxError.\n",
        "\n",
        "Essas são apenas algumas das exceções mais comuns no Python, mas existem muitas outras que você pode consultar na documentação oficial (https://docs.python.org/pt-br/3/library/exceptions.html)."
      ],
      "metadata": {
        "id": "1wyodf5vyNfC"
      }
    },
    {
      "cell_type": "code",
      "source": [
        "# Exemplo 1: Tratar um ValueError\n",
        "try:\n",
        "    numero = int(input(\"Digite um número: \")) # pode gerar um ValueError se o usuário digitar algo que não seja um número\n",
        "    print(\"O número digitado foi:\", numero)\n",
        "except ValueError:\n",
        "    print(\"Entrada inválida. Digite apenas números.\") # trata o ValueError"
      ],
      "metadata": {
        "id": "boDBqv4ay5jB"
      },
      "execution_count": null,
      "outputs": []
    },
    {
      "cell_type": "code",
      "source": [
        "# Exemplo 2: Tratar um ZeroDivisionError\n",
        "try:\n",
        "    dividendo = int(input(\"Digite o dividendo: \"))\n",
        "    divisor = int(input(\"Digite o divisor: \"))\n",
        "    quociente = dividendo / divisor # pode gerar um ZeroDivisionError se o divisor for zero\n",
        "    print(\"O quociente é:\", quociente)\n",
        "except ZeroDivisionError:\n",
        "    print(\"Não é possível dividir por zero.\") # trata o ZeroDivisionError"
      ],
      "metadata": {
        "id": "8QodVCpczK_C"
      },
      "execution_count": null,
      "outputs": []
    },
    {
      "cell_type": "code",
      "source": [
        "# Exemplo 3: Tratar um IndexError\n",
        "lista = [1, 2, 3, 4]\n",
        "try:\n",
        "    indice = int(input(\"Digite um índice da lista: \"))\n",
        "    elemento = lista[indice] # pode gerar um IndexError se o índice for inválido\n",
        "    print(\"O elemento da lista é:\", elemento)\n",
        "except IndexError:\n",
        "    print(\"Índice fora do intervalo.\") # trata o IndexError"
      ],
      "metadata": {
        "id": "euI-2DOizMd1"
      },
      "execution_count": null,
      "outputs": []
    },
    {
      "cell_type": "code",
      "source": [
        "# Exemplo 4: Tratar um KeyError\n",
        "dicionario = {\"nome\": \"João\", \"idade\": 25, \"profissão\": \"programador\"}\n",
        "try:\n",
        "    chave = input(\"Digite uma chave do dicionário: \")\n",
        "    valor = dicionario[chave] # pode gerar um KeyError se a chave não existir\n",
        "    print(\"O valor da chave é:\", valor)\n",
        "except KeyError:\n",
        "    print(\"Chave não encontrada.\") # trata o KeyError"
      ],
      "metadata": {
        "id": "OtZtv5nXzO59"
      },
      "execution_count": null,
      "outputs": []
    },
    {
      "cell_type": "code",
      "source": [
        "# Exemplo 5: Tratar um NameError\n",
        "try:\n",
        "    print(nome) # pode gerar um NameError se a variável nome não foi definida\n",
        "except NameError:\n",
        "    print(\"Variável não definida.\") # trata o NameError"
      ],
      "metadata": {
        "id": "Plfm6vD9zQN-"
      },
      "execution_count": null,
      "outputs": []
    },
    {
      "cell_type": "code",
      "source": [
        "# Exemplo 6: Tratar um TypeError\n",
        "try:\n",
        "    resultado = \"Python\" + 3 # pode gerar um TypeError se tentar somar uma string com um número\n",
        "    print(\"O resultado é:\", resultado)\n",
        "except TypeError:\n",
        "    print(\"Tipos de dados incompatíveis.\") # trata o TypeError"
      ],
      "metadata": {
        "id": "bh8tFZZ1zRm3"
      },
      "execution_count": null,
      "outputs": []
    },
    {
      "cell_type": "code",
      "source": [
        "# Exemplo 7: Tratar um SyntaxError\n",
        "try:\n",
        "    exec(input(\"Digite um código Python: \")) # pode gerar um SyntaxError se o código não seguir as regras de sintaxe do Python\n",
        "except SyntaxError:\n",
        "    print(\"Código inválido.\") # trata o SyntaxError"
      ],
      "metadata": {
        "id": "G5nIWlFizTLZ"
      },
      "execution_count": null,
      "outputs": []
    },
    {
      "cell_type": "markdown",
      "source": [
        "### Validação do input()\n",
        "\n",
        "A validação do input em Python é uma forma de garantir que o programa receba dados de entrada corretos e adequados. Isso é importante para evitar erros, inconsistências ou vulnerabilidades no código. Existem várias formas de validar o input em Python, dependendo do tipo e da finalidade dos dados. Alguns exemplos são:\n",
        "\n",
        "* Usar a função type para verificar o tipo dos dados de entrada. Por exemplo, se o programa espera receber um número inteiro, pode-se usar type(input) == int para verificar se a entrada é do tipo inteiro. Se não for, pode-se pedir ao usuário para digitar novamente ou mostrar uma mensagem de erro.\n",
        "\n",
        "* Usar a função len para verificar o tamanho dos dados de entrada. Por exemplo, se o programa espera receber um nome com pelo menos quatro caracteres, pode-se usar len(input) >= 4 para verificar se a entrada tem o tamanho mínimo. Se não tiver, pode-se pedir ao usuário para digitar novamente ou mostrar uma mensagem de erro.\n",
        "\n",
        "* Usar os métodos isalpha, isdigit, isalnum, etc. para verificar o formato dos dados de entrada. Por exemplo, se o programa espera receber um CPF válido, pode-se usar input.isdigit() para verificar se a entrada contém apenas dígitos. Se não contiver, pode-se pedir ao usuário para digitar novamente ou mostrar uma mensagem de erro.\n",
        "\n",
        "* Usar expressões regulares para verificar padrões mais complexos nos dados de entrada. Por exemplo, se o programa espera receber um e-mail válido, pode-se usar uma expressão regular como ^[a-zA-Z0-9_.+-]+@[a-zA-Z0-9-]+\\.[a-zA-Z0-9-.]+$ para verificar se a entrada segue o formato de um e-mail. Se não seguir, pode-se pedir ao usuário para digitar novamente ou mostrar uma mensagem de erro."
      ],
      "metadata": {
        "id": "7cSRRj5CzfF_"
      }
    },
    {
      "cell_type": "code",
      "source": [
        "# Exemplo 1: Validar o tipo dos dados de entrada\n",
        "numero = input(\"Digite um número inteiro: \")\n",
        "while type(numero) != int:\n",
        "    try:\n",
        "        numero = int(numero) # Tentar converter a entrada para inteiro\n",
        "    except ValueError: # Se ocorrer um erro de valor\n",
        "        print(\"Entrada inválida. Digite apenas números inteiros.\")\n",
        "        numero = input(\"Digite um número inteiro: \") # Pedir ao usuário para digitar novamente\n",
        "print(\"O número digitado foi:\", numero)"
      ],
      "metadata": {
        "id": "h4N1uI8N0FPJ"
      },
      "execution_count": null,
      "outputs": []
    },
    {
      "cell_type": "code",
      "source": [
        "# Exemplo 2: Validar o tamanho dos dados de entrada\n",
        "nome = input(\"Digite seu nome (mínimo 4 caracteres): \")\n",
        "while len(nome) < 4:\n",
        "    print(\"Entrada inválida. Digite um nome com pelo menos 4 caracteres.\")\n",
        "    nome = input(\"Digite seu nome (mínimo 4 caracteres): \") # Pedir ao usuário para digitar novamente\n",
        "print(\"O nome digitado foi:\", nome)"
      ],
      "metadata": {
        "id": "908-_iVE0HIY"
      },
      "execution_count": null,
      "outputs": []
    },
    {
      "cell_type": "code",
      "source": [
        "# Exemplo 3: Validar o formato dos dados de entrada\n",
        "cpf = input(\"Digite seu CPF (apenas números): \")\n",
        "while not cpf.isdigit():\n",
        "    print(\"Entrada inválida. Digite apenas números.\")\n",
        "    cpf = input(\"Digite seu CPF (apenas números): \") # Pedir ao usuário para digitar novamente\n",
        "print(\"O CPF digitado foi:\", cpf)"
      ],
      "metadata": {
        "id": "gpfGMMoo0KQc"
      },
      "execution_count": null,
      "outputs": []
    },
    {
      "cell_type": "code",
      "source": [
        "# Exemplo 4: Validar padrões complexos nos dados de entrada\n",
        "import re # Importar o módulo de expressões regulares\n",
        "email = input(\"Digite seu e-mail: \")\n",
        "padrao = \"^[a-zA-Z0-9_.+-]+@[a-zA-Z0-9-]+\\.[a-zA-Z0-9-.]+$\" # Definir o padrão de um e-mail válido\n",
        "while not re.match(padrao, email): # Verificar se a entrada corresponde ao padrão\n",
        "    print(\"Entrada inválida. Digite um e-mail válido.\")\n",
        "    email = input(\"Digite seu e-mail: \") # Pedir ao usuário para digitar novamente\n",
        "print(\"O e-mail digitado foi:\", email)"
      ],
      "metadata": {
        "id": "IjQz5jlR0MZK"
      },
      "execution_count": null,
      "outputs": []
    },
    {
      "cell_type": "markdown",
      "source": [
        "## Funções com Python\n",
        "\n",
        "A função input do python é usada para obter uma entrada do usuário pelo teclado. Ela permite que o programa interaja com o usuário e receba dados de diferentes tipos, como strings, números, listas, etc. Veja alguns exemplos de como usar a função input para cada tipo de dado:\n",
        "\n",
        "String: para obter uma entrada de texto do usuário, basta usar a função input sem especificar o tipo. Por exemplo:"
      ],
      "metadata": {
        "id": "7iEZBm8yHvnc"
      }
    },
    {
      "cell_type": "code",
      "source": [
        "nome = input(\"Digite seu nome: \")\n",
        "print(\"Olá,\", nome)"
      ],
      "metadata": {
        "id": "EUCzsed2uhEy"
      },
      "execution_count": null,
      "outputs": []
    },
    {
      "cell_type": "markdown",
      "source": [
        "Número inteiro: para obter uma entrada de um número inteiro do usuário, é preciso converter a string retornada pela função input para o tipo int. Por exemplo:"
      ],
      "metadata": {
        "id": "INExnSs1ujmu"
      }
    },
    {
      "cell_type": "code",
      "source": [
        "idade = int(input(\"Digite sua idade: \"))\n",
        "print(\"Você tem\", idade, \"anos\")"
      ],
      "metadata": {
        "id": "wgfsqEn2uldt"
      },
      "execution_count": null,
      "outputs": []
    },
    {
      "cell_type": "markdown",
      "source": [
        "Número decimal: para obter uma entrada de um número decimal do usuário, é preciso converter a string retornada pela função input para o tipo float. Por exemplo:"
      ],
      "metadata": {
        "id": "pZLcUsAyuqDI"
      }
    },
    {
      "cell_type": "code",
      "source": [
        "altura = float(input(\"Digite sua altura em metros: \"))\n",
        "print(\"Você tem\", altura, \"metros de altura\")"
      ],
      "metadata": {
        "id": "2PLBPhJ4uqzZ"
      },
      "execution_count": null,
      "outputs": []
    },
    {
      "cell_type": "markdown",
      "source": [
        "Lista: para obter uma entrada de uma lista do usuário, é preciso usar a função eval, que avalia uma expressão como código Python. Por exemplo:"
      ],
      "metadata": {
        "id": "R2HLG6HEutN2"
      }
    },
    {
      "cell_type": "code",
      "source": [
        "numeros = eval(input(\"Digite uma lista de números separados por vírgula: \"))\n",
        "print(\"A soma dos números é\", sum(numeros))"
      ],
      "metadata": {
        "id": "yYXvGxdwuvDT"
      },
      "execution_count": null,
      "outputs": []
    },
    {
      "cell_type": "markdown",
      "source": [
        "## Paradigma Orientada Objeto - POO\n",
        "\n",
        "Revisando, programação orientada a objeto é um paradigma de programação que se baseia no conceito de objetos, que são entidades que possuem atributos (dados) e métodos (comportamentos). Os objetos se comunicam entre si por meio de mensagens, e podem ser organizados em classes, que definem as características e as funcionalidades comuns dos objetos.\n",
        "\n"
      ],
      "metadata": {
        "id": "MvpL0iuJick_"
      }
    },
    {
      "cell_type": "markdown",
      "source": [
        "### Classes\n",
        "\n",
        "As classes são as estruturas que definem os objetos. Elas são compostas por três partes principais: o nome, os atributos e os métodos. O nome é a forma como a classe é identificada. Os atributos são as variáveis que armazenam os dados dos objetos. Os métodos são as funções que realizam as ações dos objetos. Por exemplo, uma classe chamada Pessoa pode ter os seguintes atributos e métodos:"
      ],
      "metadata": {
        "id": "JY9QjhuZi_30"
      }
    },
    {
      "cell_type": "code",
      "source": [
        "class Pessoa:\n",
        "    # Atributos\n",
        "    nome = \"\"\n",
        "    idade = 0\n",
        "    altura = 0.0\n",
        "\n",
        "    # Métodos\n",
        "    def falar(self, mensagem):\n",
        "        print(self.nome + \" diz: \" + mensagem)\n",
        "\n",
        "    def andar(self, distancia):\n",
        "        print(self.nome + \" andou \" + str(distancia) + \" metros\")\n",
        "\n",
        "    def crescer(self, altura):\n",
        "        self.altura += altura\n",
        "        print(self.nome + \" cresceu \" + str(altura) + \" centímetros\")\n"
      ],
      "metadata": {
        "id": "--8RpHQIjCju"
      },
      "execution_count": null,
      "outputs": []
    },
    {
      "cell_type": "markdown",
      "source": [
        "### Objetos\n",
        "\n",
        "Os objetos são as instâncias das classes, ou seja, são os elementos concretos que possuem os atributos e os métodos definidos pelas classes. Para criar um objeto, é preciso usar o nome da classe seguido de parênteses. Por exemplo, para criar um objeto da classe Pessoa, pode-se fazer:"
      ],
      "metadata": {
        "id": "_G6T-7zvjQ0Z"
      }
    },
    {
      "cell_type": "code",
      "source": [
        "joao = Pessoa()"
      ],
      "metadata": {
        "id": "Nyw5k-vVjYqz"
      },
      "execution_count": null,
      "outputs": []
    },
    {
      "cell_type": "markdown",
      "source": [
        "Os objetos podem acessar e modificar os seus atributos e métodos usando o operador ponto (.). Por exemplo, para atribuir valores aos atributos do objeto joao, pode-se fazer:"
      ],
      "metadata": {
        "id": "iLAM4g69jcGo"
      }
    },
    {
      "cell_type": "code",
      "source": [
        "joao.nome = \"João\"\n",
        "joao.idade = 25\n",
        "joao.altura = 1.75"
      ],
      "metadata": {
        "id": "LqnW7aRLjjlM"
      },
      "execution_count": null,
      "outputs": []
    },
    {
      "cell_type": "markdown",
      "source": [
        "Para chamar os métodos do objeto joao, pode-se fazer:"
      ],
      "metadata": {
        "id": "qV7iwKH-jrG9"
      }
    },
    {
      "cell_type": "code",
      "source": [
        "joao.falar(\"Olá, mundo!\")\n",
        "joao.andar(10)\n",
        "joao.crescer(0.05)"
      ],
      "metadata": {
        "id": "LgKRj7ZOjsDO",
        "colab": {
          "base_uri": "https://localhost:8080/"
        },
        "outputId": "fe160013-e6b5-49b4-aa3f-27879932cb61"
      },
      "execution_count": null,
      "outputs": [
        {
          "output_type": "stream",
          "name": "stdout",
          "text": [
            "João diz: Olá, mundo!\n",
            "João andou 10 metros\n",
            "João cresceu 0.05 centímetros\n"
          ]
        }
      ]
    },
    {
      "cell_type": "markdown",
      "source": [
        "### Abstração e Herança\n",
        "\n",
        "A **abstração** é o conceito de simplificar e generalizar as características e as funcionalidades dos objetos, ignorando os detalhes irrelevantes ou específicos. A abstração permite criar classes mais genéricas, que podem ser usadas para criar classes mais específicas, usando o conceito de herança.\n",
        "\n",
        "A **herança** é o conceito de criar uma nova classe a partir de uma classe existente, herdando os seus atributos e métodos, e podendo adicionar ou modificar alguns deles. A herança permite reutilizar o código existente, evitando a repetição e a redundância, e facilitar a manutenção e a evolução dos objetos, pois permite alterar as características e as funcionalidades de uma classe pai e refletir essas mudanças nas classes filhas. A herança também permite criar uma hierarquia de classes, que representa a relação de generalização e especialização entre elas. Por exemplo, a classe Aluno é uma classe filha da classe Pessoa, que é uma classe pai da classe Aluno. A classe Aluno herda os atributos e métodos da classe Pessoa, e adiciona um novo atributo chamado matricula, e um novo método chamado estudar. A classe Aluno é uma especialização da classe Pessoa, pois representa um tipo específico de pessoa,\n",
        "\n",
        "Por exemplo, a partir da classe Pessoa, pode-se criar uma classe chamada Aluno, que herda os atributos e métodos da classe Pessoa, e adiciona um novo atributo chamado matricula, e um novo método chamado estudar:"
      ],
      "metadata": {
        "id": "QTzpY1XXj5J5"
      }
    },
    {
      "cell_type": "code",
      "source": [
        "class Aluno(Pessoa):\n",
        "    # Atributo\n",
        "    matricula = 0\n",
        "\n",
        "    # Método\n",
        "    def estudar(self, materia):\n",
        "        print(self.nome + \" está estudando \" + materia)\n"
      ],
      "metadata": {
        "id": "VhWyiu9GkJEi"
      },
      "execution_count": null,
      "outputs": []
    },
    {
      "cell_type": "markdown",
      "source": [
        "Para criar um objeto da classe Aluno, pode-se fazer:"
      ],
      "metadata": {
        "id": "UMHTGtw9kS6e"
      }
    },
    {
      "cell_type": "code",
      "source": [
        "maria = Aluno()"
      ],
      "metadata": {
        "id": "D1I7TeInkUoZ"
      },
      "execution_count": null,
      "outputs": []
    },
    {
      "cell_type": "markdown",
      "source": [
        "O objeto maria pode acessar e modificar os seus atributos e métodos, incluindo os que foram herdados da classe Pessoa. Por exemplo, pode-se fazer:"
      ],
      "metadata": {
        "id": "lsRC-mhIkYHj"
      }
    },
    {
      "cell_type": "code",
      "source": [
        "maria.nome = \"Maria\"\n",
        "maria.idade = 20\n",
        "maria.altura = 1.65\n",
        "maria.matricula = 1234\n",
        "maria.falar(\"Olá, mundo!\")\n",
        "maria.andar(5)\n",
        "maria.crescer(0.03)\n",
        "maria.estudar(\"Matemática\")"
      ],
      "metadata": {
        "id": "rlb3qPFwkbrF",
        "colab": {
          "base_uri": "https://localhost:8080/"
        },
        "outputId": "acaef307-0176-4fb1-e72d-ad08a39e745f"
      },
      "execution_count": null,
      "outputs": [
        {
          "output_type": "stream",
          "name": "stdout",
          "text": [
            "Maria diz: Olá, mundo!\n",
            "Maria andou 5 metros\n",
            "Maria cresceu 0.03 centímetros\n",
            "Maria está estudando Matemática\n"
          ]
        }
      ]
    },
    {
      "cell_type": "markdown",
      "source": [
        "### Encapsulamento\n",
        "\n",
        "É o conceito de esconder os detalhes internos dos objetos, expondo apenas as interfaces públicas que definem como os objetos podem ser usados. O encapsulamento permite proteger os dados dos objetos, evitando o acesso direto ou indevido aos seus atributos, e controlar o comportamento dos objetos, validando ou modificando os seus métodos. O encapsulamento também facilita a manutenção e a evolução dos objetos, pois permite alterar os seus detalhes internos sem afetar os seus usuários. Para implementar o encapsulamento em Python, pode-se usar os modificadores de acesso, que são símbolos que indicam o nível de visibilidade dos atributos e métodos. Os principais modificadores de acesso são:\n",
        "\n",
        "* **Público**: É o nível de visibilidade padrão, que permite que os atributos e métodos sejam acessados por qualquer objeto. Para definir um atributo ou método como público, basta usar o seu nome normalmente. Por exemplo, o atributo nome e o método falar da classe Pessoa são públicos, pois podem ser acessados por qualquer objeto:\n"
      ],
      "metadata": {
        "id": "3O4ZCnsJlzHZ"
      }
    },
    {
      "cell_type": "code",
      "source": [
        "joao = Pessoa()\n",
        "joao.nome = \"João\"\n",
        "joao.falar(\"Olá, mundo!\")"
      ],
      "metadata": {
        "id": "2QPKYSc2mCTi",
        "colab": {
          "base_uri": "https://localhost:8080/"
        },
        "outputId": "73d67522-9822-4360-b21c-33be74c19da9"
      },
      "execution_count": null,
      "outputs": [
        {
          "output_type": "stream",
          "name": "stdout",
          "text": [
            "João diz: Olá, mundo!\n"
          ]
        }
      ]
    },
    {
      "cell_type": "markdown",
      "source": [
        "* **Privado**: É o nível de visibilidade mais restrito, que permite que os atributos e métodos sejam acessados apenas pelo próprio objeto. Para definir um atributo ou método como privado, basta usar dois sublinhados (_) antes do seu nome. Por exemplo, se quisermos que o atributo altura e o método crescer da classe Pessoa sejam privados, podemos fazer:"
      ],
      "metadata": {
        "id": "gImDpFm-mE4M"
      }
    },
    {
      "cell_type": "code",
      "source": [
        "class Pessoa:\n",
        "    # Atributos\n",
        "    nome = \"\"\n",
        "    idade = 0\n",
        "    __altura = 0.0 # Atributo privado\n",
        "\n",
        "    # Métodos\n",
        "    def falar(self, mensagem):\n",
        "        print(self.nome + \" diz: \" + mensagem)\n",
        "\n",
        "    def andar(self, distancia):\n",
        "        print(self.nome + \" andou \" + str(distancia) + \" metros\")\n",
        "\n",
        "    def __crescer(self, altura): # Método privado\n",
        "        self.__altura += altura\n",
        "        print(self.nome + \" cresceu \" + str(altura) + \" centímetros\")"
      ],
      "metadata": {
        "id": "tYpGpBkZmKgd"
      },
      "execution_count": null,
      "outputs": []
    },
    {
      "cell_type": "markdown",
      "source": [
        "Assim, se tentarmos acessar ou modificar o atributo altura ou o método crescer de fora da classe, vamos receber um erro:"
      ],
      "metadata": {
        "id": "G-wwFlfLmO9g"
      }
    },
    {
      "cell_type": "code",
      "source": [
        "joao = Pessoa()\n",
        "joao.nome = \"João\"\n",
        "joao.__altura = 1.75 # Erro: atributo privado\n",
        "joao.__crescer(0.05) # Erro: método privado"
      ],
      "metadata": {
        "id": "P58kcsT2mSA4",
        "colab": {
          "base_uri": "https://localhost:8080/",
          "height": 176
        },
        "outputId": "c0206157-1650-4729-c778-0a795a31813f"
      },
      "execution_count": null,
      "outputs": [
        {
          "output_type": "error",
          "ename": "AttributeError",
          "evalue": "'Pessoa' object has no attribute '__crescer'",
          "traceback": [
            "\u001b[0;31m---------------------------------------------------------------------------\u001b[0m",
            "\u001b[0;31mAttributeError\u001b[0m                            Traceback (most recent call last)",
            "\u001b[0;32m<ipython-input-11-87592a8e94b7>\u001b[0m in \u001b[0;36m<cell line: 4>\u001b[0;34m()\u001b[0m\n\u001b[1;32m      2\u001b[0m \u001b[0mjoao\u001b[0m\u001b[0;34m.\u001b[0m\u001b[0mnome\u001b[0m \u001b[0;34m=\u001b[0m \u001b[0;34m\"João\"\u001b[0m\u001b[0;34m\u001b[0m\u001b[0;34m\u001b[0m\u001b[0m\n\u001b[1;32m      3\u001b[0m \u001b[0mjoao\u001b[0m\u001b[0;34m.\u001b[0m\u001b[0m__altura\u001b[0m \u001b[0;34m=\u001b[0m \u001b[0;36m1.75\u001b[0m \u001b[0;31m# Erro: atributo privado\u001b[0m\u001b[0;34m\u001b[0m\u001b[0;34m\u001b[0m\u001b[0m\n\u001b[0;32m----> 4\u001b[0;31m \u001b[0mjoao\u001b[0m\u001b[0;34m.\u001b[0m\u001b[0m__crescer\u001b[0m\u001b[0;34m(\u001b[0m\u001b[0;36m0.05\u001b[0m\u001b[0;34m)\u001b[0m \u001b[0;31m# Erro: método privado\u001b[0m\u001b[0;34m\u001b[0m\u001b[0;34m\u001b[0m\u001b[0m\n\u001b[0m",
            "\u001b[0;31mAttributeError\u001b[0m: 'Pessoa' object has no attribute '__crescer'"
          ]
        }
      ]
    },
    {
      "cell_type": "markdown",
      "source": [
        "* **Protegido**: É o nível de visibilidade intermediário, que permite que os atributos e métodos sejam acessados pelo próprio objeto e pelos seus objetos filhos, ou seja, pelos objetos das classes que herdam da classe original. Para definir um atributo ou método como protegido, basta usar um sublinhado (_) antes do seu nome. Por exemplo, se quisermos que o atributo idade e o método andar da classe Pessoa sejam protegidos, podemos fazer:"
      ],
      "metadata": {
        "id": "zzn2w6BLmVf0"
      }
    },
    {
      "cell_type": "code",
      "source": [
        "class Pessoa:\n",
        "    # Atributos\n",
        "    nome = \"\"\n",
        "    _idade = 0 # Atributo protegido\n",
        "    __altura = 0.0\n",
        "\n",
        "    # Métodos\n",
        "    def falar(self, mensagem):\n",
        "        print(self.nome + \" diz: \" + mensagem)\n",
        "\n",
        "    def _andar(self, distancia): # Método protegido\n",
        "        print(self.nome + \" andou \" + str(distancia) + \" metros\")\n",
        "\n",
        "    def __crescer(self, altura):\n",
        "        self.__altura += altura\n",
        "        print(self.nome + \" cresceu \" + str(altura) + \" centímetros\")\n",
        "\n",
        "class Aluno(Pessoa):\n",
        "    # Atributo\n",
        "    matricula = 0\n",
        "\n",
        "    # Método\n",
        "    def estudar(self, materia):\n",
        "        print(self.nome + \" está estudando \" + materia)"
      ],
      "metadata": {
        "id": "kXyQzYyhmbUA"
      },
      "execution_count": null,
      "outputs": []
    },
    {
      "cell_type": "markdown",
      "source": [
        "Assim, se tentarmos acessar ou modificar o atributo idade ou o método andar de fora da classe ou de uma classe filha, vamos receber um erro:"
      ],
      "metadata": {
        "id": "V2rr5EXDmid1"
      }
    },
    {
      "cell_type": "code",
      "source": [
        "joao = Pessoa()\n",
        "joao.nome = \"João\"\n",
        "joao._idade = 25 # Erro: atributo protegido\n",
        "joao._andar(10) # Erro: método protegido"
      ],
      "metadata": {
        "id": "-ZVVARS8mjLO",
        "colab": {
          "base_uri": "https://localhost:8080/"
        },
        "outputId": "98fafd4c-34bf-4a02-9d1a-3cb6cea414b4"
      },
      "execution_count": null,
      "outputs": [
        {
          "output_type": "stream",
          "name": "stdout",
          "text": [
            "João andou 10 metros\n"
          ]
        }
      ]
    },
    {
      "cell_type": "markdown",
      "source": [
        "Mas se tentarmos acessar ou modificar o atributo idade ou o método andar de dentro de uma classe filha, vamos conseguir:"
      ],
      "metadata": {
        "id": "611B2WFkmoWi"
      }
    },
    {
      "cell_type": "code",
      "source": [
        "maria = Aluno()\n",
        "maria.nome = \"Maria\"\n",
        "maria._idade = 20 # Ok: atributo protegido acessado de uma classe filha\n",
        "maria._andar(5) # Ok: método protegido acessado de uma classe filha"
      ],
      "metadata": {
        "id": "8tYeQatqmsDL",
        "colab": {
          "base_uri": "https://localhost:8080/"
        },
        "outputId": "7e14479a-81eb-488d-fb9a-fa271e7a684f"
      },
      "execution_count": null,
      "outputs": [
        {
          "output_type": "stream",
          "name": "stdout",
          "text": [
            "Maria andou 5 metros\n"
          ]
        }
      ]
    },
    {
      "cell_type": "markdown",
      "source": [
        "Isso significa que os atributos e métodos privados ou protegidos estão encapsulados, ou seja, escondidos dos objetos externos. Eles só podem ser acessados ou modificados internamente na classe, ou nas classes filhas, no caso dos atributos e métodos protegidos. Isso garante que os dados dos objetos sejam protegidos e controlados, evitando alterações indevidas ou inconsistentes."
      ],
      "metadata": {
        "id": "8RRjNXmRpXW0"
      }
    },
    {
      "cell_type": "markdown",
      "source": [
        "### Polimorfismo\n",
        "\n",
        "Polimorfismo é um dos pilares da programação orientada a objeto, que se refere à capacidade de um objeto assumir diferentes formas, dependendo do contexto. Isso significa que um objeto pode ter comportamentos diferentes em classes diferentes, mesmo que elas tenham métodos com o mesmo nome. O polimorfismo permite que o mesmo método seja chamado para objetos de diferentes classes, produzindo resultados diferentes.\n",
        "\n",
        "O polimorfismo pode ser implementado de duas formas principais: por meio da herança ou por meio da sobrecarga. A herança é o conceito de criar uma nova classe a partir de uma classe existente, herdando os seus atributos e métodos, e podendo adicionar ou modificar alguns deles. A sobrecarga é o conceito de definir vários métodos com o mesmo nome, mas com parâmetros diferentes, que são usados para diferenciar as chamadas dos métodos.\n",
        "\n",
        "Para ilustrar o polimorfismo por meio da herança, vamos usar os exemplos de João e Maria, que são objetos das classes Pessoa e Aluno, respectivamente.\n",
        "\n",
        "Agora, vamos criar os objetos João e Maria, e chamar o método falar para ambos. Veja o código e o resultado abaixo:"
      ],
      "metadata": {
        "id": "f0-g-qPXoTfQ"
      }
    },
    {
      "cell_type": "code",
      "source": [
        "joao = Pessoa()\n",
        "joao.nome = \"João\"\n",
        "maria = Aluno()\n",
        "maria.nome = \"Maria\"\n",
        "joao.falar(\"Olá, mundo!\")\n",
        "maria.falar(\"Olá, mundo!\")"
      ],
      "metadata": {
        "id": "Nv2vON0Tprpj",
        "colab": {
          "base_uri": "https://localhost:8080/"
        },
        "outputId": "1b7a2531-cab2-402e-a242-453fef20e453"
      },
      "execution_count": null,
      "outputs": [
        {
          "output_type": "stream",
          "name": "stdout",
          "text": [
            "João diz: Olá, mundo!\n",
            "Maria diz: Olá, mundo!\n"
          ]
        }
      ]
    },
    {
      "cell_type": "markdown",
      "source": [
        "Note que, ao chamar o método falar para os objetos João e Maria, eles apresentaram o mesmo comportamento, pois ambos herdaram o método falar da classe Pessoa. Isso é um exemplo de polimorfismo, pois o mesmo método foi chamado para objetos de classes diferentes, mas produziu o mesmo resultado.\n",
        "\n",
        "Agora, vamos chamar o método estudar para os objetos João e Maria. Veja o código e o resultado abaixo:"
      ],
      "metadata": {
        "id": "rgXECxcip5DQ"
      }
    },
    {
      "cell_type": "code",
      "source": [
        "joao = Pessoa()\n",
        "joao.nome = \"João\"\n",
        "maria = Aluno()\n",
        "maria.nome = \"Maria\"\n",
        "joao.estudar(\"Matemática\")\n",
        "maria.estudar(\"Matemática\")"
      ],
      "metadata": {
        "id": "MmKqaRYnp7iK",
        "colab": {
          "base_uri": "https://localhost:8080/",
          "height": 193
        },
        "outputId": "6d8cfc24-29fd-4b9c-8d9d-df8f880a4a99"
      },
      "execution_count": null,
      "outputs": [
        {
          "output_type": "error",
          "ename": "AttributeError",
          "evalue": "'Pessoa' object has no attribute 'estudar'",
          "traceback": [
            "\u001b[0;31m---------------------------------------------------------------------------\u001b[0m",
            "\u001b[0;31mAttributeError\u001b[0m                            Traceback (most recent call last)",
            "\u001b[0;32m<ipython-input-16-99e4df75a6d2>\u001b[0m in \u001b[0;36m<cell line: 5>\u001b[0;34m()\u001b[0m\n\u001b[1;32m      3\u001b[0m \u001b[0mmaria\u001b[0m \u001b[0;34m=\u001b[0m \u001b[0mAluno\u001b[0m\u001b[0;34m(\u001b[0m\u001b[0;34m)\u001b[0m\u001b[0;34m\u001b[0m\u001b[0;34m\u001b[0m\u001b[0m\n\u001b[1;32m      4\u001b[0m \u001b[0mmaria\u001b[0m\u001b[0;34m.\u001b[0m\u001b[0mnome\u001b[0m \u001b[0;34m=\u001b[0m \u001b[0;34m\"Maria\"\u001b[0m\u001b[0;34m\u001b[0m\u001b[0;34m\u001b[0m\u001b[0m\n\u001b[0;32m----> 5\u001b[0;31m \u001b[0mjoao\u001b[0m\u001b[0;34m.\u001b[0m\u001b[0mestudar\u001b[0m\u001b[0;34m(\u001b[0m\u001b[0;34m\"Matemática\"\u001b[0m\u001b[0;34m)\u001b[0m\u001b[0;34m\u001b[0m\u001b[0;34m\u001b[0m\u001b[0m\n\u001b[0m\u001b[1;32m      6\u001b[0m \u001b[0mmaria\u001b[0m\u001b[0;34m.\u001b[0m\u001b[0mestudar\u001b[0m\u001b[0;34m(\u001b[0m\u001b[0;34m\"Matemática\"\u001b[0m\u001b[0;34m)\u001b[0m\u001b[0;34m\u001b[0m\u001b[0;34m\u001b[0m\u001b[0m\n",
            "\u001b[0;31mAttributeError\u001b[0m: 'Pessoa' object has no attribute 'estudar'"
          ]
        }
      ]
    },
    {
      "cell_type": "markdown",
      "source": [
        "\"Erro: Pessoa não tem o método estudar Maria está estudando Matemática\"\n",
        "\n",
        "Note que, ao chamar o método estudar para os objetos João e Maria, eles apresentaram comportamentos diferentes, pois apenas a classe Aluno tem o método estudar, e não a classe Pessoa. Isso é outro exemplo de polimorfismo, pois o mesmo método foi chamado para objetos de classes diferentes, mas produziu resultados diferentes.\n",
        "\n",
        "Para implementar o polimorfismo de sobrecarga em Python, podemos usar o conceito de argumentos opcionais, que são parâmetros que podem ou não ser passados na chamada do método, e que têm um valor padrão definido na declaração do método. Por exemplo, podemos criar um método chamado area, que recebe três argumentos opcionais: base, altura e raio. Veja o código abaixo:"
      ],
      "metadata": {
        "id": "s59SLaCcp9gQ"
      }
    },
    {
      "cell_type": "code",
      "source": [
        "def area(base=0, altura=0, raio=0):\n",
        "    # Se o raio for diferente de zero, calcula a área de um círculo\n",
        "    if raio != 0:\n",
        "        return 3.14 * raio ** 2\n",
        "    # Se a base e a altura forem diferentes de zero, calcula a área de um retângulo\n",
        "    elif base != 0 and altura != 0:\n",
        "        return base * altura\n",
        "    # Se nenhum argumento for passado, retorna zero\n",
        "    else:\n",
        "        return 0\n"
      ],
      "metadata": {
        "id": "rgGzBSbGqkEM"
      },
      "execution_count": null,
      "outputs": []
    },
    {
      "cell_type": "markdown",
      "source": [
        "Agora, podemos chamar o método area com diferentes argumentos, e ele vai retornar a área da figura correspondente. Veja alguns exemplos abaixo:"
      ],
      "metadata": {
        "id": "84fmcTFtqnEJ"
      }
    },
    {
      "cell_type": "code",
      "source": [
        "print(area()) # Retorna 0\n",
        "print(area(base=10, altura=5)) # Retorna 50\n",
        "print(area(raio=3)) # Retorna 28.26\n",
        "print(area(base=5, raio=2)) # Retorna 12.56"
      ],
      "metadata": {
        "id": "IyN3qnpYqqyy",
        "colab": {
          "base_uri": "https://localhost:8080/"
        },
        "outputId": "529c292b-b3ce-4c0e-efce-4b7ddb2e09aa"
      },
      "execution_count": null,
      "outputs": [
        {
          "output_type": "stream",
          "name": "stdout",
          "text": [
            "0\n",
            "50\n",
            "28.26\n",
            "12.56\n"
          ]
        }
      ]
    },
    {
      "cell_type": "markdown",
      "source": [
        "Note que, ao chamar o método area com diferentes argumentos, ele apresentou comportamentos diferentes, pois ele executou um bloco de código diferente para cada caso. Isso é um exemplo de polimorfismo de sobrecarga, pois o mesmo método foi chamado com diferentes parâmetros, mas produziu resultados diferentes."
      ],
      "metadata": {
        "id": "a3ETNmCSqtcT"
      }
    },
    {
      "cell_type": "markdown",
      "source": [
        "### MVC - Model-View-Controller\n",
        "\n",
        "MVC é a sigla para Model-View-Controller, que significa Modelo-Visão-Controlador. É um padrão de arquitetura de software que separa as diferentes responsabilidades de uma aplicação em três componentes principais: o modelo, a visão e o controlador. O objetivo do MVC é facilitar a organização, a manutenção e a evolução do código, além de permitir a reutilização e a flexibilidade dos componentes.\n",
        "\n",
        "O modelo é o componente que representa os dados e a lógica de negócio da aplicação. Ele é responsável por acessar, manipular e validar os dados, seja em um banco de dados, em um arquivo ou em outra fonte. O modelo não depende da visão e do controlador, ou seja, ele pode ser usado em outras aplicações que precisem dos mesmos dados e regras.\n",
        "\n",
        "A visão é o componente que representa a interface de usuário da aplicação. Ela é responsável por exibir os dados do modelo de forma gráfica, interativa e amigável. A visão não se comunica diretamente com o modelo, mas sim com o controlador, que fornece os dados que ela precisa. A visão também pode enviar requisições do usuário para o controlador, como cliques, digitações, etc.\n",
        "\n",
        "O controlador é o componente que coordena a interação entre o modelo e a visão. Ele é responsável por receber as requisições do usuário, processá-las e enviá-las para o modelo ou para a visão, conforme o caso. O controlador também pode executar outras tarefas, como autenticação, autorização, redirecionamento, etc.\n",
        "\n",
        "Para implementar o MVC em Python, é preciso seguir algumas diretrizes. Primeiramente, é preciso criar as classes que representarão o modelo, a visão e o controlador. Em seguida, é preciso definir os atributos e os métodos de cada classe, seguindo as responsabilidades de cada componente. Por fim, é preciso criar as instâncias dos objetos e fazer as comunicações entre eles, usando os métodos adequados.\n",
        "\n",
        "Uma forma comum de implementar o MVC em Python é utilizar um framework web, como o Flask ou o Django. Esses frameworks já possuem estruturas e convenções que facilitam a implementação do MVC. No caso do Flask, por exemplo, cada aplicação é dividida em models, views e controllers, que correspondem ao modelo, à visão e ao controlador, respectivamente. O Flask também possui templates, que são arquivos HTML que contêm variáveis e expressões que são substituídas pelos dados do modelo na hora de renderizar a visão.\n",
        "\n",
        "Para exemplificar o MVC em Python, vamos usar os exemplos de João e Maria, que são objetos da classe Pessoa, que tem os atributos nome, idade e altura, e os métodos falar, andar e crescer. Vamos supor que queremos criar uma aplicação web que permita cadastrar, listar, editar e excluir pessoas, usando o Flask como framework. Veja como ficaria o código:"
      ],
      "metadata": {
        "id": "o5gsANZLraRU"
      }
    },
    {
      "cell_type": "markdown",
      "source": [
        "#### Meu primeiro programa web com Python\n",
        "\n",
        "O comando !jupyter notebook restart reinicia o servidor do Jupyter Notebook. Isso pode ser útil quando você deseja recarregar o ambiente de execução ou aplicar alterações feitas em configurações ou pacotes.\n",
        "\n",
        "* !: O ponto de exclamação no início indica que o comando deve ser executado no sistema operacional (fora do ambiente do Jupyter Notebook).\n",
        "\n",
        "* jupyter: Refere-se ao próprio Jupyter Notebook.\n",
        "\n",
        "* notebook: Especifica que queremos interagir com o servidor do Jupyter Notebook.\n",
        "\n",
        "* restart: Indica a ação que queremos realizar, que é reiniciar o servidor.\n",
        "\n",
        "**Lembre-se de que, ao executar esse comando, todas as células em execução serão interrompidas e o ambiente será reiniciado**"
      ],
      "metadata": {
        "id": "aXSWyHmmGdbr"
      }
    },
    {
      "cell_type": "code",
      "source": [
        "#Executar somente se precisar reiniciar o notebook\n",
        "#!jupyter notebook restart"
      ],
      "metadata": {
        "id": "1cJKHkqF7QWR"
      },
      "execution_count": null,
      "outputs": []
    },
    {
      "cell_type": "markdown",
      "source": [
        "O comando !pip install flask é utilizado para instalar o Flask, que é um framework leve para aplicações web WSGI (Web Server Gateway Interface) em Python.\n",
        "\n",
        "* !: O ponto de exclamação no início indica que o comando deve ser executado no sistema operacional, fora do ambiente do Jupyter Notebook.\n",
        "\n",
        "* pip: É o gerenciador de pacotes do Python, usado para instalar e gerenciar bibliotecas e pacotes.\n",
        "\n",
        "* install: Indica que queremos instalar um pacote.\n",
        "\n",
        "* flask: É o nome da biblioteca que queremos instalar.\n",
        "\n",
        "O Flask é projetado para facilitar o início rápido e fácil no desenvolvimento de aplicações web. Ele oferece sugestões, mas não impõe dependências específicas ou uma estrutura de projeto rígida. Isso significa que você tem a liberdade de escolher as ferramentas e bibliotecas que deseja usar. Além disso, a comunidade fornece muitas extensões que tornam a adição de novas funcionalidades simples.\n",
        "\n",
        "Para saber mais sobre o flask acesse o link https://flask.palletsprojects.com/en/3.0.x/, **não estudaremos framework nesse curso.**"
      ],
      "metadata": {
        "id": "yJu7GxeTGiKk"
      }
    },
    {
      "cell_type": "code",
      "source": [
        "# Instalando a biblioteca flask\n",
        "!pip install flask"
      ],
      "metadata": {
        "id": "PW6CUtZq44PP",
        "colab": {
          "base_uri": "https://localhost:8080/"
        },
        "outputId": "df9ca73e-0ffe-4916-865d-e7e22d8b80c0"
      },
      "execution_count": null,
      "outputs": [
        {
          "output_type": "stream",
          "name": "stdout",
          "text": [
            "Requirement already satisfied: flask in /usr/local/lib/python3.10/dist-packages (2.2.5)\n",
            "Requirement already satisfied: Werkzeug>=2.2.2 in /usr/local/lib/python3.10/dist-packages (from flask) (3.0.1)\n",
            "Requirement already satisfied: Jinja2>=3.0 in /usr/local/lib/python3.10/dist-packages (from flask) (3.1.3)\n",
            "Requirement already satisfied: itsdangerous>=2.0 in /usr/local/lib/python3.10/dist-packages (from flask) (2.1.2)\n",
            "Requirement already satisfied: click>=8.0 in /usr/local/lib/python3.10/dist-packages (from flask) (8.1.7)\n",
            "Requirement already satisfied: MarkupSafe>=2.0 in /usr/local/lib/python3.10/dist-packages (from Jinja2>=3.0->flask) (2.1.5)\n",
            "\u001b[31mERROR: Operation cancelled by user\u001b[0m\u001b[31m\n",
            "\u001b[0m"
          ]
        }
      ]
    },
    {
      "cell_type": "markdown",
      "source": [
        "O pyngrok é uma biblioteca Python que atua como um wrapper para o ngrok. O ngrok é uma ferramenta de proxy reverso que cria túneis seguros a partir de URLs públicas para o localhost. Isso é perfeito para expor servidores web locais, integrar webhooks, habilitar acesso SSH, testar chatbots, fazer demonstrações a partir de sua própria máquina e muito mais. O pyngrok gerencia sua própria versão do binário do ngrok, tornando-o acessível por meio de uma API Python conveniente.\n",
        "\n"
      ],
      "metadata": {
        "id": "AgtbGK-1HnfI"
      }
    },
    {
      "cell_type": "code",
      "source": [
        "# Instalando o pynrok para criar a conexão VPN\n",
        "!pip install pyngrok"
      ],
      "metadata": {
        "id": "Ab_4X0mq_4I0",
        "colab": {
          "base_uri": "https://localhost:8080/"
        },
        "outputId": "48a7b5c1-8fbb-4168-fa5c-985fc7884710"
      },
      "execution_count": null,
      "outputs": [
        {
          "output_type": "stream",
          "name": "stdout",
          "text": [
            "Collecting pyngrok\n",
            "  Downloading pyngrok-7.1.2-py3-none-any.whl (22 kB)\n",
            "Requirement already satisfied: PyYAML>=5.1 in /usr/local/lib/python3.10/dist-packages (from pyngrok) (6.0.1)\n",
            "Installing collected packages: pyngrok\n",
            "Successfully installed pyngrok-7.1.2\n"
          ]
        }
      ]
    },
    {
      "cell_type": "markdown",
      "source": [
        "O comando !pip install flask_sqlalchemy é utilizado para instalar o Flask-SQLAlchemy, que é uma extensão para o Flask que adiciona suporte ao SQLAlchemy em sua aplicação. O objetivo é simplificar o uso do SQLAlchemy com o Flask, fornecendo padrões úteis e ajudantes extras que facilitam a realização de tarefas comuns\n",
        "\n",
        "Pelo flask_sqlalchemy vamos criar nosso arquivo em sqlite para guardar os dados do nosso sistema. Como já foi dito, não será ensinado framework nesse curso, para saber mais consulte a documentação **https://flask-sqlalchemy.palletsprojects.com/en/3.1.x/**"
      ],
      "metadata": {
        "id": "Gj0Go7kUMQmi"
      }
    },
    {
      "cell_type": "code",
      "source": [
        "# Instalando a biblioteca flask_sqlalchemy\n",
        "!pip install flask_sqlalchemy #precisa instalar o flask antes"
      ],
      "metadata": {
        "id": "98_IF_DHtuFn",
        "colab": {
          "base_uri": "https://localhost:8080/"
        },
        "outputId": "eeba88fd-aae1-4164-f90d-048526378733"
      },
      "execution_count": null,
      "outputs": [
        {
          "output_type": "stream",
          "name": "stdout",
          "text": [
            "Collecting flask_sqlalchemy\n",
            "  Downloading flask_sqlalchemy-3.1.1-py3-none-any.whl (25 kB)\n",
            "Requirement already satisfied: flask>=2.2.5 in /usr/local/lib/python3.10/dist-packages (from flask_sqlalchemy) (2.2.5)\n",
            "Requirement already satisfied: sqlalchemy>=2.0.16 in /usr/local/lib/python3.10/dist-packages (from flask_sqlalchemy) (2.0.27)\n",
            "Requirement already satisfied: Werkzeug>=2.2.2 in /usr/local/lib/python3.10/dist-packages (from flask>=2.2.5->flask_sqlalchemy) (3.0.1)\n",
            "Requirement already satisfied: Jinja2>=3.0 in /usr/local/lib/python3.10/dist-packages (from flask>=2.2.5->flask_sqlalchemy) (3.1.3)\n",
            "Requirement already satisfied: itsdangerous>=2.0 in /usr/local/lib/python3.10/dist-packages (from flask>=2.2.5->flask_sqlalchemy) (2.1.2)\n",
            "Requirement already satisfied: click>=8.0 in /usr/local/lib/python3.10/dist-packages (from flask>=2.2.5->flask_sqlalchemy) (8.1.7)\n",
            "Requirement already satisfied: typing-extensions>=4.6.0 in /usr/local/lib/python3.10/dist-packages (from sqlalchemy>=2.0.16->flask_sqlalchemy) (4.9.0)\n",
            "Requirement already satisfied: greenlet!=0.4.17 in /usr/local/lib/python3.10/dist-packages (from sqlalchemy>=2.0.16->flask_sqlalchemy) (3.0.3)\n",
            "Requirement already satisfied: MarkupSafe>=2.0 in /usr/local/lib/python3.10/dist-packages (from Jinja2>=3.0->flask>=2.2.5->flask_sqlalchemy) (2.1.5)\n",
            "Installing collected packages: flask_sqlalchemy\n",
            "Successfully installed flask_sqlalchemy-3.1.1\n"
          ]
        }
      ]
    },
    {
      "cell_type": "markdown",
      "source": [
        "O Flask-WTF é uma extensão que simplifica a integração do Flask com o WTForms. O WTForms é uma biblioteca Python para criação e validação de formulários HTML. Com o Flask-WTF, você pode facilmente criar formulários em suas aplicações Flask, lidar com validações, proteger contra ataques CSRF (Cross-Site Request Forgery)\n",
        "\n",
        "Documentação do FlaskWTF **https://flask-wtf.readthedocs.io/en/1.2.x/**"
      ],
      "metadata": {
        "id": "avWehJZOP9Up"
      }
    },
    {
      "cell_type": "code",
      "source": [
        "#instalar o flask_wtf\n",
        "!pip install flask_wtf"
      ],
      "metadata": {
        "id": "ZSE4JizNkqbb",
        "colab": {
          "base_uri": "https://localhost:8080/"
        },
        "outputId": "f1b9ef33-4bcf-40f6-f764-fdcb326788a8"
      },
      "execution_count": null,
      "outputs": [
        {
          "output_type": "stream",
          "name": "stdout",
          "text": [
            "Collecting flask_wtf\n",
            "  Downloading flask_wtf-1.2.1-py3-none-any.whl (12 kB)\n",
            "Requirement already satisfied: flask in /usr/local/lib/python3.10/dist-packages (from flask_wtf) (2.2.5)\n",
            "Requirement already satisfied: itsdangerous in /usr/local/lib/python3.10/dist-packages (from flask_wtf) (2.1.2)\n",
            "Collecting wtforms (from flask_wtf)\n",
            "  Downloading wtforms-3.1.2-py3-none-any.whl (145 kB)\n",
            "\u001b[2K     \u001b[90m━━━━━━━━━━━━━━━━━━━━━━━━━━━━━━━━━━━━━━━━\u001b[0m \u001b[32m146.0/146.0 kB\u001b[0m \u001b[31m3.2 MB/s\u001b[0m eta \u001b[36m0:00:00\u001b[0m\n",
            "\u001b[?25hRequirement already satisfied: Werkzeug>=2.2.2 in /usr/local/lib/python3.10/dist-packages (from flask->flask_wtf) (3.0.1)\n",
            "Requirement already satisfied: Jinja2>=3.0 in /usr/local/lib/python3.10/dist-packages (from flask->flask_wtf) (3.1.3)\n",
            "Requirement already satisfied: click>=8.0 in /usr/local/lib/python3.10/dist-packages (from flask->flask_wtf) (8.1.7)\n",
            "Requirement already satisfied: markupsafe in /usr/local/lib/python3.10/dist-packages (from wtforms->flask_wtf) (2.1.5)\n",
            "Installing collected packages: wtforms, flask_wtf\n",
            "Successfully installed flask_wtf-1.2.1 wtforms-3.1.2\n"
          ]
        }
      ]
    },
    {
      "cell_type": "markdown",
      "source": [
        "O comando !mkdir templates cria um diretório chamado “templates”. Esse diretório é frequentemente usado em projetos Flask para armazenar modelos HTML. Modelos são arquivos que contêm o código HTML da sua aplicação web. Eles permitem que você defina a estrutura e o layout das páginas da web de forma modular.\n",
        "\n",
        "Aqui estão algumas informações importantes sobre o diretório “templates”:\n",
        "\n",
        "Templates no Flask:\n",
        "\n",
        "* O Flask utiliza o mecanismo de renderização de templates para gerar páginas HTML dinamicamente. Isso permite que você insira dados dinâmicos (como variáveis) nas páginas.\n",
        "\n",
        "* Os templates são armazenados em um diretório chamado “templates” na raiz do seu projeto Flask.\n",
        "\n",
        "* O Flask usa a biblioteca Jinja2 para renderizar os templates. Jinja2 é uma linguagem de template poderosa e flexível que permite inserir variáveis, estruturas de controle (como loops e condicionais) e muito mais nos seus modelos."
      ],
      "metadata": {
        "id": "wj8OJjzVNDoq"
      }
    },
    {
      "cell_type": "code",
      "source": [
        "#cria a pasta templates no diretorio do colab, caso queira ver isso abra a esquerda e verifique\n",
        "!mkdir templates"
      ],
      "metadata": {
        "id": "bPiXDK9jWqqM"
      },
      "execution_count": null,
      "outputs": []
    },
    {
      "cell_type": "markdown",
      "source": [
        "\n",
        "O comando !touch templates/index.html cria um novo arquivo chamado “index.html” dentro do diretório “templates”. Esse diretório é frequentemente usado em projetos Flask para armazenar modelos HTML. Modelos são arquivos que contêm o código HTML da sua aplicação web. Eles permitem que você defina a estrutura e o layout das páginas da web de forma modular."
      ],
      "metadata": {
        "id": "X4_5bQRPQXEu"
      }
    },
    {
      "cell_type": "code",
      "source": [
        "#cria o arquivo index.html toda página html precisa de um index\n",
        "!touch templates/index.html"
      ],
      "metadata": {
        "id": "zZzPhYf9W3xr"
      },
      "execution_count": null,
      "outputs": []
    },
    {
      "cell_type": "markdown",
      "source": [
        "O %%writefile templates/index.html escreve dentro do arquivo index.html o html que foi criado. Bom repetiremos o que foi feito com o index.html, para as páginas de cadsatro, edição e exclusão. Então não será comentado novamente as funcionalidades."
      ],
      "metadata": {
        "id": "WPIdRwDDQ2by"
      }
    },
    {
      "cell_type": "code",
      "source": [
        "#página do index.html alterada, esse curso não ensinará html, css e etc...\n",
        "\n",
        "%%writefile templates/index.html\n",
        "<!DOCTYPE html>\n",
        "<html lang=\"en\">\n",
        "  <head>\n",
        "    <meta charset=\"UTF-8\">\n",
        "    <meta name=\"viewport\" content=\"width=device-width, initial-scale=1.0\">\n",
        "    <title>Minha Página</title>\n",
        "    <style>\n",
        "      table {\n",
        "        border-collapse: collapse;\n",
        "        width: 80%;\n",
        "        margin: auto;\n",
        "      }\n",
        "\n",
        "      th, td {\n",
        "        border: 1px solid black;\n",
        "        padding: 10px;\n",
        "        text-align: left;\n",
        "      }\n",
        "    </style>\n",
        "  </head>\n",
        "  <body>\n",
        "    <h1>Bem-vindo ao Meu Site</h1>\n",
        "    <p></p>\n",
        "    <a href=\"{{ url_for('cadastro') }}\">Cadastrar uma nova pessoa</a>\n",
        "    <p></p>\n",
        "    <table>\n",
        "      <tr>\n",
        "        <th>Nome</th>\n",
        "        <th>Idade</th>\n",
        "        <th>Altura</th>\n",
        "        <th>Ações</th>\n",
        "      </tr>\n",
        "      {% for pessoa in pessoas %}\n",
        "      <tr>\n",
        "        <td>{{ pessoa.nome }}</td>\n",
        "        <td>{{ pessoa.idade }}</td>\n",
        "        <td>{{ pessoa.altura }}</td>\n",
        "        <td>\n",
        "          <a href=\"{{ url_for('edicao', id=pessoa.id) }}\">Editar</a>\n",
        "          <a href=\"{{ url_for('exclusao', id=pessoa.id) }}\">Excluir</a>\n",
        "        </td>\n",
        "      </tr>\n",
        "      {% endfor %}\n",
        "    </table>\n",
        "  </body>\n",
        "</html>\n"
      ],
      "metadata": {
        "id": "ciUzQYWhZxxD",
        "colab": {
          "base_uri": "https://localhost:8080/"
        },
        "outputId": "8be079eb-6131-44df-afcb-3e102d608423"
      },
      "execution_count": null,
      "outputs": [
        {
          "output_type": "stream",
          "name": "stdout",
          "text": [
            "Overwriting templates/index.html\n"
          ]
        }
      ]
    },
    {
      "cell_type": "code",
      "source": [
        "#cria o arquivo cadastro.html\n",
        "!touch templates/cadastro.html"
      ],
      "metadata": {
        "id": "4gmbJmFnb6eJ"
      },
      "execution_count": null,
      "outputs": []
    },
    {
      "cell_type": "code",
      "source": [
        "#página do cadastro.html alterada\n",
        "%%writefile templates/cadastro.html\n",
        "<!DOCTYPE html>\n",
        "<html lang=\"pt-br\">\n",
        "  <head>\n",
        "    <meta charset=\"UTF-8\">\n",
        "    <meta name=\"viewport\" content=\"width=device-width, initial-scale=1.0\">\n",
        "    <title>Cadastro de Pessoa</title>\n",
        "  </head>\n",
        "  <body>\n",
        "    <h1>Cadastro de Pessoa</h1>\n",
        "    <form action=\"{{ url_for('salvar') }}\" method=\"POST\">\n",
        "      <label for=\"nome\">Nome:</label>\n",
        "      <input type=\"text\" id=\"nome\" name=\"nome\" required>\n",
        "      <label for=\"idade\">Idade:</label>\n",
        "      <input type=\"number\" id=\"idade\" name=\"idade\" required>\n",
        "      <label for=\"altura\">Altura:</label>\n",
        "      <input type=\"number\" id=\"altura\" name=\"altura\" step=\"0.01\" required>\n",
        "      <button type=\"submit\">Salvar</button>\n",
        "    </form>\n",
        "  </body>\n",
        "</html>"
      ],
      "metadata": {
        "id": "PR21vdZMcPFt",
        "colab": {
          "base_uri": "https://localhost:8080/"
        },
        "outputId": "130f340c-b617-4417-8225-126bec5f42c9"
      },
      "execution_count": null,
      "outputs": [
        {
          "output_type": "stream",
          "name": "stdout",
          "text": [
            "Overwriting templates/cadastro.html\n"
          ]
        }
      ]
    },
    {
      "cell_type": "code",
      "source": [
        "#cria o arquivo edicao.html\n",
        "!touch templates/edicao.html"
      ],
      "metadata": {
        "id": "Dp_fzOVoeTvN"
      },
      "execution_count": null,
      "outputs": []
    },
    {
      "cell_type": "code",
      "source": [
        "#página do edicao.html alterada\n",
        "%%writefile templates/edicao.html\n",
        "<!DOCTYPE html>\n",
        "<html lang=\"pt-br\">\n",
        "  <head>\n",
        "    <meta charset=\"UTF-8\">\n",
        "    <meta name=\"viewport\" content=\"width=device-width, initial-scale=1.0\">\n",
        "    <title>Edição de Pessoa</title>\n",
        "  </head>\n",
        "  <body>\n",
        "    <h1>Edição de Pessoa</h1>\n",
        "    <form action=\"{{ url_for('atualizar', id=pessoa.id) }}\" method=\"POST\">\n",
        "      <label for=\"nome\">Nome:</label>\n",
        "      <input type=\"text\" id=\"nome\" name=\"nome\" value=\"{{ pessoa.nome }}\" required>\n",
        "      <label for=\"idade\">Idade:</label>\n",
        "      <input type=\"number\" id=\"idade\" name=\"idade\" value=\"{{ pessoa.idade }}\" required>\n",
        "      <label for=\"altura\">Altura:</label>\n",
        "      <input type=\"number\" id=\"altura\" name=\"altura\" value=\"{{ pessoa.altura }}\" step=\"0.01\" required>\n",
        "      <button type=\"submit\">Atualizar</button>\n",
        "    </form>\n",
        "  </body>\n",
        "</html>"
      ],
      "metadata": {
        "id": "dCWqfyNqeZiF",
        "colab": {
          "base_uri": "https://localhost:8080/"
        },
        "outputId": "3e9ccc5c-ab57-447b-ef91-69bf1191e6a7"
      },
      "execution_count": null,
      "outputs": [
        {
          "output_type": "stream",
          "name": "stdout",
          "text": [
            "Overwriting templates/edicao.html\n"
          ]
        }
      ]
    },
    {
      "cell_type": "code",
      "source": [
        "#cria o arquivo edicao.html\n",
        "!touch templates/exclusao.html"
      ],
      "metadata": {
        "id": "wd1gXHPbgkX0"
      },
      "execution_count": null,
      "outputs": []
    },
    {
      "cell_type": "code",
      "source": [
        "#página de exclusao.html alterada\n",
        "%%writefile templates/exclusao.html\n",
        "<!DOCTYPE html>\n",
        "<html lang=\"pt-br\">\n",
        "  <head>\n",
        "    <meta charset=\"UTF-8\">\n",
        "    <meta name=\"viewport\" content=\"width=device-width, initial-scale=1.0\">\n",
        "    <title>Exclusão de Pessoa</title>\n",
        "  </head>\n",
        "  <body>\n",
        "    <h1>Exclusão de Pessoa</h1>\n",
        "    <p>Você tem certeza que deseja excluir a pessoa {{ pessoa.nome }}?</p>\n",
        "    <form action=\"{{ url_for('deletar', id=pessoa.id) }}\" method=\"POST\">\n",
        "    {{ form.csrf_token }}\n",
        "    <button type=\"submit\">Sim</button>\n",
        "    <a href=\"{{ url_for('index') }}\">Não</a>\n",
        "    </form>\n",
        "  </body>\n",
        "</html>"
      ],
      "metadata": {
        "id": "w5Fmu052gpzF",
        "colab": {
          "base_uri": "https://localhost:8080/"
        },
        "outputId": "553e2c01-e69c-42de-b22a-a9c2dc948017"
      },
      "execution_count": null,
      "outputs": [
        {
          "output_type": "stream",
          "name": "stdout",
          "text": [
            "Overwriting templates/exclusao.html\n"
          ]
        }
      ]
    },
    {
      "cell_type": "markdown",
      "source": [
        "FlaskForm é uma classe fornecida pelo Flask-WTF que facilita a criação de formulários em aplicativos Flask. Essa classe herda do wtforms.Form e adiciona recursos específicos para integração com o Flask."
      ],
      "metadata": {
        "id": "o-joVNeWUdLt"
      }
    },
    {
      "cell_type": "code",
      "source": [
        "from flask_wtf import FlaskForm"
      ],
      "metadata": {
        "id": "GEL8eaM_kfti"
      },
      "execution_count": null,
      "outputs": []
    },
    {
      "cell_type": "markdown",
      "source": [
        "from flask import Flask, render_template, request, redirect, url_for: Aqui, estamos importando as classes e funções necessárias do Flask.\n",
        "\n",
        "Flask: É a classe principal do Flask que cria uma instância da aplicação.\n",
        "\n",
        "render_template: É usado para renderizar modelos HTML.\n",
        "\n",
        "request: Permite acessar dados enviados pelo cliente (por exemplo, formulários).\n",
        "\n",
        "redirect e url_for: São usados para redirecionar o usuário para outras rotas."
      ],
      "metadata": {
        "id": "Ym-lvFixUz6S"
      }
    },
    {
      "cell_type": "code",
      "source": [
        "# Importando o Flask\n",
        "from flask import Flask, render_template, request, redirect, url_for"
      ],
      "metadata": {
        "id": "_XAFr7kzukDc"
      },
      "execution_count": null,
      "outputs": []
    },
    {
      "cell_type": "markdown",
      "source": [
        "from pyngrok import ngrok: Esta linha importa a biblioteca pyngrok e a função ngrok para o seu programa Python. Essa biblioteca e essa função permitem que você crie túneis seguros entre URLs públicas e o seu computador local."
      ],
      "metadata": {
        "id": "OTwtsDQuVDUl"
      }
    },
    {
      "cell_type": "code",
      "source": [
        "# Importando o pyngrok\n",
        "from pyngrok import ngrok"
      ],
      "metadata": {
        "id": "ToMoaoFhBNLR"
      },
      "execution_count": null,
      "outputs": []
    },
    {
      "cell_type": "markdown",
      "source": [
        "from flask_sqlalchemy import SQLAlchemy essa linha importa a biblioteca Flask-SQLAlchemy e a classe SQLAlchemy para o seu programa Python. Essa biblioteca e essa classe permitem que você use o SQLAlchemy em sua aplicação Flask. O SQLAlchemy é uma biblioteca Python para trabalhar com bancos de dados relacionais."
      ],
      "metadata": {
        "id": "m9g8WqxGWj0P"
      }
    },
    {
      "cell_type": "code",
      "source": [
        "# Importando o SQLAlchemy\n",
        "from flask_sqlalchemy import SQLAlchemy"
      ],
      "metadata": {
        "id": "v9GBqxkvP1HN"
      },
      "execution_count": null,
      "outputs": []
    },
    {
      "cell_type": "markdown",
      "source": [
        "Precisamos criar uma conexão publica do local host, primeiro precisa se fazer a inscrição no https://ngrok.com/signup, após o cadastro e ter os meios de segurança para que possa fazer a recuperação dos dados acesse o link #https://dashboard.ngrok.com/get-started/setup/python e pegue o seu token que foi gerado, busque no browser o comando \"NGROK_AUTHTOKEN=\" o código gigante que aparecerá é seu token para a criação do seu endereço apontando para o ip http://127.0.0.1, insira o seu token no lugar do <SEU_AUTHTOKEN>."
      ],
      "metadata": {
        "id": "GGtCuHDWW4wJ"
      }
    },
    {
      "cell_type": "code",
      "source": [
        "#ngrok.set_auth_token(\"<SEU_AUTHTOKEN>\")\n",
        "#https://dashboard.ngrok.com/get-started/setup/python\n",
        "ngrok.set_auth_token(\"2cC5OrkHDeSUpUTYyZLUoKfwXyw_6WMsskcc1zGmswuQWXndq\")"
      ],
      "metadata": {
        "id": "VGMOairlBqdF",
        "colab": {
          "base_uri": "https://localhost:8080/"
        },
        "outputId": "9bbd17bb-7ae3-4f5d-b7b4-333d0c677ac9"
      },
      "execution_count": null,
      "outputs": [
        {
          "output_type": "stream",
          "name": "stdout",
          "text": []
        }
      ]
    },
    {
      "cell_type": "markdown",
      "source": [
        "\n",
        "A função ngrok.connect(5000) cria um túnel seguro entre uma URL pública e o seu computador local na porta 5000. Isso permite que você acesse um serviço ou aplicativo que está rodando no seu computador a partir de qualquer lugar do mundo."
      ],
      "metadata": {
        "id": "WI8jGRxSYWEG"
      }
    },
    {
      "cell_type": "code",
      "source": [
        "#verifica qual o tunel de vpn\n",
        "ngrok.connect(5000)"
      ],
      "metadata": {
        "id": "kBcdZBv9BYWN",
        "colab": {
          "base_uri": "https://localhost:8080/"
        },
        "outputId": "2774634c-7ac8-4d91-db0c-55a1609432ea"
      },
      "execution_count": null,
      "outputs": [
        {
          "output_type": "execute_result",
          "data": {
            "text/plain": [
              "<NgrokTunnel: \"https://071a-35-227-66-104.ngrok-free.app\" -> \"http://localhost:5000\">"
            ]
          },
          "metadata": {},
          "execution_count": 39
        }
      ]
    },
    {
      "cell_type": "markdown",
      "source": [
        "\n",
        "A função ngrok.get_tunnels() retorna uma lista de todos os túneis online que estão rodando na sua conta. Um túnel é uma conexão entre uma URL pública e o seu computador local, criada pelo ngrok."
      ],
      "metadata": {
        "id": "lWrzTLj4YwUx"
      }
    },
    {
      "cell_type": "code",
      "source": [
        "#verifica o SEU NOME do tunel\n",
        "#ngrok.get_tunnels()"
      ],
      "metadata": {
        "id": "-q9ht5dlMjGB"
      },
      "execution_count": null,
      "outputs": []
    },
    {
      "cell_type": "markdown",
      "source": [
        "Essa linha de código cria uma instância da classe SQLAlchemy e a atribui à variável db. Essa instância representa o banco de dados da sua aplicação Flask."
      ],
      "metadata": {
        "id": "PjCBo09HZHcL"
      }
    },
    {
      "cell_type": "code",
      "source": [
        "# iniciando o Flaks_SQLAlchemy\n",
        "db = SQLAlchemy()"
      ],
      "metadata": {
        "id": "0E6aL48wQUS9"
      },
      "execution_count": null,
      "outputs": []
    },
    {
      "cell_type": "markdown",
      "source": [
        "Essa linha de código cria uma instância da classe Flask e a atribui à variável app. Essa instância representa a aplicação web que você está criando com o Flask, um framework Python para desenvolvimento web"
      ],
      "metadata": {
        "id": "6zfG4YfOZnln"
      }
    },
    {
      "cell_type": "code",
      "source": [
        "# Criando a aplicação Flask\n",
        "app = Flask(__name__)"
      ],
      "metadata": {
        "id": "lGG9JdM9um0Q"
      },
      "execution_count": null,
      "outputs": []
    },
    {
      "cell_type": "markdown",
      "source": [
        "Aqui estão alguns pontos importantes sobre essas linhas:\n",
        "\n",
        "* app.config: É um dicionário que armazena as configurações da sua aplicação Flask. Você pode acessar e modificar as configurações usando a sintaxe de colchetes, como app.config[\"CHAVE\"] = VALOR.\n",
        "\n",
        "* SQLALCHEMY_DATABASE_URI: É a chave que define a URI do banco de dados que você quer usar com o SQLAlchemy. A URI é uma string que contém as informações necessárias para se conectar ao banco de dados, como o tipo, o nome, o usuário, a senha e outras opções. Nesse caso, você está usando SQLite, um banco de dados leve que armazena os dados em um arquivo local. O valor da URI é sqlite:///pessoas.db, que significa que o banco de dados se chama pessoas.db e está na raiz do seu projeto Flask.\n",
        "\n",
        "* SQLALCHEMY_TRACK_MODIFICATIONS: É a chave que define se o SQLAlchemy deve rastrear as modificações nos objetos do banco de dados. Essa opção consome recursos adicionais e não é necessária para a maioria dos casos, por isso é recomendado desativá-la definindo o valor como False.\n",
        "\n",
        "* SQLALCHEMY_COMMIT_ON_TEARDOWN: É a chave que define se o SQLAlchemy deve fazer o commit (salvar) as alterações no banco de dados automaticamente quando a aplicação termina. Essa opção pode ser conveniente para evitar esquecer de fazer o commit manualmente, mas também pode causar problemas se você quiser controlar quando e como as alterações são salvas. Por isso, é uma questão de preferência pessoal definir o valor como True ou False."
      ],
      "metadata": {
        "id": "DZLUYRbNZ7eu"
      }
    },
    {
      "cell_type": "code",
      "source": [
        "# Configurando o banco de dados SQLite\n",
        "app.config['SQLALCHEMY_DATABASE_URI'] = 'sqlite:///pessoas.db'\n",
        "app.config['SQLALCHEMY_TRACK_MODIFICATIONS'] = False\n",
        "app.config['SQLALCHEMY_COMMIT_ON_TEARDOWN'] = True"
      ],
      "metadata": {
        "id": "JA1BTRKVuq3k"
      },
      "execution_count": null,
      "outputs": []
    },
    {
      "cell_type": "markdown",
      "source": [
        "\n",
        "Essas linhas de código inicializam o banco de dados da sua aplicação Flask usando o SQLAlchemy.\n",
        "\n",
        "Aqui estão alguns pontos importantes sobre essas linhas:\n",
        "\n",
        "* with app.app_context(): Essa parte cria um contexto de aplicação para o seu aplicativo Flask. Um contexto de aplicação é um objeto que armazena informações sobre o estado atual da aplicação, como as configurações, as variáveis globais e os recursos. Ele é necessário para que o SQLAlchemy possa acessar a aplicação e o banco de dados.\n",
        "\n",
        "* db.init_app(app): Essa parte chama o método init_app da instância do banco de dados que você criou anteriormente. Esse método vincula o banco de dados à aplicação Flask, usando as configurações definidas na variável app. Isso permite que você use o banco de dados em seu programa."
      ],
      "metadata": {
        "id": "WSd6Z1P8af_m"
      }
    },
    {
      "cell_type": "code",
      "source": [
        "# Inicializando o SQLAlchemy com a aplicação Flask\n",
        "with app.app_context():\n",
        "    db.init_app(app)"
      ],
      "metadata": {
        "id": "mIhwV10dVBQ6"
      },
      "execution_count": null,
      "outputs": []
    },
    {
      "cell_type": "markdown",
      "source": [
        "Essas linhas de código configuram uma chave secreta para a sua aplicação Flask usando o módulo os. A chave secreta é usada para proteger a sua aplicação contra ataques CSRF (Cross-Site Request Forgery) e para criptografar os dados da sessão do usuário.\n",
        "\n",
        "Aqui estão alguns pontos importantes sobre essas linhas:\n",
        "\n",
        "* import os: Essa parte importa o módulo os, que fornece funções e variáveis relacionadas ao sistema operacional. Esse módulo é útil para interagir com arquivos, diretórios, processos e variáveis de ambiente.\n",
        "\n",
        "* app.config: É um dicionário que armazena as configurações da sua aplicação Flask. Você pode acessar e modificar as configurações usando a sintaxe de colchetes, como app.config[\"CHAVE\"] = VALOR.\n",
        "\n",
        "* SECRET_KEY: É a chave que define a chave secreta da sua aplicação Flask. A chave secreta é uma string aleatória e forte que é usada para assinar os dados da sessão do usuário e para gerar tokens CSRF. Esses tokens são usados para verificar se as solicitações enviadas ao seu servidor são legítimas e não são forjadas por terceiros mal-intencionados.\n",
        "\n",
        "* os.urandom(32): Essa parte chama a função urandom do módulo os, que retorna uma sequência de bytes aleatórios. O argumento 32 indica que queremos 32 bytes, que equivalem a 256 bits. Essa é uma forma segura e recomendada de gerar uma chave secreta, pois garante que a chave seja imprevisível e difícil de adivinhar."
      ],
      "metadata": {
        "id": "LLRQ7MaPasVI"
      }
    },
    {
      "cell_type": "code",
      "source": [
        "import os\n",
        "app.config['SECRET_KEY'] = os.urandom(32)"
      ],
      "metadata": {
        "id": "xIecFejumq95"
      },
      "execution_count": null,
      "outputs": []
    },
    {
      "cell_type": "markdown",
      "source": [
        "Definimos uma classe chamada Pessoa, que representa o modelo de dados para uma pessoa. Essa classe herda da classe db.Model, que é fornecida pelo Flask-SQLAlchemy, uma extensão para o Flask que facilita o uso do SQLAlchemy em sua aplicação. O SQLAlchemy é uma biblioteca Python para trabalhar com bancos de dados relacionais.\n",
        "\n",
        "Aqui está uma explicação de cada parte do código:\n",
        "\n",
        "* class Pessoa(db.Model): Essa parte define o nome da classe e a classe pai. A classe Pessoa herda da classe db.Model, o que significa que ela tem todos os atributos e métodos da classe pai, além dos que ela define por si mesma. A classe db.Model é usada para mapear as classes Python para as tabelas do banco de dados, usando o conceito de ORM (Object-Relational Mapping).\n",
        "\n",
        "* id = db.Column(db.Integer, primary_key=True): Essa parte define um atributo chamado id para a classe Pessoa. Esse atributo é mapeado para uma coluna na tabela do banco de dados, usando o método db.Column. O método db.Column recebe alguns argumentos que definem as características da coluna, como o tipo de dados, as restrições e os índices. Nesse caso, o tipo de dados é db.Integer, que representa um número inteiro. A restrição é primary_key=True, que indica que essa coluna é a chave primária da tabela, ou seja, o identificador único de cada registro. A chave primária é usada para referenciar e relacionar os registros entre as tabelas.\n",
        "\n",
        "* nome = db.Column(db.String(100), nullable=False): Essa parte define um atributo chamado nome para a classe Pessoa. Esse atributo é mapeado para uma coluna na tabela do banco de dados, usando o método db.Column. O tipo de dados é db.String(100), que representa uma string de até 100 caracteres. A restrição é nullable=False, que indica que essa coluna não pode ser nula, ou seja, ela deve ter um valor definido para cada registro.\n",
        "\n",
        "* idade = db.Column(db.Integer, nullable=False): Essa parte define um atributo chamado idade para a classe Pessoa. Esse atributo é mapeado para uma coluna na tabela do banco de dados, usando o método db.Column. O tipo de dados é db.Integer, que representa um número inteiro. A restrição é nullable=False, que indica que essa coluna não pode ser nula.\n",
        "\n",
        "* altura = db.Column(db.Float, nullable=False): Essa parte define um atributo chamado altura para a classe Pessoa. Esse atributo é mapeado para uma coluna na tabela do banco de dados, usando o método db.Column. O tipo de dados é db.Float, que representa um número de ponto flutuante. A restrição é nullable=False, que indica que essa coluna não pode ser nula.\n",
        "\n",
        "* def __init__(self, nome, idade, altura): Essa parte define o método construtor da classe Pessoa. O método construtor é um método especial que é chamado quando uma nova instância da classe é criada. Ele recebe alguns argumentos que são usados para inicializar os atributos da instância. Nesse caso, os argumentos são nome, idade e altura, que correspondem aos atributos da classe. O primeiro argumento é sempre self, que representa a própria instância da classe. Dentro do método, os atributos da instância são definidos usando a sintaxe self.atributo = valor. Por exemplo, self.nome = nome significa que o atributo nome da instância recebe o valor do argumento nome.\n",
        "\n",
        "* def __repr__(self): Essa parte define o método que retorna a representação em string da classe Pessoa. O método repr é um método especial que é chamado quando você quer ver a representação de um objeto em forma de texto. Ele deve retornar uma string que descreve o objeto de forma concisa e informativa. Nesse caso, o método retorna uma string no formato <Pessoa {self.nome}>, que indica que o objeto é uma instância da classe Pessoa e mostra o valor do atributo nome. Por exemplo, se você criar uma instância da classe Pessoa com o nome “João”, o método repr vai retornar <Pessoa João>.\n",
        "\n",
        "* def falar(self, mensagem): Essa parte define um método chamado falar para a classe Pessoa. Esse método representa uma lógica de negócio da classe, ou seja, uma ação que a classe pode realizar. Ele recebe dois argumentos: self, que representa a própria instância da classe, e mensagem, que representa o que a pessoa quer falar. O método retorna uma string que mostra o nome da pessoa e a mensagem que ela falou. Por exemplo, se você chamar o método falar com a mensagem “Olá, mundo!”, o método vai retornar João diz: Olá, mundo!.\n",
        "\n",
        "* def andar(self, distancia): Essa parte define um método chamado andar para a classe Pessoa. Esse método representa outra lógica de negócio da classe, ou seja, outra ação que a classe pode realizar. Ele recebe dois argumentos: self, que representa a própria instância da classe, e distancia, que representa quantos metros a pessoa quer andar. O método retorna uma string que mostra o nome da pessoa e a distância que ela andou. Por exemplo, se você chamar o método andar com a distância 10, o método vai retornar João andou 10 metros.\n",
        "\n",
        "* def crescer(self, altura): Essa parte define um método chamado crescer para a classe Pessoa. Esse método representa mais uma lógica de negócio da classe, ou seja, mais uma ação que a classe pode realizar. Ele recebe dois argumentos: self, que representa a própria instância da classe, e altura, que representa quantos centímetros a pessoa quer crescer. O método altera o valor do atributo altura da instância, somando o valor do argumento altura. O método também retorna uma string que mostra o nome da pessoa e a altura que ela cresceu. Por exemplo, se você chamar o método crescer com a altura 5, o método vai alterar o valor do atributo altura de 1.7 para 1.75 e vai retornar João cresceu 5 centímetros."
      ],
      "metadata": {
        "id": "73SAdWuDcKrN"
      }
    },
    {
      "cell_type": "code",
      "source": [
        "# Criando a classe Pessoa, que representa o modelo\n",
        "class Pessoa(db.Model):\n",
        "    # Definindo os atributos da tabela pessoas\n",
        "    id = db.Column(db.Integer, primary_key=True)\n",
        "    nome = db.Column(db.String(100), nullable=False)\n",
        "    idade = db.Column(db.Integer, nullable=False)\n",
        "    altura = db.Column(db.Float, nullable=False)\n",
        "\n",
        "    # Definindo o método construtor da classe\n",
        "    def __init__(self, nome, idade, altura):\n",
        "        self.nome = nome\n",
        "        self.idade = idade\n",
        "        self.altura = altura\n",
        "\n",
        "    # Definindo o método que retorna a representação em string da classe\n",
        "    def __repr__(self):\n",
        "        return f'<Pessoa {self.nome}>'\n",
        "\n",
        "    # Definindo os métodos que representam a lógica de negócio da classe\n",
        "    def falar(self, mensagem):\n",
        "        return f'{self.nome} diz: {mensagem}'\n",
        "\n",
        "    def andar(self, distancia):\n",
        "        return f'{self.nome} andou {distancia} metros'\n",
        "\n",
        "    def crescer(self, altura):\n",
        "        self.altura += altura\n",
        "        return f'{self.nome} cresceu {altura} centímetros'\n"
      ],
      "metadata": {
        "id": "ajkWd9H6uwc8"
      },
      "execution_count": null,
      "outputs": []
    },
    {
      "cell_type": "markdown",
      "source": [
        "db.create_all(): Essa parte chama o método create_all da instância do banco de dados que foi criada anteriormente.\n",
        "\n",
        "Esse método cria as tabelas do banco de dados de acordo com as classes que herdam de db.Model. As classes que herdam de db.Model representam os modelos de dados da sua aplicação e são mapeadas para as tabelas do banco de dados usando o conceito de ORM (Object-Relational Mapping)."
      ],
      "metadata": {
        "id": "6mliL0UUdKoZ"
      }
    },
    {
      "cell_type": "code",
      "source": [
        "# Criando as tabelas no banco de dados\n",
        "with app.app_context():\n",
        "    db.create_all()"
      ],
      "metadata": {
        "id": "yr1DvCfSOhRK"
      },
      "execution_count": null,
      "outputs": []
    },
    {
      "cell_type": "markdown",
      "source": [
        "class ExclusaoForm(FlaskForm): Essa parte define o nome da classe e a classe pai. A classe ExclusaoForm herda da classe FlaskForm, o que significa que ela tem todos os atributos e métodos da classe pai, além dos que ela define por si mesma. A classe FlaskForm é usada para criar e validar formulários web, usando o conceito de WTForms.\n",
        "\n",
        "pass: Essa parte indica que a classe ExclusaoForm não tem nenhum atributo ou método próprio. Ela apenas usa os atributos e métodos da classe FlaskForm. O comando pass é usado para indicar que um bloco de código está vazio e não faz nada."
      ],
      "metadata": {
        "id": "AQJW6L-edq2h"
      }
    },
    {
      "cell_type": "code",
      "source": [
        "class ExclusaoForm(FlaskForm):\n",
        "    pass"
      ],
      "metadata": {
        "id": "65nRls0pk-7k"
      },
      "execution_count": null,
      "outputs": []
    },
    {
      "cell_type": "markdown",
      "source": [
        "O código define uma rota para a página inicial da aplicação Flask, que representa a visão. A visão é a parte da aplicação que interage com o usuário, mostrando as informações e recebendo as entradas.\n",
        "\n",
        "* @app.route('/'): Essa parte define o decorador @app.route, que associa uma função a uma URL. Um decorador é uma função que modifica o comportamento de outra função. Nesse caso, o decorador @app.route indica que a função index deve ser chamada quando o usuário acessar a URL raiz (“/”) da aplicação. A URL raiz é a página inicial da aplicação, que geralmente mostra uma visão geral ou um menu de opções.\n",
        "\n",
        "* def index(): Essa parte define a função index, que representa a lógica da visão para a página inicial. Essa função é responsável por obter os dados do modelo, processar as entradas do usuário e renderizar o template. Nesse caso, a função não recebe nenhum argumento e retorna uma string que contém o HTML da página inicial.\n",
        "\n",
        "* pessoas = Pessoa.query.all(): Essa parte obtém todas as pessoas do banco de dados, usando o controlador. O controlador é a parte da aplicação que gerencia a comunicação entre a visão e o modelo, executando as operações solicitadas pelo usuário e atualizando os dados. Nesse caso, o controlador é representado pela classe Pessoa, que foi definida anteriormente usando o SQLAlchemy. O método all é usado para retornar uma lista de todos os resultados da consulta. O resultado é atribuído à variável pessoas, que contém uma lista de instâncias da classe Pessoa.\n",
        "\n",
        "* return render_template('index.html', pessoas=pessoas): Essa parte renderiza o template index.html, passando as pessoas como variável. Um template é um arquivo HTML que contém espaços reservados para as variáveis que serão preenchidas com os dados dinâmicos. O Flask usa o Jinja2 como mecanismo de template, que permite criar templates flexíveis e reutilizáveis. A função render_template é fornecida pelo Flask e é usada para renderizar um template, substituindo os espaços reservados pelas variáveis correspondentes. Nesse caso, a função recebe dois argumentos: o nome do template (index.html) e a variável que contém os dados (pessoas). A função retorna uma string que contém o HTML do template renderizado, que será mostrado ao usuário.\n",
        "\n",
        "Repete a interpretação para as visões de Cadastro, exclusão e edição."
      ],
      "metadata": {
        "id": "M-m_YXN4eSj-"
      }
    },
    {
      "cell_type": "code",
      "source": [
        "# Criando a rota para a página inicial, que representa a visão\n",
        "@app.route('/')\n",
        "def index():\n",
        "    # Obtendo todas as pessoas do banco de dados, usando o controlador\n",
        "    pessoas = Pessoa.query.all()\n",
        "    # Renderizando o template index.html, passando as pessoas como variável\n",
        "    return render_template('index.html', pessoas=pessoas)"
      ],
      "metadata": {
        "id": "EiH1KoMsu3xw"
      },
      "execution_count": null,
      "outputs": []
    },
    {
      "cell_type": "code",
      "source": [
        "# Criando a rota para a página de cadastro, que representa a visão\n",
        "@app.route('/cadastro')\n",
        "def cadastro():\n",
        "    # Renderizando o template cadastro.html\n",
        "    return render_template('cadastro.html')"
      ],
      "metadata": {
        "id": "cuz4JQrtvVO1"
      },
      "execution_count": null,
      "outputs": []
    },
    {
      "cell_type": "code",
      "source": [
        "# Criando a rota para a página de edição, que representa a visão\n",
        "@app.route('/edicao/<int:id>')\n",
        "def edicao(id):\n",
        "    # Obtendo a pessoa pelo id do banco de dados, usando o controlador\n",
        "    pessoa = Pessoa.query.get_or_404(id)\n",
        "    # Renderizando o template edicao.html, passando a pessoa como variável\n",
        "    return render_template('edicao.html', pessoa=pessoa)"
      ],
      "metadata": {
        "id": "HzxXi6IDvbme"
      },
      "execution_count": null,
      "outputs": []
    },
    {
      "cell_type": "code",
      "source": [
        "# Criando a rota para a página de exclusão, que representa a visão\n",
        "@app.route('/exclusao/<int:id>')\n",
        "def exclusao(id):\n",
        "    # Obtendo a pessoa pelo id do banco de dados, usando o controlador\n",
        "    pessoa = Pessoa.query.get_or_404(id)\n",
        "    # Criando um objeto da classe ExclusaoForm\n",
        "    form = ExclusaoForm()\n",
        "    # Renderizando o template exclusao.html, passando a pessoa e o form como variáveis\n",
        "    return render_template('exclusao.html', pessoa=pessoa, form=form)"
      ],
      "metadata": {
        "id": "FqnpLreIvfss"
      },
      "execution_count": null,
      "outputs": []
    },
    {
      "cell_type": "markdown",
      "source": [
        "O código define uma rota para a função de salvar da aplicação Flask, que representa o controlador. O controlador é a parte da aplicação que gerencia a comunicação entre a visão e o modelo, executando as operações solicitadas pelo usuário e atualizando os dados.\n",
        "\n",
        "* @app.route('/salvar', methods=['POST']): Essa parte define o decorador @app.route, que associa uma função a uma URL. Um decorador é uma função que modifica o comportamento de outra função. Nesse caso, o decorador @app.route indica que a função salvar deve ser chamada quando o usuário acessar a URL “/salvar” da aplicação, usando o método POST. O método POST é usado para enviar dados ao servidor, como os dados de um formulário web.\n",
        "\n",
        "* def salvar(): Essa parte define a função salvar, que representa a lógica do controlador para a função de salvar. Essa função é responsável por obter os dados do formulário web, criar um objeto da classe Pessoa com esses dados, adicionar o objeto ao banco de dados, salvar as alterações no banco de dados e redirecionar para a página inicial. Nesse caso, a função não recebe nenhum argumento e retorna uma string que contém a URL da página inicial.\n",
        "\n",
        "* nome = request.form['nome']: Essa parte obtém o valor do campo nome do formulário web, usando o objeto request. O objeto request é fornecido pelo Flask e contém as informações sobre a solicitação enviada pelo usuário, como os dados, os cabeçalhos, os cookies e os parâmetros. O atributo form é um dicionário que armazena os dados do formulário web, usando as chaves como os nomes dos campos e os valores como os valores dos campos. Nesse caso, o valor do campo nome é atribuído à variável nome.\n",
        "\n",
        "* idade = request.form['idade']: Essa parte obtém o valor do campo idade do formulário web, usando o objeto request. O valor do campo idade é atribuído à variável idade.\n",
        "\n",
        "* altura = request.form['altura']: Essa parte obtém o valor do campo altura do formulário web, usando o objeto request. O valor do campo altura é atribuído à variável altura.\n",
        "\n",
        "* pessoa = Pessoa(nome, idade, altura): Essa parte cria um objeto da classe Pessoa com os dados do formulário web, usando o construtor da classe. A classe Pessoa representa o modelo de dados para uma pessoa e foi definida anteriormente usando o SQLAlchemy. O construtor da classe Pessoa recebe três argumentos: nome, idade e altura, que correspondem aos atributos da classe. O objeto criado é atribuído à variável pessoa.\n",
        "\n",
        "* db.session.add(pessoa): Essa parte adiciona o objeto da classe Pessoa ao banco de dados, usando o objeto db.session. O objeto db.session é fornecido pelo SQLAlchemy e representa uma sessão de trabalho com o banco de dados. Ele permite realizar operações como adicionar, atualizar, deletar e consultar os dados. O método add é usado para adicionar um novo objeto ao banco de dados, mas não salva as alterações imediatamente.\n",
        "\n",
        "* db.session.commit(): Essa parte salva as alterações no banco de dados, usando o método commit do objeto db.session. O método commit é usado para confirmar as operações realizadas na sessão e persistir os dados no banco de dados. Se houver algum erro ou exceção, o método commit pode falhar e desfazer as operações, usando o método rollback.\n",
        "\n",
        "* return redirect(url_for('index')): Essa parte redireciona para a página inicial, usando as funções redirect e url_for. A função redirect é fornecida pelo Flask e é usada para retornar uma resposta que redireciona o usuário para outra URL. A função url_for é fornecida pelo Flask e é usada para gerar a URL de uma rota, usando o nome da função associada. Nesse caso, a função url_for recebe o argumento index, que é o nome da função que representa a visão para a página inicial. A função redirect recebe o valor retornado pela função url_for e retorna uma resposta que redireciona o usuário para a URL da página inicial.\n",
        "\n",
        "O comportamento repete-se para todos os demais controladores cadastro, edição e exclusão."
      ],
      "metadata": {
        "id": "P8bCxluxf4-M"
      }
    },
    {
      "cell_type": "code",
      "source": [
        "# Criando a rota para a função de salvar, que representa o controlador\n",
        "@app.route('/salvar', methods=['POST'])\n",
        "def salvar():\n",
        "    # Obtendo os dados do formulário de cadastro\n",
        "    nome = request.form['nome']\n",
        "    idade = request.form['idade']\n",
        "    altura = request.form['altura']\n",
        "    # Criando um objeto da classe Pessoa com os dados do formulário\n",
        "    pessoa = Pessoa(nome, idade, altura)\n",
        "    # Adicionando o objeto ao banco de dados\n",
        "    db.session.add(pessoa)\n",
        "    # Salvando as alterações no banco de dados\n",
        "    db.session.commit()\n",
        "    # Redirecionando para a página inicial\n",
        "    return redirect(url_for('index'))"
      ],
      "metadata": {
        "id": "P1KkVR5TvonO"
      },
      "execution_count": null,
      "outputs": []
    },
    {
      "cell_type": "code",
      "source": [
        "# Criando a rota para a função de atualizar, que representa o controlador\n",
        "@app.route('/atualizar/<int:id>', methods=['POST'])\n",
        "def atualizar(id):\n",
        "    # Obtendo a pessoa pelo id do banco de dados\n",
        "    pessoa = Pessoa.query.get_or_404(id)\n",
        "    # Obtendo os dados do formulário de edição\n",
        "    nome = request.form['nome']\n",
        "    idade = request.form['idade']\n",
        "    altura = request.form['altura']\n",
        "    # Atualizando os atributos da pessoa com os dados do formulário\n",
        "    pessoa.nome = nome\n",
        "    pessoa.idade = idade\n",
        "    pessoa.altura = altura\n",
        "    # Salvando as alterações no banco de dados\n",
        "    db.session.commit()\n",
        "    # Redirecionando para a página inicial\n",
        "    return redirect(url_for('index'))"
      ],
      "metadata": {
        "id": "CbqmoAjavr6A"
      },
      "execution_count": null,
      "outputs": []
    },
    {
      "cell_type": "code",
      "source": [
        "# Criando a rota para a função de deletar, que representa o controlador\n",
        "@app.route('/deletar/<int:id>', methods=['POST'])\n",
        "def deletar(id):\n",
        "    # Obtendo a pessoa pelo id do banco de dados\n",
        "    pessoa = Pessoa.query.get_or_404(id)\n",
        "    # Deletando o objeto do banco de dados\n",
        "    db.session.delete(pessoa)\n",
        "    # Salvando as alterações no banco de dados\n",
        "    db.session.commit()\n",
        "    # Redirecionando para a página inicial\n",
        "    return redirect(url_for('index'))"
      ],
      "metadata": {
        "id": "Dk8HWg9PvzpG"
      },
      "execution_count": null,
      "outputs": []
    },
    {
      "cell_type": "markdown",
      "source": [
        "O código define uma classe chamada Server, que herda da classe threading.Thread. A classe threading.Thread é fornecida pelo módulo threading, que permite criar e gerenciar threads em Python. Uma thread é uma unidade de execução que pode rodar simultaneamente com outras threads, compartilhando os recursos do processo.\n",
        "\n",
        "* from werkzeug.serving import make_server: Essa parte importa a função make_server do módulo werkzeug.serving, que fornece uma implementação simples de um servidor web WSGI. O WSGI é uma especificação que define como um servidor web e uma aplicação web devem se comunicar. O Flask usa o WSGI para rodar a sua aplicação web.\n",
        "\n",
        "* import threading: Essa parte importa o módulo threading, que fornece as classes e as funções para trabalhar com threads em Python.\n",
        "\n",
        "* class Server(threading.Thread): Essa parte define o nome da classe e a classe pai. A classe Server herda da classe threading.Thread, o que significa que ela tem todos os atributos e métodos da classe pai, além dos que ela define por si mesma. A classe threading.Thread é usada para criar e gerenciar threads em Python.\n",
        "\n",
        "* def __init__(self, app): Essa parte define o método construtor da classe Server. Ele recebe alguns argumentos que são usados para inicializar os atributos da instância. Nesse caso, o argumento é app, que representa a instância da aplicação Flask. O primeiro argumento é sempre self, que representa a própria instância da classe. Dentro do método, os atributos da instância são definidos usando a sintaxe self.atributo = valor. Por exemplo, self.app = app significa que o atributo app da instância recebe o valor do argumento app.\n",
        "\n",
        "* super().__init__(): Essa parte chama o método construtor da classe pai, usando a função super. A função super é usada para acessar os atributos e os métodos da classe pai sem precisar especificar o seu nome. Nesse caso, a função super chama o método construtor da classe threading.Thread, que inicializa a instância como uma thread.\n",
        "\n",
        "* self.srv = make_server('127.0.0.1', 5000, app): Essa parte cria uma instância da classe werkzeug.serving.BaseWSGIServer, que representa um servidor web WSGI, usando a função make_server. A função make_server recebe alguns argumentos que definem as características do servidor, como o endereço, a porta e a aplicação. Nesse caso, os argumentos são ‘127.0.0.1’, 5000 e app, que significam que o servidor vai rodar no endereço local (‘127.0.0.1’), na porta 5000 e usando a aplicação Flask (app). A instância criada é atribuída ao atributo srv da instância da classe Server.\n",
        "\n",
        "* self.ctx = app.app_context(): Essa parte cria um contexto de aplicação para a instância da aplicação Flask, usando o método app_context. Um contexto de aplicação é um objeto que armazena informações sobre o estado atual da aplicação, como as configurações, as variáveis globais e os recursos. Ele é necessário para que o Flask possa acessar a aplicação e o banco de dados. A instância criada é atribuída ao atributo ctx da instância da classe Server.\n",
        "\n",
        "* self.ctx.push(): Essa parte empilha o contexto de aplicação na pilha de contextos, usando o método push. A pilha de contextos é uma estrutura de dados que armazena os contextos de aplicação e de solicitação que estão ativos no momento. O método push é usado para ativar um contexto de aplicação, tornando-o acessível pelo Flask.\n",
        "\n",
        "* def run(self): Essa parte define o método que executa a thread da classe Server. O método run é um método especial que é chamado quando a thread é iniciada, usando o método start. Ele contém a lógica principal da thread, que é executada em paralelo com as outras threads. Nesse caso, o método não recebe nenhum argumento além de self, que representa a própria instância da classe.\n",
        "\n",
        "* print('starting server'): Essa parte imprime a mensagem ‘starting server’ na saída padrão, usando a função print. A função print é usada para mostrar informações na tela ou em outro dispositivo de saída. Nesse caso, a função mostra que o servidor está sendo iniciado.\n",
        "\n",
        "* self.srv.serve_forever(): Essa parte inicia o servidor web WSGI, usando o método serve_forever. O método serve_forever é usado para rodar o servidor indefinidamente, até que ele seja interrompido por um sinal ou uma exceção. Nesse caso, o método roda o servidor que está no atributo srv da instância da classe Server.\n",
        "\n",
        "* def shutdown(self): Essa parte define o método que encerra a thread da classe Server. O método shutdown é um método personalizado que é chamado quando a thread deve ser finalizada, usando o método join. Ele contém a lógica para parar o servidor web WSGI e limpar os recursos. Nesse caso, o método não recebe nenhum argumento além de self, que representa a própria instância da classe.\n",
        "\n",
        "* print('stopping server'): Essa parte imprime a mensagem ‘stopping server’ na saída padrão, usando a função print. A função print é usada para mostrar informações na tela ou em outro dispositivo de saída. Nesse caso, a função mostra que o servidor está sendo encerrado.\n",
        "\n",
        "* self.srv.shutdown(): Essa parte encerra o servidor web WSGI, usando o método shutdown. O método shutdown é usado para parar o servidor e liberar os recursos. Nesse caso, o método para o servidor que está no atributo srv da instância da classe Server.\n",
        "\n",
        "* server = Server(app): Essa parte cria uma instância da classe Server, passando a instância da aplicação Flask (app) como argumento. A instância criada é atribuída à variável server.\n",
        "\n",
        "* server.start(): Essa parte inicia a thread da instância da classe Server, usando o método start. O método start é usado para ativar a thread e chamar o método run. Nesse caso, o método inicia o servidor web WSGI em uma thread separada."
      ],
      "metadata": {
        "id": "wS2cmVjlib_X"
      }
    },
    {
      "cell_type": "code",
      "source": [
        "from werkzeug.serving import make_server\n",
        "import threading\n",
        "\n",
        "class Server(threading.Thread):\n",
        "\n",
        "    def __init__(self, app):\n",
        "        super().__init__()\n",
        "        self.srv = make_server('127.0.0.1', 5000, app)\n",
        "        self.ctx = app.app_context()\n",
        "        self.ctx.push()\n",
        "\n",
        "    def run(self):\n",
        "        print('starting server')\n",
        "        self.srv.serve_forever()\n",
        "\n",
        "    def shutdown(self):\n",
        "        print('stopping server')\n",
        "        self.srv.shutdown()\n",
        "\n",
        "server = Server(app)\n",
        "server.start()  # Inicia o servidor"
      ],
      "metadata": {
        "id": "DNxj-iBuv3sD",
        "colab": {
          "base_uri": "https://localhost:8080/"
        },
        "outputId": "37dbbd15-8df1-49e7-be76-21149d972029"
      },
      "execution_count": null,
      "outputs": [
        {
          "output_type": "stream",
          "name": "stdout",
          "text": [
            "starting server\n"
          ]
        }
      ]
    },
    {
      "cell_type": "code",
      "source": [
        "# Quando quiser parar o servidor, chame a função shutdown\n",
        "server.shutdown()"
      ],
      "metadata": {
        "id": "evHAEb1HA41D",
        "colab": {
          "base_uri": "https://localhost:8080/"
        },
        "outputId": "fa837f01-a8d4-4931-b24f-bd91ad8f73c3"
      },
      "execution_count": null,
      "outputs": [
        {
          "output_type": "stream",
          "name": "stdout",
          "text": [
            "stopping server\n"
          ]
        }
      ]
    },
    {
      "cell_type": "markdown",
      "source": [
        "#### MVC é complexo\n",
        "\n",
        "De fato sim, mas pode ser explorado no seus estudos as evoluções do MVC, como MVVM e o MVP, esses poderão verificar a parte, não será abordado nesse curso.\n",
        "\n",
        "O padrão MVC divide a aplicação em três componentes:\n",
        "> o modelo, que representa os dados e a lógica de negócio;\n",
        "> a visão, que representa a interface de usuário;\n",
        "> e o controlador, que gerencia a comunicação entre a visão e o modelo.\n",
        "\n",
        "O padrão MVC tem algumas vantagens, como:\n",
        "\n",
        "* Separar as responsabilidades dos componentes, facilitando a manutenção e a reutilização do código.\n",
        "\n",
        "* Permitir o desenvolvimento paralelo e colaborativo dos componentes, aumentando a produtividade e a qualidade do código.\n",
        "\n",
        "* Facilitar a adaptação da aplicação a diferentes plataformas e tecnologias, mudando apenas a visão ou o controlador.\n",
        "\n",
        "O padrão MVC também tem algumas desvantagens, como:\n",
        "\n",
        "* Aumentar a complexidade da aplicação, exigindo mais classes e arquivos.\n",
        "\n",
        "* Criar uma dependência entre a visão e o modelo, dificultando o teste e o isolamento dos componentes.\n",
        "\n",
        "* Gerar uma sobrecarga de comunicação entre os componentes, afetando o desempenho e a escalabilidade da aplicação.\n",
        "\n",
        "Para melhorar o padrão MVC, você pode usar outros padrões de projeto que complementam ou modificam o MVC, como o MVVM (Model View ViewModel) e o MVP (Model View Presenter), como já foi dito. Esses padrões são variações do MVC que tentam resolver alguns dos seus problemas, como a dependência entre a visão e o modelo e a dificuldade de teste.\n",
        "\n",
        "* O **MVVM** é um padrão que introduz um novo componente chamado ViewModel, que é responsável por expor os dados e os eventos do modelo para a visão, usando o padrão Observer. O ViewModel também contém a lógica de apresentação da visão, como a validação e a formatação dos dados. O MVVM permite que a visão seja mais declarativa e reativa, sem precisar de um controlador.\n",
        "\n",
        "* O **MVP** é um padrão que altera o papel do controlador, que passa a ser chamado de Presenter. O Presenter é responsável por atualizar a visão com os dados do modelo e por manipular as ações do usuário, usando o padrão Strategy. O Presenter também contém a lógica de apresentação da visão, como a validação e a formatação dos dados. O MVP permite que a visão seja mais passiva e testável, sem depender do modelo."
      ],
      "metadata": {
        "id": "oF90WONlkDjq"
      }
    },
    {
      "cell_type": "markdown",
      "source": [
        "# Capitulo 04 - Estrutura de dados"
      ],
      "metadata": {
        "id": "MBfJpc9BaWyi"
      }
    },
    {
      "cell_type": "markdown",
      "source": [
        "## Estrutura de Dados\n",
        "\n",
        "Uma Estrutura de Dados é um formato especializado para organizar, processar e armazenar dados na memória de um computador. Ela permite acesso e manipulação eficientes de dados, permitindo que os desenvolvedores executem tarefas específicas com mais eficiência. Essas estruturas servem como base para a construção de algoritmos que resolvem problemas complexos e desempenham um papel fundamental na definição do desempenho e da funcionalidade do software.\n",
        "\n",
        "Como profissional de dados, compreender as estruturas de dados é fundamental para várias razões:\n",
        "\n",
        "* Armazenamento Eficiente: O profissional de dados lida com grandes volumes de dados. Saber escolher a estrutura de dados certa para armazenar esses dados é crucial. Estruturas como tabelas, listas ligadas, árvores e gráficos afetam diretamente o desempenho do armazenamento e a escalabilidade dos sistemas de gerenciamento de dados.\n",
        "\n",
        "* Processamento Rápido: O processamento eficiente de dados é essencial para o profissional de dados. Estruturas como índices, hash tables e filas de prioridade permitem consultas rápidas e operações de busca, reduzindo o tempo de processamento.\n",
        "\n",
        "* Transformação de Dados: O profissional de dados frequentemente transforma dados brutos em formatos mais úteis. Estruturas como matrizes, dicionários e conjuntos são usadas para manipular, filtrar e agregar dados durante a transformação.\n",
        "\n",
        "* Integração de Dados: Ao integrar dados de várias fontes, o profissional de dados deve considerar como esses dados serão combinados. Estruturas como junções de tabelas e uniões são essenciais para essa tarefa.\n",
        "\n",
        "* Modelagem de Dados: O profissional de dados projeta esquemas de banco de dados e define relacionamentos entre tabelas. Isso envolve escolher as estruturas de dados certas para representar entidades, relacionamentos e atributos.\n",
        "\n",
        "* Escalabilidade e Desempenho: Estruturas de dados bem projetadas garantem que os sistemas de dados possam lidar com cargas crescentes. O profissional de dados deve considerar o desempenho ao projetar pipelines de dados e sistemas de armazenamento.\n",
        "\n",
        "Em resumo, o conhecimento sólido sobre estruturas de dados capacita o profissional de dados a criar soluções robustas, escaláveis e eficientes para gerenciar e processar dados em ambientes complexos"
      ],
      "metadata": {
        "id": "ONqGP9Yh7TZz"
      }
    },
    {
      "cell_type": "markdown",
      "source": [
        "## Notações de complexidade de algoritmos\n",
        "\n",
        "Notações são fundamentais para entender o desempenho e a eficiência dos algoritmos em ciência da computação.\n",
        "\n",
        "**Notação Big O (O)**:\n",
        "\n",
        "A notação Big O (ou simplesmente O) é usada para descrever o comportamento assintótico de um algoritmo.\n",
        "Ela indica como o tempo de execução (ou uso de memória) de um algoritmo cresce em relação ao tamanho da entrada (geralmente denotado por n).\n",
        "\n",
        "A notação O é uma ferramenta para analisar a complexidade de algoritmos e compará-los.\n",
        "\n",
        "**Exemplos de Notações O**:\n",
        "\n",
        "* O(1) (constante): Significa que o tempo de execução (ou uso de memória) do algoritmo é constante, independentemente do tamanho da entrada.\n",
        "Exemplo: Acesso direto a um elemento em um vetor (índice conhecido).\n",
        "\n",
        "* O(n) (linear): Significa que o tempo de execução (ou uso de memória) cresce linearmente com o tamanho da entrada. Exemplo: Percorrer todos os elementos de um vetor.\n",
        "\n",
        "* O(n^2) (quadrático): Significa que o tempo de execução (ou uso de memória) cresce quadraticamente com o tamanho da entrada. Exemplo: Dois loops aninhados que percorrem uma matriz.\n",
        "\n",
        "* O(log n) (logarítmico): Significa que o tempo de execução (ou uso de memória) cresce logaritmicamente com o tamanho da entrada. Exemplo: Busca binária em um vetor ordenado.\n",
        "\n",
        "**Importância**:\n",
        "\n",
        "Compreender a complexidade dos algoritmos é crucial para escolher a melhor solução para um problema.\n",
        "\n",
        "Algoritmos com menor complexidade são mais eficientes e escaláveis.\n",
        "\n",
        "A notação O nos ajuda a identificar gargalos e otimizar nossos programas.\n",
        "\n",
        "Em resumo, a notação Big O nos permite analisar e comparar algoritmos, considerando seu desempenho à medida que o tamanho da entrada aumenta."
      ],
      "metadata": {
        "id": "8DJ_Zo7BPEvX"
      }
    },
    {
      "cell_type": "markdown",
      "source": [
        "## Data Type\n",
        "\n",
        "Data types (ou tipos de dados) são fundamentais na programação, pois representam os diferentes valores que podem ser armazenados e manipulados pelos programas. Cada linguagem de programação possui seus próprios tipos de dados, e eles definem o tipo de informação que uma variável pode conter. Vamos explorar alguns tipos de dados comuns:\n",
        "\n",
        "Númericos:\n",
        "\n",
        "* **int** (inteiro): Representa números inteiros, como 42 ou -10. O tamanho varia entre as linguagens, mas geralmente é de 4 bytes (32 bits).\n",
        "\n",
        "* **Bigint**: O bigint pode armazenar valores no intervalo de -9.223.372.036.854.775.808 a 9.223.372.036.854.775.807. Isso é muito maior do que o intervalo suportado pelo int. O bigint usa 8 bytes de armazenamento (64 bits).\n",
        "\n",
        "* **float** (ponto flutuante): Representa números com casas decimais, como 3.14 ou -0.001. O tamanho é geralmente de 4 bytes (32 bits) ou 8 bytes (64 bits).\n",
        "\n",
        "* **decimal**: Usado para representar números decimais com precisão fixa. É útil para cálculos financeiros ou quando a precisão é crucial. O tamanho varia dependendo da implementação.\n",
        "\n",
        "* **tinyint**: O tinyint é um tipo de dado numérico inteiro. Ele armazena valores inteiros no intervalo de 0 a 255. O tamanho de armazenamento é de 1 byte. É frequentemente usado para representar valores pequenos, como idades ou códigos de status.\n",
        "\n",
        "* **smallint**: O smallint também é um tipo de dado numérico inteiro. Ele armazena valores inteiros no intervalo de -32.768 a 32.767. O tamanho de armazenamento é de 2 bytes. É útil para representar quantidades maiores que o tinyint, mas ainda relativamente pequenas.\n",
        "\n",
        "* **long**: Representa inteiros maiores (geralmente 8 bytes).\n",
        "\n",
        "Booleano:\n",
        "\n",
        "* **bool**: Representa valores lógicos verdadeiro (True) ou falso (False). O tamanho é geralmente de 1 byte.\n",
        "\n",
        "Listas e Arrays:\n",
        "\n",
        "* **list** (lista): Representa uma coleção ordenada de elementos. O tamanho varia conforme a quantidade de elementos na lista.\n",
        "\n",
        "* **array**: Similar à lista, mas com tamanho fixo. O tamanho é definido na criação.\n",
        "\n",
        "Texto:\n",
        "\n",
        "* **char**: Representa um único caractere (geralmente 1 byte).\n",
        "\n",
        "* **str** (string): Representa sequências de caracteres, como “Olá, mundo!” ou “Python”. É um objeto da classe String (com S maiúsculo) em linguagens como Java. Strings não são tratadas como sequências de caracteres terminadas por NULL, mas sim como instâncias da classe String.\n",
        "\n",
        "* **varchar** e **nvarchar**: Usados em bancos de dados.\n",
        "varchar (variável char) armazena caracteres não-UNICODE.\n",
        "nvarchar (variável char UNICODE) trabalha com caracteres UNICODE. O tamanho varia conforme a quantidade de caracteres armazenados.\n",
        "\n",
        "Data e Hora:\n",
        "\n",
        "* **date**: O date é um tipo de dado que representa uma data (sem hora). Ele armazena datas no formato “ano-mês-dia”. O tamanho de armazenamento é de 3 bytes.\n",
        "É útil quando precisamos apenas da informação da data, sem a parte de hora.\n",
        "\n",
        "* **datetime/Timestamp**: Representa datas e horas. O tamanho varia dependendo da precisão (data, hora, minutos, segundos, etc.).\n",
        "\n",
        "\n"
      ],
      "metadata": {
        "id": "BLBf89daHioP"
      }
    },
    {
      "cell_type": "markdown",
      "source": [
        "## Vetor\n",
        "\n",
        "Um vetor (também conhecido como array) é uma estrutura de dados que permite armazenar um conjunto de elementos do mesmo tipo.\n",
        "\n",
        "Ele é uma sequência ordenada de valores, onde cada valor é acessado por um índice (geralmente um número inteiro) dentro do vetor.\n",
        "\n",
        "Os vetores são utilizados para agrupar dados homogêneos e alocá-los continuamente na memória.\n",
        "\n",
        "**Características dos Vetores**:\n",
        "\n",
        "* Unidimensional: Um vetor é uma matriz unidimensional.\n",
        "Tamanho Fixo: Ao declarar um vetor, determinamos seu tamanho, que geralmente não muda durante a execução do programa.\n",
        "\n",
        "* Acesso por Índice: Cada elemento do vetor é acessado por um número inteiro chamado índice.\n",
        "\n",
        "Exemplo de Vetor:\n",
        "\n",
        "Suponha que precisemos armazenar as notas de 5 alunos.\n",
        "Podemos criar um vetor chamado notas com 5 posições para armazenar essas notas.\n",
        "\n",
        "Cada posição do vetor representa a nota de um aluno.\n"
      ],
      "metadata": {
        "id": "tKMs9ggOABdD"
      }
    },
    {
      "cell_type": "code",
      "source": [
        "# Criando um vetor de notas\n",
        "notas = [7.5, 8.0, 6.5, 9.0, 7.2]\n",
        "\n",
        "# Acessando a nota do primeiro aluno (índice 0)\n",
        "primeira_nota = notas[0]\n",
        "print(f\"Nota do primeiro aluno: {primeira_nota}\")"
      ],
      "metadata": {
        "id": "cUB8EqR3AZ-E"
      },
      "execution_count": null,
      "outputs": []
    },
    {
      "cell_type": "markdown",
      "source": [
        "**Tamanho de um Vetor em Memória**:\n",
        "\n",
        "* O tamanho de um vetor em memória depende do número de elementos e do tamanho de cada elemento.\n",
        "\n",
        "* Se tivermos um vetor de 10 inteiros (cada inteiro ocupando 4 bytes), o vetor ocupará 40 bytes (10 elementos * 4 bytes por elemento).\n",
        "\n",
        "* O espaço necessário para armazenar um vetor é sequencial, ou seja, os elementos ficam um ao lado do outro na memória.\n",
        "\n",
        "Relação com Tipos de Dados (Data Types):\n",
        "\n",
        "Os vetores armazenam elementos do mesmo tipo.\n",
        "Por exemplo:\n",
        "\n",
        "* Um vetor de inteiros armazena apenas inteiros.\n",
        "* Um vetor de strings armazena apenas strings.\n",
        "\n",
        "A escolha do tipo de dado determina o tamanho de cada elemento no vetor."
      ],
      "metadata": {
        "id": "BGnFlPbKLWrW"
      }
    },
    {
      "cell_type": "markdown",
      "source": [
        "## Pilha\n",
        "\n",
        "Uma pilha é uma estrutura de dados que segue um protocolo específico: o último elemento a ser inserido é sempre o primeiro elemento a ser removido. Imagine uma pilha de pratos, onde você coloca um prato sobre o outro. Vamos explorar como isso funciona em Python.\n",
        "\n",
        "Em Python, podemos usar listas para implementar pilhas. Embora as pilhas sejam geralmente implementadas com arranjos, usaremos listas para ilustrar o conceito. Aqui está um exemplo simples:"
      ],
      "metadata": {
        "id": "B6L0VzY19olr"
      }
    },
    {
      "cell_type": "code",
      "source": [
        "# Criando uma pilha inicial\n",
        "pilha = [1, 1, 2, 3, 5]\n",
        "print(\"Pilha inicial:\", pilha)\n",
        "\n",
        "# Inserindo um elemento na pilha\n",
        "pilha.append(8)\n",
        "print(\"Inserindo um elemento:\", pilha)\n",
        "\n",
        "# Inserindo outro elemento na pilha\n",
        "pilha.append(13)\n",
        "print(\"Inserindo outro elemento:\", pilha)\n",
        "\n",
        "# Removendo um elemento da pilha\n",
        "pilha.pop()\n",
        "print(\"Removendo um elemento:\", pilha)\n",
        "\n",
        "# Removendo outro elemento da pilha\n",
        "pilha.pop()\n",
        "print(\"Removendo outro elemento:\", pilha)"
      ],
      "metadata": {
        "id": "XWY7Ohmq99HM"
      },
      "execution_count": null,
      "outputs": []
    },
    {
      "cell_type": "markdown",
      "source": [
        "Nesse exemplo, usamos o método append para inserir elementos no final da pilha e o método pop para remover elementos do final da pilha. Ambas as operações têm complexidade constante (O(1)) se implementadas corretamente."
      ],
      "metadata": {
        "id": "H_z-72Qs-LY9"
      }
    },
    {
      "cell_type": "markdown",
      "source": [
        "Pilhas com Estruturas Encadeadas\n",
        "\n",
        "Podemos implementar pilhas usando estruturas encadeadas. Nesse caso, cada elemento da pilha faz referência ao elemento anterior. Aqui está uma implementação básica usando classes:"
      ],
      "metadata": {
        "id": "DZbm2FAR-S5V"
      }
    },
    {
      "cell_type": "code",
      "source": [
        "class Nodo:\n",
        "    def __init__(self, dado=0, nodo_anterior=None):\n",
        "        self.dado = dado\n",
        "        self.anterior = nodo_anterior\n",
        "\n",
        "    def __repr__(self):\n",
        "        return f\"{self.dado} -> {self.anterior}\"\n",
        "\n",
        "class Pilha:\n",
        "    def __init__(self):\n",
        "        self.topo = None\n",
        "\n",
        "    def __repr__(self):\n",
        "        return f\"[{self.topo}]\""
      ],
      "metadata": {
        "id": "aQJP1pGC-bq8"
      },
      "execution_count": null,
      "outputs": []
    },
    {
      "cell_type": "code",
      "source": [
        "# Criando uma instância da classe Pilha\n",
        "minha_pilha = Pilha()\n",
        "\n",
        "# Inserindo elementos na pilha\n",
        "minha_pilha.topo = Nodo(10)\n",
        "minha_pilha.topo = Nodo(20, minha_pilha.topo)\n",
        "minha_pilha.topo = Nodo(30, minha_pilha.topo)\n",
        "\n",
        "# Imprimindo a pilha\n",
        "print(minha_pilha)\n",
        "\n",
        "# Removendo o elemento do topo\n",
        "minha_pilha.topo = minha_pilha.topo.anterior\n",
        "\n",
        "# Imprimindo a pilha após a remoção\n",
        "print(minha_pilha)"
      ],
      "metadata": {
        "id": "U6EqHnUb--qK"
      },
      "execution_count": null,
      "outputs": []
    },
    {
      "cell_type": "markdown",
      "source": [
        "Essa implementação usa uma estrutura encadeada, onde cada elemento (nodo) da pilha faz referência ao elemento anterior. O topo da pilha é o último elemento inserido. As operações de inserção e remoção continuam a seguir o mesmo protocolo: inserção no topo e remoção do topo."
      ],
      "metadata": {
        "id": "Tu7yZt61-i9m"
      }
    },
    {
      "cell_type": "markdown",
      "source": [
        "Embora Python não exija que você gerencie explicitamente o tamanho do vetor, aqui está uma implementação simples para ilustrar o conceito."
      ],
      "metadata": {
        "id": "fqOnEJzfA1JW"
      }
    },
    {
      "cell_type": "code",
      "source": [
        "class Pilha:\n",
        "    def __init__(self, tamanho_maximo):\n",
        "        self.tamanho_maximo = tamanho_maximo\n",
        "        self.vetor = [None] * tamanho_maximo\n",
        "        self.topo = -1\n",
        "\n",
        "    def empilhar(self, elemento):\n",
        "        if self.topo < self.tamanho_maximo - 1:\n",
        "            self.topo += 1\n",
        "            self.vetor[self.topo] = elemento\n",
        "        else:\n",
        "            print(\"Erro: Pilha cheia!\")\n",
        "\n",
        "    def desempilhar(self):\n",
        "        if self.topo >= 0:\n",
        "            elemento = self.vetor[self.topo]\n",
        "            self.topo -= 1\n",
        "            return elemento\n",
        "        else:\n",
        "            print(\"Erro: Pilha vazia!\")\n",
        "\n",
        "    def mostrar_pilha(self):\n",
        "        print(\"Pilha:\")\n",
        "        for i in range(self.topo, -1, -1):\n",
        "            print(self.vetor[i])\n",
        "\n",
        "# Exemplo de uso\n",
        "minha_pilha = Pilha(tamanho_maximo=5)\n",
        "minha_pilha.empilhar(10)\n",
        "minha_pilha.empilhar(20)\n",
        "minha_pilha.empilhar(30)\n",
        "\n",
        "print(\"Elementos da pilha:\")\n",
        "minha_pilha.mostrar_pilha()\n",
        "\n",
        "elemento_removido = minha_pilha.desempilhar()\n",
        "print(f\"Elemento removido: {elemento_removido}\")\n",
        "\n",
        "print(\"Elementos após a remoção:\")\n",
        "minha_pilha.mostrar_pilha()"
      ],
      "metadata": {
        "id": "scBaKH5qA6in"
      },
      "execution_count": null,
      "outputs": []
    },
    {
      "cell_type": "markdown",
      "source": [
        "Explicando cada parte da classe Pilha do código:\n",
        "\n",
        "class Pilha:\n",
        "Aqui, estamos definindo uma classe chamada Pilha.\n",
        "Essa classe representa uma estrutura de dados do tipo pilha.\n",
        "\n",
        "def __ init __ (self, tamanho_maximo):\n",
        "O método especial __init__ é o construtor da classe.\n",
        "Ele é executado automaticamente quando criamos uma instância da classe.\n",
        "Recebe um parâmetro tamanho_maximo, que determina o tamanho máximo da pilha.\n",
        "\n",
        "Inicializa três atributos:\n",
        "\n",
        "* self.tamanho_maximo: armazena o tamanho máximo da pilha.\n",
        "\n",
        "* self.vetor: cria um vetor (lista) com tamanho_maximo posições, inicializado com None.\n",
        "\n",
        "* self.topo: indica a posição do topo da pilha (inicializado como -1).\n",
        "\n",
        "def empilhar(self, elemento):\n",
        "Este método permite empilhar (adicionar) um elemento à pilha.\n",
        "Verifica se a pilha não está cheia (compara self.topo com tamanho_maximo - 1).\n",
        "Se não estiver cheia, incrementa self.topo e insere o elemento no vetor.\n",
        "\n",
        "def desempilhar(self):\n",
        "Este método permite desempilhar (remover) um elemento da pilha.\n",
        "Verifica se a pilha não está vazia (compara self.topo com 0).\n",
        "Se não estiver vazia, obtém o elemento do topo (self.vetor[self.topo]), decrementa self.topo e retorna o elemento.\n",
        "\n",
        "def mostrar_pilha(self):\n",
        "Este método exibe os elementos da pilha.\n",
        "Percorre o vetor do topo até o início (usando um loop for com range(self.topo, -1, -1)).\n",
        "Imprime cada elemento."
      ],
      "metadata": {
        "id": "PhCWTWFiBVSR"
      }
    },
    {
      "cell_type": "markdown",
      "source": [
        "## Fila\n",
        "\n",
        "Uma fila é uma estrutura que segue o princípio FIFO (First-In, First-Out), ou seja, o primeiro elemento a entrar é o primeiro a sair. Imagine uma fila no banco: quem chega primeiro é atendido primeiro."
      ],
      "metadata": {
        "id": "qaGW9YF2CTDn"
      }
    },
    {
      "cell_type": "code",
      "source": [
        "# Criando uma fila (usando lista)\n",
        "fila = []\n",
        "\n",
        "# Enfileirando elementos\n",
        "fila.append(10)\n",
        "fila.append(20)\n",
        "fila.append(30)\n",
        "\n",
        "# Desenfileirando o primeiro elemento\n",
        "elemento_removido = fila.pop(0)\n",
        "print(f\"Elemento removido: {elemento_removido}\")\n",
        "\n",
        "# Mostrando a fila atual\n",
        "print(\"Fila atual:\", fila)"
      ],
      "metadata": {
        "id": "2KyCyhhRMbut"
      },
      "execution_count": null,
      "outputs": []
    },
    {
      "cell_type": "markdown",
      "source": [
        "Aqui, criamos uma fila simples com três elementos (10, 20 e 30). O primeiro elemento (10) foi desenfileirado, e a fila agora contém apenas 20 e 30."
      ],
      "metadata": {
        "id": "IyN_q8q0Mn5l"
      }
    },
    {
      "cell_type": "markdown",
      "source": [
        "Exemplo de fila utilizando vetores:"
      ],
      "metadata": {
        "id": "TONB8J-7Mr2H"
      }
    },
    {
      "cell_type": "code",
      "source": [
        "class Fila:\n",
        "    def __init__(self):\n",
        "        self.fila = []  # Inicializa uma lista vazia para representar a fila\n",
        "\n",
        "    def enfileirar(self, elemento):\n",
        "        self.fila.append(elemento)  # Adiciona o elemento no final da fila\n",
        "\n",
        "    def desenfileirar(self):\n",
        "        if len(self.fila) > 0:\n",
        "            return self.fila.pop(0)  # Remove e retorna o primeiro elemento da fila\n",
        "        else:\n",
        "            print(\"Erro: Fila vazia!\")\n",
        "\n",
        "# Exemplo de uso\n",
        "minha_fila = Fila()\n",
        "minha_fila.enfileirar(10)\n",
        "minha_fila.enfileirar(20)\n",
        "minha_fila.enfileirar(30)\n",
        "\n",
        "elemento_removido = minha_fila.desenfileirar()\n",
        "print(f\"Elemento removido: {elemento_removido}\")\n",
        "\n",
        "print(\"Fila atual:\", minha_fila.fila)"
      ],
      "metadata": {
        "id": "yHaRTW29NOL8"
      },
      "execution_count": null,
      "outputs": []
    },
    {
      "cell_type": "markdown",
      "source": [
        "**Deque da biblioteca Collections**\n",
        "\n",
        "O deque é uma estrutura de dados altamente otimizada para operações de inserção e remoção eficientes nas extremidades da fila.\n",
        "\n",
        "Um deque (double-ended queue) é uma coleção que combina as características de uma pilha (LIFO - Last-In, First-Out) e uma fila (FIFO - First-In, First-Out).\n",
        "\n",
        "Ele permite adicionar e remover elementos tanto no início quanto no final da fila com desempenho O(1).\n",
        "\n",
        "**Por que usar um deque?**\n",
        "\n",
        "O deque é mais eficiente do que uma lista padrão (usando append e pop) para operações de inserção e remoção no início.\n",
        "\n",
        "Enquanto a lista tem complexidade O(n) para inserir/remover no início (pois precisa realocar memória), o deque mantém o desempenho O(1).\n",
        "\n",
        "Exemplo Prático:\n",
        "\n",
        "Usaremos o mesmo exemplo anterior de fila, mas substituiremos a lista pela classe deque."
      ],
      "metadata": {
        "id": "PthvfTV5P6ua"
      }
    },
    {
      "cell_type": "code",
      "source": [
        "from collections import deque\n",
        "\n",
        "class Fila:\n",
        "    def __init__(self):\n",
        "        self.fila = deque()  # Usando deque em vez de lista\n",
        "\n",
        "    def enfileirar(self, elemento):\n",
        "        self.fila.append(elemento)\n",
        "\n",
        "    def desenfileirar(self):\n",
        "        if len(self.fila) > 0:\n",
        "            return self.fila.popleft()  # Usando popleft() em vez de pop(0)\n",
        "        else:\n",
        "            print(\"Erro: Fila vazia!\")\n",
        "\n",
        "# Exemplo de uso\n",
        "minha_fila = Fila()\n",
        "minha_fila.enfileirar(10)\n",
        "minha_fila.enfileirar(20)\n",
        "minha_fila.enfileirar(30)\n",
        "\n",
        "elemento_removido = minha_fila.desenfileirar()\n",
        "print(f\"Elemento removido: {elemento_removido}\")\n",
        "\n",
        "print(\"Fila atual:\", minha_fila.fila)"
      ],
      "metadata": {
        "colab": {
          "base_uri": "https://localhost:8080/"
        },
        "id": "8Nws5pZZQncA",
        "outputId": "30ff13c3-420a-4682-b1fb-73ea78b4068e"
      },
      "execution_count": null,
      "outputs": [
        {
          "output_type": "stream",
          "name": "stdout",
          "text": [
            "Elemento removido: 10\n",
            "Fila atual: deque([20, 30])\n"
          ]
        }
      ]
    },
    {
      "cell_type": "markdown",
      "source": [
        "**Fila encadeada**\n",
        "\n",
        "A fila encadeada é uma estrutura de dados flexível que permite inserções e remoções eficientes no início e no final da fila. Vamos lá:"
      ],
      "metadata": {
        "id": "O5bY2JuvRei_"
      }
    },
    {
      "cell_type": "code",
      "source": [
        "class Nodo:\n",
        "    def __init__(self, dado):\n",
        "        self.dado = dado\n",
        "        self.proximo = None\n",
        "\n",
        "class Fila:\n",
        "    def __init__(self):\n",
        "        self.cabeca = None  # Inicializa a fila vazia\n",
        "\n",
        "    def enfileirar(self, elemento):\n",
        "        novo_nodo = Nodo(elemento)\n",
        "        if not self.cabeca:\n",
        "            self.cabeca = novo_nodo\n",
        "        else:\n",
        "            nodo_atual = self.cabeca\n",
        "            while nodo_atual.proximo:\n",
        "                nodo_atual = nodo_atual.proximo\n",
        "            nodo_atual.proximo = novo_nodo\n",
        "\n",
        "    def desenfileirar(self):\n",
        "        if self.cabeca:\n",
        "            elemento_removido = self.cabeca.dado\n",
        "            self.cabeca = self.cabeca.proximo\n",
        "            return elemento_removido\n",
        "        else:\n",
        "            print(\"Erro: Fila vazia!\")\n",
        "\n",
        "# Exemplo de uso\n",
        "minha_fila = Fila()\n",
        "minha_fila.enfileirar(10)\n",
        "minha_fila.enfileirar(20)\n",
        "minha_fila.enfileirar(30)\n",
        "\n",
        "elemento_removido = minha_fila.desenfileirar()\n",
        "print(f\"Elemento removido: {elemento_removido}\")\n",
        "\n",
        "# Imprime a fila atual\n",
        "nodo_atual = minha_fila.cabeca\n",
        "while nodo_atual:\n",
        "    print(nodo_atual.dado, end=\" -> \")\n",
        "    nodo_atual = nodo_atual.proximo\n",
        "print(\"Fim da fila\")"
      ],
      "metadata": {
        "id": "DRgxFJ9ARzNy"
      },
      "execution_count": null,
      "outputs": []
    },
    {
      "cell_type": "markdown",
      "source": [
        "## Tabela Hash\n",
        "\n",
        "Uma Tabela Hash, também conhecida como tabela de dispersão ou tabela de espalhamento, é uma estrutura de dados especial que associa chaves a valores. Seu objetivo é, a partir de uma chave simples, realizar buscas rápidas e obter o valor desejado. A Tabela Hash leva em conta o valor absoluto de cada chave, interpretado como um valor numérico\n",
        "\n",
        "**Definição e Funcionamento**:\n",
        "\n",
        "Uma Tabela Hash é uma estrutura que permite mapeamento direto entre chaves e posições na tabela.\n",
        "Ela utiliza uma função hash para calcular um valor inteiro a partir da chave, determinando a posição onde o valor associado à chave será armazenado.\n",
        "A busca por um valor é eficiente, pois a função hash direciona diretamente à posição correspondente.\n",
        "\n",
        "**Componentes**:\n",
        "\n",
        "U: Universo de chaves.\n",
        "h: Função hash que mapeia chaves em posições da tabela.\n",
        "T: Tabela com posições indexadas por inteiros.\n",
        "\n",
        "**Propriedades**:\n",
        "\n",
        "Sobrejetora: Toda chave leva a alguma posição.\n",
        "Injetora: Cada posição corresponde a uma única chave.\n",
        "|T| = |U|: Alocar uma posição para cada chave.\n",
        "\n",
        "**Colisões**:\n",
        "\n",
        "Ocorrem quando mais de uma chave é mapeada para a mesma posição.\n",
        "\n",
        "Solução: Relaxar a condição de injetividade, permitindo colisões controladas.\n",
        "\n",
        "**Custos**:\n",
        "\n",
        "Inserção: O(1) (tempo médio).\n",
        "Recuperação: O(1) (tempo médio).\n",
        "Colisões: Devem ser tratadas para garantir eficiência.\n",
        "\n",
        "**Tratamento de Colisões**:\n",
        "\n",
        "Quando duas chaves diferentes resultam no mesmo índice da tabela hash, ocorre uma colisão.\n",
        "\n",
        "Técnicas comuns de tratamento de colisões incluem:\n",
        "\n",
        "* Encadeamento: Criação de listas para elementos com o mesmo valor hash.\n",
        "\n",
        "* Sondagem: Explora outros slots na tabela para encontrar um local vazio.\n",
        "\n",
        "* Rehashing: Redimensionamento da tabela para evitar colisões.\n",
        "\n",
        "**Bancos de Dados**:\n",
        "\n",
        "Muitos Sistemas Gerenciadores de Bancos de Dados (SGBDs) usam tabelas hash para otimizar consultas e indexação.\n",
        "\n",
        "* Índices de Banco de Dados: Tabelas hash são semelhantes aos índices em bancos de dados. Ambos aceleram a busca por registros.\n",
        "\n",
        "* Tipos de Índices: Índices B-tree, índices de hash e índices de bitmap são usados para otimizar consultas em bancos de dados.\n",
        "\n",
        "* Trade-offs: Cada tipo de índice tem vantagens e desvantagens, dependendo do cenário de uso.\n",
        "\n",
        "Vamos começar a usar video para ficar mais didático, acredito que apenas a leitura não será suficiente.\n",
        "\n",
        "https://www.youtube.com/watch?v=osy1xBefHsU&t=188s\n",
        "\n",
        "Exemplo de tabela Hash sem tratamento de colisão:"
      ],
      "metadata": {
        "id": "EuFHToZnTOrB"
      }
    },
    {
      "cell_type": "code",
      "source": [
        "class TabelaHash:\n",
        "    def __init__(self, tamanho):\n",
        "        self.tamanho = tamanho\n",
        "        self.tabela = [None] * tamanho\n",
        "\n",
        "    def funcao_hash(self, chave):\n",
        "        # Exemplo de função hash: retorna o índice baseado no valor absoluto da chave\n",
        "        return abs(hash(chave)) % self.tamanho\n",
        "\n",
        "    def inserir(self, chave, valor):\n",
        "        indice = self.funcao_hash(chave)\n",
        "        self.tabela[indice] = valor\n",
        "\n",
        "    def buscar(self, chave):\n",
        "        indice = self.funcao_hash(chave)\n",
        "        return self.tabela[indice]\n",
        "\n",
        "# Exemplo de uso\n",
        "minha_tabela = TabelaHash(tamanho=21)\n",
        "minha_tabela.inserir(\"chave1\", 1)\n",
        "minha_tabela.inserir(\"chave2\", 2)\n",
        "\n",
        "print(minha_tabela.buscar(\"chave1\"))\n",
        "print(minha_tabela.buscar(\"chave2\"))"
      ],
      "metadata": {
        "id": "MrD0Etn6jSK3"
      },
      "execution_count": null,
      "outputs": []
    },
    {
      "cell_type": "markdown",
      "source": [
        "Se os valores forem repetidos, quer dizer que está tendo colisão, diminua o TabelaHash(tamanho=10) conforme aqui e execute novamente, verá que ele guardará o valor da chave2.\n",
        "\n",
        "Agora vamos implementar um código python com controle de colisão de encadeamento."
      ],
      "metadata": {
        "id": "4MxDsXA_mrIX"
      }
    },
    {
      "cell_type": "code",
      "source": [
        "class TabelaHash:\n",
        "    def __init__(self, tamanho):\n",
        "        self.tamanho = tamanho\n",
        "        self.tabela = [[] for _ in range(tamanho)]\n",
        "\n",
        "    def funcao_hash(self, chave):\n",
        "        # Exemplo de função hash: retorna o índice baseado no valor absoluto da chave\n",
        "        return abs(hash(chave)) % self.tamanho\n",
        "\n",
        "    def inserir(self, chave, valor):\n",
        "        indice = self.funcao_hash(chave)\n",
        "        self.tabela[indice].append((chave, valor))\n",
        "\n",
        "    def buscar(self, chave):\n",
        "        indice = self.funcao_hash(chave)\n",
        "        for k, v in self.tabela[indice]:\n",
        "            if k == chave:\n",
        "                return v\n",
        "        return None\n",
        "\n",
        "# Exemplo de uso\n",
        "minha_tabela = TabelaHash(tamanho=10)\n",
        "minha_tabela.inserir(\"chave1\", \"valor1\")\n",
        "minha_tabela.inserir(\"chave2\", \"valor2\")\n",
        "minha_tabela.inserir(\"chave11\", \"valor11\")  # Colisão com \"chave1\"\n",
        "\n",
        "print(minha_tabela.buscar(\"chave1\"))    # Deve imprimir \"valor1\"\n",
        "print(minha_tabela.buscar(\"chave2\"))    # Deve imprimir \"valor2\"\n",
        "print(minha_tabela.buscar(\"chave11\"))   # Deve imprimir \"valor11\"\n",
        "print(minha_tabela.buscar(\"chave999\"))  # Deve imprimir None (não existe)"
      ],
      "metadata": {
        "id": "FOOstTOhnYMc"
      },
      "execution_count": null,
      "outputs": []
    },
    {
      "cell_type": "markdown",
      "source": [
        "Como funciona o código:\n",
        "\n",
        "Criamos uma classe chamada TabelaHash.\n",
        "\n",
        "Ela tem três métodos principais:\n",
        "\n",
        "* funcao_hash(chave): Calcula o índice (número da gaveta) com base na chave.\n",
        "\n",
        "* inserir(chave, valor): Coloca um valor na gaveta correspondente ao índice calculado.\n",
        "\n",
        "* buscar(chave): Encontra o valor associado à chave.\n",
        "\n",
        "Exemplo de uso:\n",
        "\n",
        "Criamos uma tabela com 10 gavetas (índices).\n",
        "\n",
        "* Inserimos pares chave-valor:\n",
        "“chave1” -> “valor1”\n",
        "“chave2” -> “valor2”\n",
        "“chave11” -> “valor11” (colisão com “chave1”)\n",
        "\n",
        "Quando buscamos uma chave, a tabela nos retorna o valor associado.\n",
        "\n",
        "Para melhor entendimento de controle de colisão por encadeamento, recomendo ver o video https://youtu.be/a-w2rwCEwx0.\n",
        "\n",
        "Tabela hash com controle de colisão usando sondagem Linear"
      ],
      "metadata": {
        "id": "yM-15Yz7pCwZ"
      }
    },
    {
      "cell_type": "code",
      "source": [
        "class TabelaHash:\n",
        "    def __init__(self, tamanho):\n",
        "        self.tamanho = tamanho\n",
        "        self.tabela = [None] * tamanho\n",
        "\n",
        "    def funcao_hash(self, chave):\n",
        "        # Exemplo de função hash: retorna o índice baseado no valor absoluto da chave\n",
        "        return abs(hash(chave)) % self.tamanho\n",
        "\n",
        "    def inserir(self, chave, valor):\n",
        "        indice = self.funcao_hash(chave)\n",
        "        while self.tabela[indice] is not None:\n",
        "            indice = (indice + 1) % self.tamanho\n",
        "        self.tabela[indice] = (chave, valor)  # Armazenamos como um par (chave, valor)\n",
        "\n",
        "    def buscar(self, chave):\n",
        "        indice = self.funcao_hash(chave)\n",
        "        while self.tabela[indice] is not None:\n",
        "            if self.tabela[indice][0] == chave:\n",
        "                return self.tabela[indice][1]  # Retornamos o valor associado à chave\n",
        "            indice = (indice + 1) % self.tamanho\n",
        "        return None  # Se a chave não for encontrada, retornamos None\n",
        "\n",
        "# Exemplo de uso\n",
        "minha_tabela = TabelaHash(tamanho=10)\n",
        "minha_tabela.inserir(\"chave1\", \"valor1\")\n",
        "minha_tabela.inserir(\"chave2\", \"valor2\")\n",
        "\n",
        "print(minha_tabela.buscar(\"chave1\"))  # Deve imprimir \"valor1\"\n",
        "print(minha_tabela.buscar(\"chave2\"))  # Deve imprimir \"valor2\""
      ],
      "metadata": {
        "id": "ihcMh6-QpgNz"
      },
      "execution_count": null,
      "outputs": []
    },
    {
      "cell_type": "markdown",
      "source": [
        "Vamos analisar cada parte:\n",
        "\n",
        "* Classe TabelaHash:\n",
        "Essa classe representa uma tabela hash.\n",
        "Ela é inicializada com um tamanho específico.\n",
        "A tabela é criada como uma lista de tamanho igual ao valor especificado.\n",
        "\n",
        "* Função Hash: A função funcao_hash é usada para calcular o índice (ou posição) na tabela hash com base na chave.\n",
        "Neste exemplo, a função retorna o valor absoluto do hash da chave, módulo o tamanho da tabela.\n",
        "Isso garante que o índice esteja dentro dos limites da tabela.\n",
        "\n",
        "* Inserção: O método inserir adiciona um par (chave, valor) à tabela hash. Ele calcula o índice usando a função hash e, se a posição estiver ocupada, avança para a próxima posição até encontrar um espaço vazio.\n",
        "O par (chave, valor) é armazenado na tabela.\n",
        "\n",
        "* Busca: O método buscar procura um valor associado a uma chave na tabela hash. Ele calcula o índice usando a função hash e verifica se a chave corresponde à chave armazenada na tabela. Se encontrar a chave, retorna o valor associado; caso contrário, retorna None.\n",
        "\n",
        "Para ficar mais ilustrativo os tratamentos de colisões das tabelas hash por sondagem linear, recomendo ver o video:\n",
        "\n",
        "https://www.youtube.com/watch?v=A39mY5k64qg"
      ],
      "metadata": {
        "id": "ayNXLgP2qr_X"
      }
    },
    {
      "cell_type": "markdown",
      "source": [
        "## Arvores\n",
        "\n",
        "Vamos explorar o que são árvores, como funcionam e por que são importantes:\n",
        "\n",
        "**O que é uma Árvore**?\n",
        "\n",
        "Uma árvore é uma estrutura de dados hierárquica. Ela organiza os dados de forma não linear, ao contrário das estruturas lineares como arrays e listas.\n",
        "\n",
        "As árvores são amplamente usadas na computação para representar hierarquias, relacionamentos e decisões.\n",
        "\n",
        "**Elementos de uma Árvore**:\n",
        "\n",
        "* Nós (Nodes): Cada elemento em uma árvore é chamado de nó.\n",
        "\n",
        "* Raiz (Root): O primeiro nó da árvore.\n",
        "\n",
        "* Ramos (Branches): Ligações entre os nós.\n",
        "\n",
        "* Folhas (Leaves): Nós sem filhos (nós finais).\n",
        "\n",
        "**Exemplos de Árvores**:\n",
        "\n",
        "* Árvore Genealógica: Representa relações familiares.\n",
        "\n",
        "* Árvore de Decisão: Usada em algoritmos de aprendizado de máquina.\n",
        "\n",
        "* Árvore de Diretórios (Sistema de Arquivos): Organiza pastas e arquivos em hierarquia.\n",
        "\n",
        "**Propriedades Importantes**:\n",
        "\n",
        "* Altura (Height): Comprimento do caminho mais longo da raiz até uma folha.\n",
        "\n",
        "* Profundidade (Depth): Comprimento do caminho da raiz até um nó específico.\n",
        "\n",
        "* Grau de um Nó: Número de filhos de um nó.\n",
        "\n",
        "**Tipos de Árvores**:\n",
        "\n",
        "* Árvore Binária: Cada nó tem no máximo dois filhos.\n",
        "\n",
        "* Árvore de Busca Binária: Valores são organizados de forma que a esquerda é menor e a direita é maior.\n",
        "\n",
        "* Árvore AVL: Balanceada para otimizar operações de busca.\n",
        "\n",
        "* Árvore B: Usada em bancos de dados para indexação eficiente. Uma árvore B é uma árvore balanceada que mantém os dados ordenados. Ela é usada para indexar campos não ordenados em bancos de dados.\n",
        "\n",
        "* Árvore B+: Semelhante à árvore B, mas com algumas diferenças: Os dados estão nas folhas, não nos nós internos. As folhas são conectadas em uma lista ligada.\n",
        "Ideal para indexação em bancos de dados, pois permite busca sequencial eficiente e suporta consultas de intervalo.\n",
        "\n",
        "* Árvores de Decisão: Usadas para otimizar consultas SQL.\n",
        "Otimizadores de consulta usam árvores de decisão para escolher o plano de execução mais eficiente para uma consulta.\n",
        "\n",
        "* Árvores de Espalhamento (Hash): **Embora não sejam árvores no sentido tradicional**, as tabelas hash são frequentemente usadas em SGBDs. Elas permitem busca rápida por chaves, como em índices hash.\n",
        "\n",
        "* Árvores de Segmentos: Usadas para particionar grandes tabelas em segmentos menores. Cada segmento é armazenado em uma árvore, facilitando a busca e a manutenção.\n",
        "\n",
        "**Independência Lógica de Dados**:\n",
        "\n",
        "As árvores permitem adicionar, editar e remover atributos sem afetar aplicativos externos.\n",
        "\n",
        "Isso é crucial para manter a integridade dos dados enquanto se fazem alterações na estrutura.\n",
        "\n",
        "**Aplicações**:\n",
        "\n",
        "* Estruturas de Dados: Árvores são a base para muitas estruturas, como heaps e árvores de segmentos.\n",
        "\n",
        "* Algoritmos: Árvores são usadas em algoritmos de busca, ordenação e processamento de linguagens naturais.\n",
        "\n",
        "* Redes de Computadores: Roteamento e hierarquia de domínios.\n",
        "\n",
        "* SGBDs (Banco de dados): Os SGBDs usam árvores para criar índices que aceleram a busca e recuperação de dados.\n",
        "Árvores B e Árvores B+ são comuns para indexação em bancos de dados. Essas árvores permitem busca eficiente por valores específicos, como chaves primárias ou valores de colunas.\n",
        "\n",
        "Em resumo, as árvores são fundamentais na ciência da computação e têm aplicações em várias áreas. Elas nos ajudam a organizar dados de maneira eficiente e representar relações complexas.\n",
        "\n",
        "Bom, novamente vou pedir para que vejam um video explicativo https://www.youtube.com/watch?v=zE1FMszj_1c.\n",
        "\n",
        "Vamos fazer um exemplo de arvore binária no python:"
      ],
      "metadata": {
        "id": "6V1iG31iu1E-"
      }
    },
    {
      "cell_type": "code",
      "source": [
        "class No:\n",
        "    def __init__(self, valor):\n",
        "        # Cada nó contém um valor e referências para os filhos esquerdo e direito\n",
        "        self.valor = valor\n",
        "        self.esquerda = None\n",
        "        self.direita = None\n",
        "\n",
        "class ArvoreBinaria:\n",
        "    def __init__(self):\n",
        "        # Inicializamos a árvore com a raiz vazia\n",
        "        self.raiz = None\n",
        "\n",
        "    def inserir(self, valor):\n",
        "        if not self.raiz:\n",
        "            # Se a árvore estiver vazia, criamos a raiz\n",
        "            self.raiz = No(valor)\n",
        "        else:\n",
        "            # Caso contrário, chamamos o método recursivo para inserir\n",
        "            self._inserir_recursivo(self.raiz, valor)\n",
        "\n",
        "    def _inserir_recursivo(self, no_atual, valor):\n",
        "        if valor < no_atual.valor:\n",
        "            if no_atual.esquerda:\n",
        "                # Se o valor for menor, continuamos pela esquerda\n",
        "                self._inserir_recursivo(no_atual.esquerda, valor)\n",
        "            else:\n",
        "                # Se não houver filho esquerdo, criamos um novo nó\n",
        "                no_atual.esquerda = No(valor)\n",
        "        else:\n",
        "            if no_atual.direita:\n",
        "                # Se o valor for maior, continuamos pela direita\n",
        "                self._inserir_recursivo(no_atual.direita, valor)\n",
        "            else:\n",
        "                # Se não houver filho direito, criamos um novo nó\n",
        "                no_atual.direita = No(valor)\n",
        "\n",
        "    def imprimir(self):\n",
        "        # Método para imprimir os valores da árvore em ordem\n",
        "        self._imprimir_recursivo(self.raiz)\n",
        "\n",
        "    def _imprimir_recursivo(self, no_atual):\n",
        "        if no_atual:\n",
        "            # Imprimimos o valor do nó e continuamos com os filhos\n",
        "            print(no_atual.valor)\n",
        "            self._imprimir_recursivo(no_atual.esquerda)\n",
        "            self._imprimir_recursivo(no_atual.direita)\n",
        "\n",
        "# Exemplo de uso\n",
        "arvore = ArvoreBinaria()\n",
        "dados = [10, 5, 15, 3, 7, 12, 20]\n",
        "for dado in dados:\n",
        "    arvore.inserir(dado)\n",
        "\n",
        "arvore.imprimir()"
      ],
      "metadata": {
        "id": "npPplU9y7ob2"
      },
      "execution_count": null,
      "outputs": []
    },
    {
      "cell_type": "markdown",
      "source": [
        "Agora vamos exemplificar com a Árvore de busca binária: Veja o vídeo https://www.youtube.com/watch?v=dzTCB5HthBQ"
      ],
      "metadata": {
        "id": "9mOH-JLE8rj2"
      }
    },
    {
      "cell_type": "code",
      "source": [
        "class No:\n",
        "    def __init__(self, valor):\n",
        "        # Cada nó contém um valor e referências para os filhos esquerdo e direito\n",
        "        self.valor = valor\n",
        "        self.esquerda = None\n",
        "        self.direita = None\n",
        "\n",
        "class ArvoreBuscaBinaria:\n",
        "    def __init__(self):\n",
        "        # Inicializamos a árvore com a raiz vazia\n",
        "        self.raiz = None\n",
        "\n",
        "    def inserir(self, valor):\n",
        "        if not self.raiz:\n",
        "            # Se a árvore estiver vazia, criamos a raiz\n",
        "            self.raiz = No(valor)\n",
        "        else:\n",
        "            # Caso contrário, chamamos o método recursivo para inserir\n",
        "            self._inserir_recursivo(self.raiz, valor)\n",
        "\n",
        "    def _inserir_recursivo(self, no_atual, valor):\n",
        "        if valor < no_atual.valor:\n",
        "            if no_atual.esquerda:\n",
        "                # Se o valor for menor, continuamos pela esquerda\n",
        "                self._inserir_recursivo(no_atual.esquerda, valor)\n",
        "            else:\n",
        "                # Se não houver filho esquerdo, criamos um novo nó\n",
        "                no_atual.esquerda = No(valor)\n",
        "        else:\n",
        "            if no_atual.direita:\n",
        "                # Se o valor for maior, continuamos pela direita\n",
        "                self._inserir_recursivo(no_atual.direita, valor)\n",
        "            else:\n",
        "                # Se não houver filho direito, criamos um novo nó\n",
        "                no_atual.direita = No(valor)\n",
        "\n",
        "    def imprimir(self):\n",
        "        self._imprimir_recursivo(self.raiz)\n",
        "\n",
        "    def _imprimir_recursivo(self, no_atual, nivel=0):\n",
        "        if no_atual:\n",
        "            print(\"  \" * nivel, no_atual.valor)\n",
        "            self._imprimir_recursivo(no_atual.esquerda, nivel + 1)\n",
        "            self._imprimir_recursivo(no_atual.direita, nivel + 1)\n",
        "\n",
        "# Exemplo de uso\n",
        "arvore = ArvoreBuscaBinaria()\n",
        "dados = [10, 5, 15, 3, 7, 12, 20]\n",
        "for dado in dados:\n",
        "    arvore.inserir(dado)\n",
        "\n",
        "arvore.imprimir()"
      ],
      "metadata": {
        "id": "Ahu4zHmv84qG"
      },
      "execution_count": null,
      "outputs": []
    },
    {
      "cell_type": "markdown",
      "source": [
        "Agora um exemplo de Árvore AVL, agora precisamos gerenciar a altura da árvore. Veja o vídeo https://www.youtube.com/watch?v=uWxKgS7dkUI"
      ],
      "metadata": {
        "id": "-tPQyLrM-caP"
      }
    },
    {
      "cell_type": "code",
      "source": [
        "class No:\n",
        "    def __init__(self, valor):\n",
        "        # Cada nó contém um valor, referências para os filhos esquerdo e direito,\n",
        "        # e a altura do nó (inicialmente 1)\n",
        "        self.valor = valor\n",
        "        self.esquerda = None\n",
        "        self.direita = None\n",
        "        self.altura = 1\n",
        "\n",
        "class ArvoreAVL:\n",
        "    def __init__(self):\n",
        "        # Inicializamos a árvore com a raiz vazia\n",
        "        self.raiz = None\n",
        "\n",
        "    def inserir(self, valor):\n",
        "        if not self.raiz:\n",
        "            # Se a árvore estiver vazia, criamos a raiz\n",
        "            self.raiz = No(valor)\n",
        "        else:\n",
        "            # Caso contrário, chamamos o método recursivo para inserir\n",
        "            self.raiz = self._inserir_recursivo(self.raiz, valor)\n",
        "\n",
        "    def _inserir_recursivo(self, no_atual, valor):\n",
        "        if valor < no_atual.valor:\n",
        "            if no_atual.esquerda:\n",
        "                # Se o valor for menor, continuamos pela esquerda\n",
        "                no_atual.esquerda = self._inserir_recursivo(no_atual.esquerda, valor)\n",
        "            else:\n",
        "                # Se não houver filho esquerdo, criamos um novo nó\n",
        "                no_atual.esquerda = No(valor)\n",
        "        else:\n",
        "            if no_atual.direita:\n",
        "                # Se o valor for maior, continuamos pela direita\n",
        "                no_atual.direita = self._inserir_recursivo(no_atual.direita, valor)\n",
        "            else:\n",
        "                # Se não houver filho direito, criamos um novo nó\n",
        "                no_atual.direita = No(valor)\n",
        "\n",
        "        # Atualizamos a altura do nó atual\n",
        "        no_atual.altura = 1 + max(self._altura(no_atual.esquerda), self._altura(no_atual.direita))\n",
        "\n",
        "        # Verificamos o fator de balanceamento e realizamos rotações, se necessário\n",
        "        return self._balancear(no_atual)\n",
        "\n",
        "    def _altura(self, no):\n",
        "        # Retorna a altura do nó (0 se o nó for None)\n",
        "        return no.altura if no else 0\n",
        "\n",
        "    def _fator_balanceamento(self, no):\n",
        "        # Calcula o fator de balanceamento do nó\n",
        "        return self._altura(no.esquerda) - self._altura(no.direita)\n",
        "\n",
        "    def _rotacao_direita(self, y):\n",
        "        # Realiza uma rotação simples à direita\n",
        "        x = y.esquerda\n",
        "        t2 = x.direita\n",
        "\n",
        "        x.direita = y\n",
        "        y.esquerda = t2\n",
        "\n",
        "        y.altura = 1 + max(self._altura(y.esquerda), self._altura(y.direita))\n",
        "        x.altura = 1 + max(self._altura(x.esquerda), self._altura(x.direita))\n",
        "\n",
        "        return x\n",
        "\n",
        "    def _rotacao_esquerda(self, x):\n",
        "        # Realiza uma rotação simples à esquerda\n",
        "        y = x.direita\n",
        "        t2 = y.esquerda\n",
        "\n",
        "        y.esquerda = x\n",
        "        x.direita = t2\n",
        "\n",
        "        x.altura = 1 + max(self._altura(x.esquerda), self._altura(x.direita))\n",
        "        y.altura = 1 + max(self._altura(y.esquerda), self._altura(y.direita))\n",
        "\n",
        "        return y\n",
        "\n",
        "    def _balancear(self, no_atual):\n",
        "        # Verifica o fator de balanceamento e realiza rotações, se necessário\n",
        "        fator = self._fator_balanceamento(no_atual)\n",
        "\n",
        "        # Caso LL\n",
        "        if fator > 1 and self._fator_balanceamento(no_atual.esquerda) >= 0:\n",
        "            return self._rotacao_direita(no_atual)\n",
        "\n",
        "        # Caso RR\n",
        "        if fator < -1 and self._fator_balanceamento(no_atual.direita) <= 0:\n",
        "            return self._rotacao_esquerda(no_atual)\n",
        "\n",
        "        # Caso LR\n",
        "        if fator > 1 and self._fator_balanceamento(no_atual.esquerda) < 0:\n",
        "            no_atual.esquerda = self._rotacao_esquerda(no_atual.esquerda)\n",
        "            return self._rotacao_direita(no_atual)\n",
        "\n",
        "        # Caso RL\n",
        "        if fator < -1 and self._fator_balanceamento(no_atual.direita) > 0:\n",
        "            no_atual.direita = self._rotacao_direita(no_atual.direita)\n",
        "            return self._rotacao_esquerda(no_atual)\n",
        "\n",
        "        # Se não for necessário balancear, retornamos o próprio nó\n",
        "        return no_atual\n",
        "\n",
        "    def imprimir(self):\n",
        "        # Método para imprimir os valores da árvore em ordem\n",
        "        self._imprimir_recursivo(self.raiz)\n",
        "\n",
        "    def _imprimir_recursivo(self, no_atual):\n",
        "        if no_atual:\n",
        "            self._imprimir_recursivo(no_atual.esquerda)\n",
        "            print(no_atual.valor)\n",
        "            self._imprimir_recursivo(no_atual.direita)\n",
        "\n",
        "# Exemplo de uso\n",
        "arvore = ArvoreAVL()\n",
        "dados = [10, 5, 15, 3, 7, 12, 20, 40, 12, 8, 19, 13, 1, 4]\n",
        "for dado in dados:\n",
        "    arvore.inserir(dado)\n",
        "\n",
        "arvore.imprimir()"
      ],
      "metadata": {
        "id": "WQnpzTVY_ayX"
      },
      "execution_count": null,
      "outputs": []
    },
    {
      "cell_type": "markdown",
      "source": [
        "Bom, esses são exemplso de árvore, existem várias, caso queira continue aprofundando sobre o assunto, mas no que gostariamos de mostrar, que é o funcionamento dos dados nas estruturas de árvores, acredito que foi alcançado."
      ],
      "metadata": {
        "id": "XS_BmpOmFhMh"
      }
    },
    {
      "cell_type": "markdown",
      "source": [
        "## Grafos\n",
        "\n",
        "Uma das estruturas de dados mais importantes e versáteis é o grafo. Um grafo é uma forma de representar um conjunto de objetos (chamados vértices ou nós) que se relacionam entre si por meio de conexões (chamadas arestas ou arcos).\n",
        "\n",
        "Os grafos podem ser usados para modelar diversos tipos de problemas, como redes sociais, redes de transporte, redes de computadores, circuitos elétricos, mapas, jogos, entre outros.\n",
        "\n",
        "Existem diferentes tipos de grafos, dependendo das características das arestas e dos vértices. Por exemplo, um grafo pode ser:\n",
        "\n",
        "* Direcionado ou não direcionado: se as arestas têm ou não uma direção específica, indicando um sentido de origem e destino entre os vértices.\n",
        "\n",
        "* Ponderado ou não ponderado: se as arestas têm ou não um valor numérico associado, representando um custo, uma distância, uma capacidade, etc.\n",
        "\n",
        "* Simples ou não simples: se o grafo tem ou não arestas múltiplas (mais de uma aresta entre o mesmo par de vértices) ou laços (arestas que ligam um vértice a ele mesmo).\n",
        "\n",
        "* Completo ou não completo: se o grafo tem ou não uma aresta entre cada par de vértices distintos.\n",
        "\n",
        "* Conexo ou não conexo: se o grafo tem ou não um caminho entre qualquer par de vértices, ou seja, se é possível ir de um vértice a qualquer outro seguindo as arestas.\n",
        "\n",
        "* Cíclico ou acíclico: se o grafo tem ou não um ciclo, ou seja, um caminho que começa e termina no mesmo vértice.\n",
        "\n",
        "Para trabalhar com grafos, é preciso conhecer alguns conceitos e propriedades, como:\n",
        "\n",
        "* Grau de um vértice: o número de arestas incidentes em um vértice, ou seja, que saem ou chegam nele. Em grafos direcionados, podemos distinguir o grau de entrada (número de arestas que chegam) e o grau de saída (número de arestas que saem) de um vértice.\n",
        "\n",
        "* Subgrafo: um grafo que é formado por um subconjunto dos vértices e das arestas de outro grafo. Um subgrafo gerador é um subgrafo que contém todos os vértices do grafo original.\n",
        "\n",
        "* Caminho: uma sequência alternada de vértices e arestas, que começa e termina em vértices distintos. Um caminho simples é um caminho que não repete vértices nem arestas. Um caminho é dito hamiltoniano se ele visita todos os vértices do grafo uma única vez.\n",
        "\n",
        "* Ciclo: um caminho que começa e termina no mesmo vértice. Um ciclo simples é um ciclo que não repete vértices nem arestas, exceto o inicial e final. Um ciclo é dito euleriano se ele percorre todas as arestas do grafo uma única vez.\n",
        "\n",
        "* Árvore: um grafo acíclico e conexo, ou seja, que não tem ciclos e tem um caminho entre qualquer par de vértices. Uma árvore enraizada é uma árvore que tem um vértice especial chamado raiz, que é a origem de todos os caminhos. Uma floresta é um conjunto de árvores desconexas.\n",
        "\n",
        "* Isomorfismo: uma relação de equivalência entre dois grafos, que indica que eles têm a mesma estrutura, ou seja, o mesmo número de vértices e arestas, e a mesma forma de conexão entre eles.\n",
        "\n",
        "Para implementar grafos em python, existem algumas formas de representá-los, como:\n",
        "\n",
        "* Matriz de adjacência: uma matriz quadrada de tamanho n x n, onde n é o número de vértices do grafo, e cada elemento da matriz indica a presença ou ausência de uma aresta entre dois vértices. Se o grafo for ponderado, os elementos da matriz podem indicar o peso das arestas. Se o grafo for direcionado, a matriz pode ser assimétrica, ou seja, o elemento na posição i, j pode ser diferente do elemento na posição j, i.\n",
        "\n",
        "* Lista de adjacência: uma lista de listas, onde cada lista representa um vértice do grafo e contém os vértices adjacentes a ele, ou seja, que têm uma aresta em comum. Se o grafo for ponderado, as listas podem conter também o peso das arestas. Se o grafo for direcionado, as listas podem representar os vértices de saída ou de entrada de cada vértice.\n",
        "\n",
        "Para manipular grafos em python, existem algumas bibliotecas que facilitam o trabalho, como:\n",
        "\n",
        "* NetworkX: uma biblioteca que oferece diversas funções e algoritmos para criar, modificar, analisar e visualizar grafos. Ela permite representar grafos como objetos, atribuir propriedades aos vértices e arestas, e aplicar operações como adição, remoção, busca, ordenação, etc.\n",
        "\n",
        "* Matplotlib: uma biblioteca que oferece diversas funções e recursos para gerar gráficos e imagens a partir de dados. Ela permite plotar grafos usando diferentes estilos, cores, formas, tamanhos, etc.\n",
        "\n",
        "Na área de dados, os grafos são utilizados para armazenar, manipular e analisar dados de forma eficiente e adequada para cada problema.\n",
        "\n",
        "Um exemplo de aplicação de grafos na área de dados é o banco de dados de grafos, que é uma plataforma especializada para criar e gerenciar grafos. Os bancos de dados de grafos permitem explorar e descobrir conexões e padrões em redes complexas, como dados vinculados, integração de dados e grafos de conhecimento.\n",
        "\n",
        "Na inteligência artificial, os grafos são importantes para representar e solucionar problemas que envolvem conhecimento, raciocínio, aprendizado e otimização. Os grafos podem representar conceitos complexos em um domínio, fornecer semântica e inferência de dados, e facilitar a busca por soluções ótimas ou aproximadas\n",
        "\n",
        "Um exemplo de uso de grafos na inteligência artificial é o algoritmo A* , que é um método de busca informada que utiliza uma função heurística para estimar o custo de um caminho entre dois vértices de um grafo. O algoritmo é usado para encontrar o caminho mais curto ou mais barato entre dois pontos, como em um mapa ou em um jogo.\n",
        "\n",
        "Para saber mais sobre os Grafos em IA: https://www.allaboutai.com/pt-br/glossario-inteligencia-artificial/teoria-dos-grafos/, https://colaborae.com.br/blog/2023/05/19/grafos-metacognicao-e-ia/ e sobre o algorítimo A https://pt.wikipedia.org/wiki/Algoritmo_A*\n",
        "\n",
        "\n",
        "Bom, para melhor entendimento aconselho ver o vídeo https://youtu.be/fTEL6pMMC-w?list=PLrOyM49ctTx_AMgNGQaic10qQJpTpXfn_"
      ],
      "metadata": {
        "id": "_hc8VYEVF6pU"
      }
    },
    {
      "cell_type": "code",
      "source": [
        "# Importando a biblioteca Matplotlib\n",
        "import matplotlib.pyplot as plt\n",
        "\n",
        "# Criando um grafo simples, não direcionado e não ponderado, com 5 vértices e 6 arestas\n",
        "grafo = {\n",
        "    \"A\": [\"B\", \"C\"],\n",
        "    \"B\": [\"A\", \"C\", \"D\"],\n",
        "    \"C\": [\"A\", \"B\", \"E\"],\n",
        "    \"D\": [\"B\", \"E\"],\n",
        "    \"E\": [\"C\", \"D\"]\n",
        "}\n",
        "\n",
        "# Definindo as posições dos vértices no plano cartesiano\n",
        "pos = {\n",
        "    \"A\": (0, 1),\n",
        "    \"B\": (1, 2),\n",
        "    \"C\": (1, 0),\n",
        "    \"D\": (2, 1),\n",
        "    \"E\": (1, 1)\n",
        "}\n",
        "\n",
        "# Desenhando os vértices como círculos azuis\n",
        "plt.scatter(*zip(*pos.values()), c=\"blue\")\n",
        "\n",
        "# Desenhando os rótulos dos vértices como letras pretas\n",
        "for v in grafo:\n",
        "    plt.annotate(v, pos[v], c=\"black\")\n",
        "\n",
        "# Desenhando as arestas como linhas vermelhas\n",
        "for v in grafo:\n",
        "    for u in grafo[v]:\n",
        "        plt.plot(*zip(pos[v], pos[u]), c=\"red\")\n",
        "\n",
        "# Mostrando o grafo na tela\n",
        "plt.show()\n"
      ],
      "metadata": {
        "id": "z_NAc_xJKF8e",
        "outputId": "832f1cb0-ccef-47c1-ada1-3cab2446570a",
        "colab": {
          "base_uri": "https://localhost:8080/",
          "height": 430
        }
      },
      "execution_count": null,
      "outputs": [
        {
          "output_type": "display_data",
          "data": {
            "text/plain": [
              "<Figure size 640x480 with 1 Axes>"
            ],
            "image/png": "[encoded data removed]"
          },
          "metadata": {}
        }
      ]
    },
    {
      "cell_type": "markdown",
      "source": [
        "Esse código representa o grafo usando uma lista de adjacência, que é uma forma de armazenar os vértices e suas conexões em uma estrutura de dados do tipo lista. Outra forma possível seria usar uma matriz de adjacência, que é uma matriz quadrada que indica a presença ou ausência de uma aresta entre cada par de vértices.\n",
        "\n",
        "Esse grafo é não direcionado, pois as arestas não têm uma direção específica, ou seja, elas podem ser percorridas em ambos os sentidos. Um grafo direcionado teria arestas com uma seta indicando o sentido de origem e destino entre os vértices.\n",
        "\n",
        "Esse grafo é não ponderado, pois as arestas não têm um valor numérico associado, representando um custo, uma distância, uma capacidade, etc. Um grafo ponderado teria arestas com um número indicando o peso da conexão entre os vértices.\n",
        "\n",
        "Bom deixo aqui uma playlist no youtube caso queiram aprofundar sobre a teoria dos grafos: https://www.youtube.com/watch?v=T6yKp82k9vM&list=PLrOyM49ctTx-xtyVeuO7ylclgXHd4ws9a"
      ],
      "metadata": {
        "id": "_luqsW39KPsa"
      }
    },
    {
      "cell_type": "markdown",
      "source": [
        "# Capitulo 05 - Banco de dados"
      ],
      "metadata": {
        "id": "hUI_-rWjn-qA"
      }
    },
    {
      "cell_type": "markdown",
      "source": [
        "## O que são banco de dados?\n",
        "\n",
        "Um banco de dados é um sistema de armazenamento de informações que permite a coleta, o armazenamento, a recuperação e a manipulação de dados de maneira estruturada e eficiente. Os bancos de dados são essenciais para a área de dados, pois permitem que os profissionais de dados possam acessar, analisar e transformar os dados em insights valiosos para os negócios.\n",
        "\n",
        "Existem diferentes tipos de bancos de dados, dependendo da forma como os dados são organizados, modelados e consultados. Os principais tipos são:\n",
        "\n",
        "* Bancos de dados relacionais: usam a linguagem SQL (Structured Query Language) para armazenar e manipular dados em tabelas, que se relacionam entre si por meio de chaves primárias e estrangeiras. Exemplos de bancos de dados relacionais são Oracle, MySQL, PostgreSQL, SQL Server, etc.\n",
        "\n",
        "* Bancos de dados NoSQL: não usam SQL e não seguem um esquema fixo de tabelas e colunas. Eles são mais flexíveis e escaláveis para lidar com grandes volumes de dados não estruturados ou semi-estruturados. Exemplos de bancos de dados NoSQL são MongoDB, Cassandra, Redis, Neo4j, etc.\n",
        "\n",
        "* Bancos de dados autônomos: são bancos de dados que usam inteligência artificial e machine learning para automatizar tarefas de administração, manutenção, otimização e segurança dos dados. Eles são capazes de se adaptar às mudanças de carga, de detectar e corrigir erros, de aplicar patches e de se proteger contra ataques. Exemplos de bancos de dados autônomos são Oracle Autonomous Database, IBM Db2, CockroachDB, etc."
      ],
      "metadata": {
        "id": "8lF0HosvF1jd"
      }
    },
    {
      "cell_type": "markdown",
      "source": [
        "## Banco de dados relacional\n",
        "\n",
        "A abordagem relacional é um modelo de dados que representa os dados em forma de tabelas, que se relacionam entre si por meio de chaves. Essa abordagem foi proposta por Edgar F. Codd em 1970, como uma alternativa aos modelos hierárquicos e em rede que eram usados na época. A abordagem relacional se baseia na teoria dos conjuntos e na álgebra relacional, que definem as operações e as propriedades dos dados relacionais.\n",
        "\n",
        "A terminologia básica da abordagem relacional é a seguinte:\n",
        "\n",
        "* Tabela: é uma coleção de dados organizados em linhas e colunas, que representam uma entidade ou um relacionamento do mundo real. Em um modelo formal, uma tabela é chamada de relação.\n",
        "\n",
        "* Linha (Tupla): é um conjunto de valores de dados que correspondem a uma instância de uma entidade ou um relacionamento. Em um modelo formal, uma linha é chamada de tupla.\n",
        "\n",
        "* Coluna: é um conjunto de valores de dados que correspondem a um atributo de uma entidade ou um relacionamento. Em um modelo formal, uma coluna é chamada de domínio.\n",
        "\n",
        "* Chave: é um conjunto de uma ou mais colunas que identificam de forma única uma linha em uma tabela. Existem diferentes tipos de chaves, tais como:\n",
        "Chave candidata: é uma chave que pode ser usada para identificar uma linha, mas que não é escolhida como a chave principal. Uma tabela pode ter mais de uma chave candidata.\n",
        "\n",
        " * Chave primária: é a chave candidata escolhida para identificar uma linha em uma tabela. Uma tabela deve ter apenas uma chave primária, que não pode ter valores nulos ou repetidos.\n",
        "\n",
        " * Chave alternativa: é uma chave candidata que não é escolhida como a chave primária. Uma tabela pode ter mais de uma chave alternativa.\n",
        "\n",
        " * Chave estrangeira: é uma chave que referencia a chave primária de outra tabela, estabelecendo um relacionamento entre as tabelas. Uma tabela pode ter mais de uma chave estrangeira, que pode ter valores nulos, mas não podem violar a referência.\n",
        "\n",
        "* Restrições de integridade: são regras que garantem a validade, a consistência e a qualidade dos dados em uma tabela. Existem diferentes classes de restrições de integridade, tais como:\n",
        "\n",
        " * Restrições de domínio: definem os valores permitidos para cada coluna de uma tabela, como o tipo de dado, o tamanho, o formato, o intervalo, etc.\n",
        "\n",
        " * Restrições de entidade: definem que cada linha de uma tabela deve ser identificada de forma única por sua chave primária, que não pode ter valores nulos ou repetidos.\n",
        "\n",
        " * Restrições de referência: definem que cada valor de uma chave estrangeira deve corresponder a um valor existente na chave primária referenciada, ou ser nulo.\n",
        "\n",
        " * Restrições de usuário: definem regras específicas de negócio que devem ser respeitadas pelos dados de uma tabela, como condições, expressões, fórmulas, etc.\n",
        "\n",
        "* Esquema diagramático de dados: é uma representação gráfica das tabelas e seus relacionamentos, usando símbolos e notações padronizadas. Um exemplo de esquema diagramático de dados é o modelo entidade-relacionamento (MER), que usa retângulos para representar as entidades (tabelas), losangos para representar os relacionamentos, e linhas para representar as chaves."
      ],
      "metadata": {
        "id": "DpxAZfzPKwZe"
      }
    },
    {
      "cell_type": "markdown",
      "source": [
        "### Algebra Relacional\n",
        "\n",
        "A álgebra relacional é uma linguagem de consulta procedural e formal que usa operações sobre relações (tabelas) para obter relações como resultado. Essas operações podem ser representadas por uma árvore sintática, que mostra a estrutura e a ordem das operações aplicadas às relações. A álgebra relacional pode ser dividida em operações básicas e operações derivadas.\n",
        "\n",
        "As operações básicas são:\n",
        "\n",
        "* Seleção: filtra as linhas de uma relação que satisfazem uma condição.\n",
        "\n",
        "* Projeção: seleciona as colunas de uma relação e elimina as linhas duplicadas.\n",
        "\n",
        "* União: combina as linhas de duas relações compatíveis, eliminando as duplicadas.\n",
        "\n",
        "* Diferença: retorna as linhas de uma relação que não estão presentes em outra relação compatível.\n",
        "\n",
        "* Produto cartesiano: combina cada linha de uma relação com cada linha de outra relação, formando uma nova relação com todas as colunas das relações originais.\n",
        "\n",
        "As operações derivadas são:\n",
        "\n",
        "* Renomeação: altera o nome de uma relação ou de seus atributos.\n",
        "\n",
        "* Interseção: retorna as linhas que estão presentes em ambas as relações compatíveis.\n",
        "\n",
        "* Junção: combina as linhas de duas relações que satisfazem uma condição de junção, formando uma nova relação com as colunas das relações originais.\n",
        "\n",
        "* Divisão: retorna as linhas de uma relação que se relacionam com todas as linhas de outra relação, formando uma nova relação com as colunas que não estão presentes na segunda relação.\n",
        "\n",
        "Um conjunto mínimo de operações é um conjunto que pode expressar todas as outras operações da álgebra relacional. Um exemplo de conjunto mínimo é: seleção, projeção, união e diferença.\n",
        "\n",
        "O tratamento de vazio e a lógica de três valores são conceitos que lidam com a presença de valores desconhecidos ou nulos nas relações. O vazio é representado por um símbolo especial, como NULL, e indica que o valor de um atributo é desconhecido ou inexistente. A lógica de três valores é uma extensão da lógica booleana que considera três possíveis valores para uma expressão: verdadeiro, falso ou desconhecido. O valor desconhecido é obtido quando uma expressão envolve um valor nulo, e pode afetar o resultado das operações da álgebra relacional."
      ],
      "metadata": {
        "id": "gyDCWT_nL3nx"
      }
    },
    {
      "cell_type": "markdown",
      "source": [
        "### Calculo Relacional\n",
        "\n",
        "O cálculo relacional é uma linguagem de consulta declarativa e formal que usa predicados sobre relações (tabelas) para obter relações como resultado. Esses predicados podem ser representados por uma fórmula lógica, que mostra as condições e os quantificadores das variáveis envolvidas. O cálculo relacional pode ser dividido em cálculo relacional de tuplas (CRT) e cálculo relacional de domínio (CRD). As consultas em cálculo relacional têm o seguinte formato geral:\n",
        "\n",
        "CRT: {variável tupla | predicado}\n",
        "CRD: {variável domínio | predicado}\n",
        "\n",
        "O resultado de uma consulta é o conjunto de todas as variáveis que satisfazem o predicado.\n",
        "\n",
        "Uma condição atômica é uma expressão que compara valores de atributos, constantes ou funções, usando operadores de igualdade ou desigualdade. Por exemplo:\n",
        "\n",
        "* R(t), onde R é o nome de uma relação e t é uma variável tupla.\n",
        "\n",
        "* t.A = c, onde t é uma variável tupla, A é um atributo e c é uma constante.\n",
        "\n",
        "* f(X) < g(Y), onde f e g são funções e X e Y são variáveis de domínio.\n",
        "\n",
        "Uma condição é uma combinação de condições atômicas, usando conectivos lógicos como e, ou, não, implica, etc. Por exemplo:\n",
        "\n",
        "* R(t) e S(t)\n",
        "\n",
        "* t.A = c ou t.B > d\n",
        "\n",
        "* não (f(X) < g(Y))\n",
        "\n",
        "Um quantificador existencial é um símbolo que indica que existe pelo menos um valor que satisfaz uma condição. É representado pelo símbolo ∃. Por exemplo:\n",
        "\n",
        "* ∃t (R(t) e t.A = c), que significa que existe uma tupla t na relação R tal que t.A é igual a c.\n",
        "\n",
        "* ∃X (f(X) < g(Y)), que significa que existe um valor X tal que f(X) é menor que g(Y).\n",
        "\n",
        "Um quantificador universal é um símbolo que indica que todos os valores satisfazem uma condição. É representado pelo símbolo ∀. Por exemplo:\n",
        "\n",
        "* ∀t (R(t) → t.A = c), que significa que para toda tupla t na relação R, t.A é igual a c.\n",
        "\n",
        "* ∀X (f(X) < g(Y)), que significa que para todo valor X, f(X) é menor que g(Y)."
      ],
      "metadata": {
        "id": "Z5RIfSSXKPzH"
      }
    },
    {
      "cell_type": "markdown",
      "source": [
        "### Linguagem SQL\n",
        "\n",
        "A linguagem SQL é uma linguagem de consulta estruturada, que permite interagir com bancos de dados relacionais, usando comandos para criar, manipular e consultar dados.\n",
        "\n",
        "A linguagem SQL foi criada em 1974 pela IBM, baseada na álgebra e no cálculo relacional, e padronizada em 1986 pela ANSI (American National Standards Institute) e em 1987 pela ISO (International Organization for Standardization)."
      ],
      "metadata": {
        "id": "sFq0EdgILJ_-"
      }
    },
    {
      "cell_type": "markdown",
      "source": [
        "#### Data Definition Language - DDL\n",
        "\n",
        "DDL é um conjunto de comandos SQL usados para definir e gerenciar estruturas de banco de dados. Os comandos DDL incluem CREATE, ALTER, e DROP, que são usados para criar, modificar e excluir objetos de banco de dados, como bancos de dados, tabelas, índices, visões, usuários, funções, procedimentos e gatilhos\n",
        "\n",
        "* **CREATE DATABASE**: O comando CREATE DATABASE é usado para criar um novo banco de dados. A sintaxe básica é CREATE DATABASE nome_do_banco;. Você também pode especificar opções adicionais, como o proprietário do banco de dados, o conjunto de caracteres, o tipo de ordenação, etc.\n",
        "\n",
        "```\n",
        "CREATE DATABASE loja; -- cria um banco de dados chamado loja\n",
        "```\n",
        "\n",
        "* **DROP DATABASE**: O comando DROP DATABASE é usado para excluir um banco de dados existente. A sintaxe básica é DROP DATABASE nome_do_banco;. Este comando só pode ser executado pelo proprietário do banco de dados ou pelo superusuário. Além disso, não pode ser executado enquanto você ou qualquer outra pessoa estiver conectado ao banco de dados alvo.\n",
        "\n",
        "```\n",
        "DROP DATABASE loja; -- elimina o banco de dados chamado loja\n",
        "```\n",
        "\n",
        "* **Criação de tabelas**: O comando CREATE TABLE é usado para criar uma nova tabela em um banco de dados. A sintaxe básica é CREATE TABLE nome_da_tabela (coluna1 tipo_dados, coluna2 tipo_dados, ...);. Você também pode especificar opções adicionais, como restrições de chave primária, chave estrangeira, exclusividade, e não nulidade.\n",
        "\n",
        " * Definições de tabelas e colunas: são as especificações que determinam a estrutura e as propriedades de uma tabela e de suas colunas em um banco de dados relacional. As definições de tabelas e colunas são feitas usando o comando CREATE TABLE, que permite definir o nome da tabela, o nome e o tipo de dados de cada coluna, as restrições e os índices aplicáveis, entre outras opções.\n",
        "\n",
        " * Nomes de tabelas e colunas: são os identificadores que permitem referenciar uma tabela ou uma coluna em uma instrução SQL. Os nomes de tabelas e colunas devem seguir algumas regras, como: começar com uma letra ou um caractere especial, não conter espaços ou caracteres reservados, não exceder o limite de caracteres permitido, ser únicos dentro de um banco de dados ou de um esquema.\n",
        "\n",
        "```\n",
        "CREATE TABLE produto ( -- cria uma tabela chamada produto\n",
        "  id INT PRIMARY KEY, -- define uma coluna chamada id, do tipo inteiro, que é a chave primária da tabela\n",
        "  nome VARCHAR(50) NOT NULL, -- define uma coluna chamada nome, do tipo texto, que não pode ser nula\n",
        "  preco DECIMAL(10,2) CHECK (preco >= 0) -- define uma coluna chamada preco, do tipo decimal, que deve ser maior ou igual a zero\n",
        ");\n",
        "```\n",
        "\n",
        "* **Restrição de integridade**: As restrições de integridade são regras que ajudam a garantir a qualidade dos dados dentro de um banco de dados. Elas incluem restrições de chave primária (PRIMARY KEY), chave estrangeira (FOREIGN KEY), exclusividade (UNIQUE), e não nulidade (NOT NULL). As restrições de chave estrangeira são particularmente importantes porque garantem a consistência dos dados entre as tabelas. Se uma tabela tem uma chave estrangeira que referencia outra tabela, você não pode excluir a tabela referenciada sem antes excluir ou alterar todas as linhas que referenciam essa tabela.\n",
        "\n",
        " * PRIMARY KEY: define uma ou mais colunas que identificam de forma única cada linha da tabela. Não pode haver valores nulos ou repetidos na chave primária.\n",
        "\n",
        " * FOREIGN KEY: define uma ou mais colunas que referenciam a chave primária de outra tabela, estabelecendo um relacionamento entre as tabelas. Os valores da chave estrangeira devem corresponder aos valores da chave primária referenciada, ou ser nulos.\n",
        "UNIQUE: define uma ou mais colunas que devem ter valores únicos em cada linha da tabela. Pode haver valores nulos, mas apenas um por coluna.\n",
        "\n",
        " * NOT NULL: define uma ou mais colunas que não podem ter valores nulos em cada linha da tabela.\n",
        "\n",
        " * CHECK: define uma condição que deve ser verdadeira para os valores de uma ou mais colunas em cada linha da tabela.\n",
        "\n",
        "* **DROP TABLE**: O comando DROP TABLE é usado para excluir uma tabela existente. A sintaxe básica é DROP TABLE nome_da_tabela;. Este comando remove a tabela e todos os seus dados permanentemente do banco de dados. Se a tabela estiver sendo referenciada por qualquer objeto de banco de dados (como uma visão ou uma chave estrangeira), você precisará excluir ou alterar esses objetos primeiro.\n",
        "\n",
        "```\n",
        "DROP TABLE produto; -- elimina a tabela chamada produto\n",
        "```\n",
        "\n",
        "* **ALTER TABLE**: O comando ALTER TABLE é usado para modificar a estrutura de uma tabela existente. Ele pode ser usado para adicionar, modificar ou excluir colunas, bem como para adicionar e excluir restrições. A sintaxe básica é ALTER TABLE nome_da_tabela ADD COLUMN nova_coluna tipo_dados; para adicionar uma nova coluna, e ALTER TABLE nome_da_tabela DROP COLUMN nome_da_coluna; para excluir uma coluna.\n",
        "\n",
        "```\n",
        "ALTER DATABASE loja RENAME TO loja_online; -- renomeia o banco de dados loja para loja_online\n",
        "\n",
        "ALTER TABLE produto ADD COLUMN descricao TEXT; -- adiciona uma coluna chamada descricao, do tipo texto, na tabela produto\n",
        "\n",
        "ALTER TABLE produto DROP COLUMN preco; -- remove a coluna chamada preco da tabela produto\n",
        "```\n",
        "\n",
        "* **Restrição CHECK**: é um tipo de restrição que permite especificar uma condição que deve ser verdadeira para os valores de uma ou mais colunas em uma tabela. A restrição CHECK é usada para garantir a validade e a consistência dos dados, evitando valores inválidos ou incoerentes. A restrição CHECK pode ser definida na criação ou na alteração de uma tabela, usando a cláusula CHECK. Por exemplo:\n",
        "\n",
        "```\n",
        "-- Criando uma tabela com uma restrição CHECK na coluna idade\n",
        "CREATE TABLE pessoa (\n",
        "  nome VARCHAR(50) NOT NULL,\n",
        "  idade INT CHECK (idade >= 0 AND idade <= 120) -- a idade deve ser um número entre 0 e 120\n",
        ");\n",
        "\n",
        "-- Alterando uma tabela para adicionar uma restrição CHECK na coluna salario\n",
        "ALTER TABLE funcionario\n",
        "ADD CONSTRAINT chk_salario CHECK (salario > 0); -- o salario deve ser um número positivo\n",
        "\n",
        "```\n",
        "\n",
        "* **ASSERTION**: é um tipo de restrição que permite especificar uma condição que deve ser verdadeira para os dados de uma ou mais tabelas em um banco de dados. A asserção é usada para garantir a integridade e a consistência dos dados, evitando violações de regras de negócio ou de dependências funcionais. A asserção pode ser definida usando o comando CREATE ASSERTION, que é um recurso opcional do padrão SQL. Por exemplo:\n",
        "\n",
        "```\n",
        "-- Criando uma asserção que verifica se o total de vendas de cada produto é menor ou igual ao seu estoque\n",
        "CREATE ASSERTION chk_vendas_estoque\n",
        "CHECK ((SELECT SUM(quantidade) FROM vendas GROUP BY cod_produto) <= (SELECT estoque FROM produto));\n",
        "\n",
        "```\n",
        "\n",
        "* **View**: é um tipo de objeto do banco de dados que permite criar uma tabela virtual a partir de uma consulta SQL, que pode envolver uma ou mais tabelas reais. A visão é usada para simplificar ou personalizar a forma de acessar os dados, podendo ocultar ou modificar colunas, filtrar ou agrupar linhas, combinar ou calcular dados, entre outras operações. A visão pode ser definida usando o comando CREATE VIEW, que recebe o nome da visão, a lista de colunas (opcional) e a consulta SQL que gera os dados da visão. Por exemplo:\n",
        "\n",
        "```\n",
        "-- Criando uma visão que mostra o nome e o salário dos funcionários que ganham mais de 5000,\n",
        "-- eu ganho R$ 1.412,00 minimo de 2024 no brasil rsrs (é verdade esse bilhete)\n",
        "CREATE VIEW funcionarios_ricos (nome, salario)\n",
        "AS\n",
        "SELECT nome, salario FROM funcionario WHERE salario > 5000;\n",
        "```"
      ],
      "metadata": {
        "id": "r-T6MMMSM-l0"
      }
    },
    {
      "cell_type": "markdown",
      "source": [
        "#### Data Manipulation Language - DML\n",
        "\n",
        "DML é a sigla para Data Manipulation Language, ou Linguagem de Manipulação de Dados, que é um conjunto de comandos SQL que permitem inserir, atualizar, deletar e consultar dados em uma tabela. Os principais comandos DML são: INSERT, UPDATE, DELETE e SELECT.\n",
        "\n",
        "* **INSERT**: é um comando SQL que permite inserir novos registros em uma tabela do banco de dados. O comando INSERT é usado para adicionar dados à tabela, especificando as colunas e os valores que se quer inserir.\n",
        "\n",
        "```\n",
        "INSERT INTO tabela (coluna1, coluna2, ...)\n",
        "VALUES (valor1, valor2, ...);\n",
        "\n",
        "\n",
        "-- Insere um novo cliente na tabela cliente\n",
        "INSERT INTO cliente (id, nome, email)\n",
        "VALUES (15230, 'Lucas', 'lucas@gmail.com');\n",
        "```\n",
        "\n",
        "* **UPDATE**: é um comando SQL que permite modificar os registros existentes em uma tabela do banco de dados. O comando UPDATE é usado para alterar os dados da tabela, especificando as colunas e os novos valores que se quer atualizar. O comando UPDATE pode ser usado com uma cláusula WHERE, para filtrar os registros que se quer modificar.\n",
        "\n",
        "```\n",
        "UPDATE tabela\n",
        "SET coluna1 = valor1, coluna2 = valor2, ...\n",
        "WHERE condição;\n",
        "\n",
        "-- Atualiza o email do cliente com id 15230 na tabela cliente\n",
        "UPDATE cliente\n",
        "SET email = 'lucas.silva@gmail.com'\n",
        "WHERE id = 15230;\n",
        "\n",
        "```\n",
        "\n",
        "* **DELETE**: é um comando SQL que permite remover os registros existentes em uma tabela do banco de dados. O comando DELETE é usado para deletar os dados da tabela, especificando os registros que se quer eliminar. O comando DELETE pode ser usado com uma cláusula WHERE, para filtrar os registros que se quer remover.\n",
        "\n",
        "> Delete com where, sempre façam o select antes, isso vale para o DROP também.\n",
        "\n",
        "```\n",
        "DELETE FROM tabela\n",
        "WHERE condição;\n",
        "\n",
        "-- Deleta o cliente com id 15230 da tabela cliente\n",
        "DELETE FROM cliente\n",
        "WHERE id = 15230;\n",
        "```\n",
        "\n",
        "\n",
        "A forma padrão de escrever uma instrução SELECT que recupera dados de uma ou mais tabelas: é:\n",
        "\n",
        "```\n",
        "SELECT [DISTINCT | ALL] coluna1, coluna2, ...\n",
        "FROM tabela1, tabela2, ...\n",
        "[WHERE condição]\n",
        "[GROUP BY coluna1, coluna2, ...]\n",
        "[HAVING condição]\n",
        "[ORDER BY coluna1, coluna2, ... [ASC | DESC]];\n",
        "\n",
        "\n",
        "SELECT\n",
        " c.nome  AS CLIENTE,\n",
        " c.idade\n",
        "FROM erp.cliente c\n",
        "WHERE 1=1\n",
        "```\n",
        "\n",
        "* **DISTINCT**: é uma forma de lidar com registros repetidos em uma tabela, que podem causar problemas de consistência e integridade dos dados. Existem várias técnicas para tratar de duplicatas, como usar a cláusula DISTINCT no comando SELECT, usar chaves primárias e estrangeiras para evitar inserções duplicadas, usar funções de agregação para agrupar e resumir dados, entre outras.\n",
        "\n",
        "* **Operações de conjunto**: são operações que permitem combinar os resultados de duas ou mais consultas SQL, usando os conceitos de teoria dos conjuntos. As principais operações de conjunto são:  EXCEPT, INTERSECT e UNION.\n",
        "\n",
        " * UNION retorna os registros que estão em pelo menos uma das consultas.\n",
        "\n",
        " * INTERSECT retorna os registros que estão em ambas as consultas.\n",
        " * EXCEPT retorna os registros que estão na primeira consulta, mas não na segunda.\n",
        "\n",
        "* **JOINS**: São operações que permitem combinar dados de duas ou mais tabelas em uma única consulta, usando uma condição de junção que relaciona as colunas das tabelas. Os joins são usados na cláusula FROM do comando SELECT, que é um comando DML. Existem vários tipos de joins, que produzem resultados diferentes dependendo de como as tabelas se relacionam. Os principais tipos de joins são:\n",
        "\n",
        " * INNER JOIN: retorna os registros que são comuns às duas tabelas, ou seja, que satisfazem a condição de junção.\n",
        "\n",
        " * LEFT JOIN: retorna todos os registros da tabela da esquerda e os registros da tabela da direita que são comuns à tabela da esquerda.\n",
        "\n",
        " * RIGHT JOIN: retorna todos os registros da tabela da direita e os registros da tabela da esquerda que são comuns à tabela da direita.\n",
        "\n",
        " * FULL JOIN: retorna todos os registros das duas tabelas, combinando-os quando há correspondência na condição de junção.\n",
        "\n",
        " * CROSS JOIN: retorna o produto cartesiano das duas tabelas, ou seja, todas as combinações possíveis de registros das tabelas.\n",
        "\n",
        "A sintaxe básica de um join é:\n",
        "\n",
        "```\n",
        "SELECT\n",
        "  colunas\n",
        "FROM tabela1\n",
        "  INNER JOIN tabela2 ON condição de junção\n",
        "  LEFT  JOIN TABELA3 ON condição de junção\n",
        "  RIGHT JOIN tabela4 on condição de junção\n",
        "WHERE 1=1;\n",
        "```\n",
        "\n",
        "* **Alias**: A manipulação no DML dos nomes das tabelas e colunas é uma forma de alterar temporariamente a forma como os nomes são exibidos ou referenciados em uma consulta SQL, sem afetar a estrutura física do banco de dados. Essa manipulação é feita usando os alias, que são apelidos que podem ser atribuídos às tabelas ou às colunas em uma consulta SQL. Os alias são úteis por vários motivos, tais como:\n",
        "\n",
        " * Melhorar a legibilidade e a compreensão da consulta SQL, usando nomes mais curtos, simples ou significativos para as tabelas ou colunas.\n",
        "\n",
        " * Evitar ambiguidades ou conflitos de nomes, quando se usa mais de uma tabela ou coluna com o mesmo nome em uma consulta SQL.\n",
        "\n",
        " * Facilitar a referência a colunas calculadas ou derivadas, que não existem fisicamente no banco de dados, mas são criadas na consulta SQL.\n",
        "\n",
        " * Permitir o uso de funções de agregação, como SUM, AVG, COUNT, etc., que requerem um alias para identificar o resultado da função.\n",
        "\n",
        "```\n",
        " -- sintaxe básica\n",
        "SELECT\n",
        "  coluna AS alias\n",
        "FROM tabela AS alias\n",
        "\n",
        " -- Usando alias para colunas calculadas\n",
        "SELECT\n",
        "  nome,\n",
        "  salario,\n",
        "  salario * 1.1 AS novo_salario\n",
        "FROM funcionarios;\n",
        "\n",
        " -- Usando alias para tabelas\n",
        "SELECT\n",
        "  f.nome,\n",
        "  f.salario,\n",
        "  d.nome AS departamento\n",
        "FROM funcionarios AS f\n",
        "  INNER JOIN departamentos AS d ON f.cod_departamento = d.cod_departamento;\n",
        "\n",
        " -- Usando alias para funções de agregação\n",
        "SELECT\n",
        "  d.nome AS departamento,\n",
        "  AVG(f.salario) AS media_salarial\n",
        "FROM funcionarios AS f\n",
        "  INNER JOIN departamentos AS d  ON f.cod_departamento = d.cod_departamento\n",
        "GROUP BY d.nome;\n",
        "```\n",
        "Os alias são restritos ao escopo da consulta SQL em que são definidos, ou seja, eles só são válidos dentro da consulta e não afetam as outras consultas ou o banco de dados. Além disso, os alias devem seguir as mesmas regras de nomenclatura das tabelas e colunas, como não usar palavras reservadas, não conter espaços ou caracteres especiais.\n",
        "\n",
        "* **Seleção, projeção e produto cartesiano**: são operações da álgebra relacional, que é uma linguagem formal e procedimental para manipular dados em bancos de dados relacionais. A seleção é uma operação que filtra as linhas de uma tabela que satisfazem uma condição. A projeção é uma operação que seleciona as colunas de uma tabela que são de interesse. O produto cartesiano é uma operação que combina todas as linhas de duas tabelas, formando uma nova tabela com todas as colunas das tabelas originais.\n",
        "\n",
        "* **Expressão**: é uma combinação de valores, operadores, funções e colunas que produz um resultado. As expressões podem ser usadas em várias partes de uma instrução SQL, como na lista de seleção, na cláusula WHERE, na cláusula ORDER BY, entre outras.\n"
      ],
      "metadata": {
        "id": "QluC0Nm9yUnc"
      }
    },
    {
      "cell_type": "markdown",
      "source": [
        "### Cláusula Where, Predicados e seus Quantificadores\n",
        "\n",
        "O WHERE é uma cláusula que permite filtrar os registros de uma consulta SQL, usando uma ou mais condições lógicas. O WHERE é usado em conjunto com as instruções DML (Data Manipulation Language), como SELECT, UPDATE, DELETE.\n",
        "\n",
        "O predicado é a parte da cláusula WHERE que define a condição de filtragem, usando operadores, colunas, valores, funções e subconsultas. O predicado pode ser simples ou composto, dependendo do número de condições que envolve. O predicado deve retornar um valor lógico (verdadeiro ou falso) para cada registro da consulta.\n",
        "\n",
        "```\n",
        "-- Predicado simples: verifica se o nome do cliente é igual a \"João\"\n",
        "SELECT * FROM cliente WHERE nome = 'João';\n",
        "\n",
        "-- Predicado composto: verifica se o preço do produto é maior que 100 e menor que 200\n",
        "SELECT * FROM produto WHERE preco > 100 AND preco < 200;\n",
        "\n",
        "-- Predicado composto: verifica se o código do pedido está entre 10 e 20 ou se o valor do pedido é maior que 500\n",
        "SELECT * FROM pedido WHERE codigo BETWEEN 10 AND 20 OR valor > 500;\n",
        "\n",
        "-- Predicado composto: verifica se o código do produto está na lista de produtos mais vendidos\n",
        "SELECT * FROM produto WHERE codigo IN (SELECT produto_id FROM venda GROUP BY produto_id ORDER BY COUNT(*) DESC LIMIT 10);\n",
        "\n",
        "```\n",
        "\n",
        "* **EXISTS**: é uma condição que verifica se uma subconsulta retorna algum resultado ou não. A condição EXISTS é usada para filtrar registros baseados na existência ou não de registros relacionados em outra tabela. A condição EXISTS retorna verdadeiro se a subconsulta retornar pelo menos um registro, e falso se a subconsulta não retornar nenhum registro.\n",
        "\n",
        "```\n",
        "-- Seleciona os clientes que fizeram algum pedido\n",
        "SELECT nome, email\n",
        "FROM cliente\n",
        "WHERE EXISTS (SELECT 1 FROM pedido WHERE pedido.cliente_id = cliente.id);\n",
        "\n",
        "```\n",
        "\n",
        "* **IN**: é uma condição que verifica se um valor está dentro de um conjunto de valores especificados. A condição IN é usada para filtrar registros que correspondem a um ou mais valores. A condição IN retorna verdadeiro se o valor da coluna for igual a algum dos valores especificados, e falso se não for.\n",
        "\n",
        "```\n",
        "-- Seleciona os produtos que pertencem às categorias 1, 3 ou 5\n",
        "SELECT nome, preco\n",
        "FROM produto\n",
        "WHERE categoria_id IN (1, 3, 5);\n",
        "\n",
        "```\n",
        "\n",
        "* **OR**: é um operador lógico que combina duas ou mais condições em uma cláusula WHERE. O operador OR é usado para filtrar registros que satisfaçam pelo menos uma das condições. O operador OR retorna verdadeiro se alguma das condições for verdadeira, e falso se todas as condições forem falsas.\n",
        "\n",
        "```\n",
        "-- Seleciona os funcionários que têm salário maior que 5000 ou que trabalham no departamento 2\n",
        "SELECT nome, salario, departamento_id\n",
        "FROM funcionario\n",
        "WHERE salario > 5000 OR departamento_id = 2;\n",
        "```\n",
        "\n",
        "* **AND**: é um operador lógico que combina duas ou mais condições em uma cláusula WHERE. O operador AND é usado para filtrar registros que satisfaçam todas as condições. O operador AND retorna verdadeiro se todas as condições forem verdadeiras, e falso se alguma das condições for falsa.\n",
        "\n",
        "```\n",
        "-- Seleciona os funcionários que têm salário maior que 5000 e que trabalham no departamento 2\n",
        "SELECT nome, salario, departamento_id\n",
        "FROM funcionario\n",
        "WHERE salario > 5000 AND departamento_id = 2;\n",
        "\n",
        "```\n",
        "\n",
        "Saber utilizar bem os predicados inferi diretamente em performance. Faremos uma comparação entre os qualificadores brevemente, a performance comparativa entre essas condições depende de vários fatores, como o tamanho das tabelas, a existência de índices, o otimizador de consultas, etc. De forma geral, algumas dicas para melhorar a performance são:\n",
        "\n",
        "\n",
        "* Usar **EXISTS** em vez de **IN** quando a subconsulta envolver muitos registros, pois o EXISTS para de procurar assim que encontra um registro que satisfaça a condição, enquanto o IN precisa verificar todos os registros da subconsulta.\n",
        "\n",
        "* Usar **IN** em vez de **OR** quando se quer comparar uma coluna com vários valores constantes, pois o IN é mais simples e mais rápido do que o OR. Lembrando que temos o UNION E UNION ALL, que pode substituir muito bem o **OR** porém as consultas ficam extensas, porém utiliza-se o predicado mais rápido AND com \"=\".\n",
        "\n",
        "* Usar **AND** em vez de **OR** quando se quer restringir mais os resultados, pois o AND elimina mais registros que não atendem às condições, enquanto o OR pode retornar mais registros que não são relevantes.\n",
        "\n",
        "Usar parênteses para agrupar as condições e definir a ordem de avaliação, pois isso pode afetar a performance e o resultado da consulta.\n",
        "\n",
        "```\n",
        "-- Seleciona os clientes que fizeram algum pedido de produtos da categoria 1 ou 2\n",
        "SELECT c.nome, c.email\n",
        "FROM cliente c\n",
        "WHERE EXISTS (SELECT 1 FROM pedido p\n",
        "              JOIN produto pr ON p.produto_id = pr.id\n",
        "              WHERE p.cliente_id = c.id\n",
        "              AND pr.categoria_id IN (1, 2));\n",
        "```\n"
      ],
      "metadata": {
        "id": "xnK2_u_8k0vo"
      }
    },
    {
      "cell_type": "markdown",
      "source": [
        "### Group By, Having, Agregações\n",
        "\n",
        "* **GROUP BY**: é uma cláusula que permite agrupar os registros de uma consulta SQL, usando uma ou mais colunas como critério de agrupamento. O GROUP BY é usado em conjunto com funções de agregação, como SUM, AVG, COUNT, MIN, MAX, etc., que calculam um valor único para cada grupo.\n",
        "\n",
        "```\n",
        "-- Seleciona o nome e a média de salário dos funcionários por departamento\n",
        "SELECT departamento, AVG(salario) AS media_salario\n",
        "FROM funcionario\n",
        "GROUP BY departamento;\n",
        "\n",
        "-- Seleciona o nome e o número de vendas dos produtos por categoria\n",
        "SELECT categoria, COUNT(*) AS numero_vendas\n",
        "FROM produto\n",
        "JOIN venda ON produto.id = venda.produto_id\n",
        "GROUP BY categoria;\n",
        "\n",
        "-- Seleciona o nome e o valor total dos pedidos por cliente\n",
        "SELECT cliente, SUM(valor) AS valor_total\n",
        "FROM pedido\n",
        "GROUP BY cliente;\n",
        "\n",
        "```\n",
        "\n",
        "* **HAVING**: é uma cláusula que permite filtrar os grupos de uma consulta SQL, usando uma ou mais condições lógicas. O HAVING é usado em conjunto com o GROUP BY, para restringir os grupos que atendem a um critério de agregação\n",
        "\n",
        "```\n",
        "-- A sintaxe básica do HAVING é:\n",
        "SELECT colunas, funções de agregação\n",
        "FROM tabela\n",
        "WHERE condição\n",
        "GROUP BY colunas de agrupamento\n",
        "HAVING condição de agregação;\n",
        "\n",
        "-- Seleciona o nome e a média de salário dos funcionários por departamento, somente dos departamentos que têm média de salário maior que 5000\n",
        "SELECT departamento, AVG(salario) AS media_salario\n",
        "FROM funcionario\n",
        "GROUP BY departamento\n",
        "HAVING AVG(salario) > 5000;\n",
        "\n",
        "-- Seleciona o nome e o número de vendas dos produtos por categoria, somente das categorias que têm mais de 10 vendas\n",
        "SELECT categoria, COUNT(*) AS numero_vendas\n",
        "FROM produto\n",
        "JOIN venda ON produto.id = venda.produto_id\n",
        "GROUP BY categoria\n",
        "HAVING COUNT(*) > 10;\n",
        "\n",
        "-- Seleciona o nome e o valor total dos pedidos por cliente, somente dos clientes que têm valor total maior que 1000\n",
        "SELECT cliente, SUM(valor) AS valor_total\n",
        "FROM pedido\n",
        "GROUP BY cliente\n",
        "HAVING SUM(valor) > 1000;\n",
        "\n",
        "```\n",
        "\n",
        "A relação entre o GROUP BY e o HAVING é que o HAVING depende do GROUP BY, ou seja, só pode ser usado se houver um agrupamento prévio dos registros. O HAVING é aplicado depois do GROUP BY, para filtrar os grupos que atendem a uma condição de agregação. O HAVING é diferente do WHERE, que é aplicado antes do GROUP BY, para filtrar os registros que atendem a uma condição simples.\n",
        "\n",
        "Dicas de como melhorar o uso do GROUP BY e o HAVING:\n",
        "\n",
        "* Usar o **WHERE** para eliminar os registros que não são relevantes para o agrupamento, reduzindo o número de grupos e o tempo de processamento.\n",
        "\n",
        "* Usar o **HAVING** para eliminar os grupos que não são relevantes para a análise, reduzindo o número de linhas no resultado final.\n",
        "\n",
        "* Usar **índices** nas colunas usadas no agrupamento e na agregação, para acelerar a busca e a ordenação dos registros.\n",
        "\n",
        "* Usar funções de agregação simples e eficientes, como COUNT e SUM, em vez de funções mais complexas e demoradas, como STDDEV e VAR.\n",
        "\n",
        "As preocupações, restrições e boas práticas ao usar o GROUP BY e o HAVING são:\n",
        "\n",
        "* As **colunas** que se quer selecionar devem ser as mesmas usadas no agrupamento ou que não sejam afetadas pelo agrupamento, ou seja, que tenham um valor único para cada grupo. Caso contrário, pode haver erros ou resultados inconsistentes.\n",
        "\n",
        "* As **funções de agregação** devem ser usadas somente nas colunas que se quer agregar, e não nas colunas usadas no agrupamento. Caso contrário, pode haver erros ou resultados sem sentido.\n",
        "\n",
        "* A **ordem das colunas** usadas no agrupamento pode afetar o resultado da consulta, se houver mais de uma coluna de agrupamento. Por isso, é importante definir a ordem de acordo com a lógica e o objetivo da consulta.\n",
        "\n",
        "* A condição usada no **HAVING** deve se referir a uma coluna que seja resultado de uma função de agregação, e não a uma coluna simples. Caso contrário, pode haver erros ou resultados incorretos.\n",
        "\n",
        "As funções de agregação são funções SQL que permitem executar um cálculo em um conjunto de valores e retornar um único valor. Com exceção de COUNT(*), as funções de agregação ignoram valores nulos. As funções de agregação frequentemente são usadas com a cláusula GROUP BY da instrução SELECT.\n",
        "\n",
        "As principais funções de agregação em SQL são:\n",
        "\n",
        "* **COUNT**: retorna o número de registros em um conjunto de valores. Se for usado o asterisco (*), conta todos os registros, incluindo os nulos. Se for usada uma coluna, conta somente os registros não nulos dessa coluna. Por exemplo:\n",
        "\n",
        "```\n",
        "-- Conta todos os registros da tabela cliente\n",
        "SELECT COUNT(*) FROM cliente;\n",
        "\n",
        "-- Conta somente os registros da tabela cliente que têm email\n",
        "SELECT COUNT(email) FROM cliente;\n",
        "```\n",
        "\n",
        "* **SUM**: retorna a soma dos valores numéricos em um conjunto de valores. Ignora os valores nulos. Por exemplo:\n",
        "\n",
        "```\n",
        "-- Soma os valores dos pedidos da tabela pedido\n",
        "SELECT SUM(valor) FROM pedido;\n",
        "\n",
        "-- Soma os salários dos funcionários da tabela funcionario\n",
        "SELECT SUM(salario) FROM funcionario;\n",
        "```\n",
        "* **AVG**: retorna a média aritmética dos valores numéricos em um conjunto de valores. Ignora os valores nulos. Por exemplo:\n",
        "\n",
        "```\n",
        "-- Calcula a média dos valores dos pedidos da tabela pedido\n",
        "SELECT AVG(valor) FROM pedido;\n",
        "\n",
        "-- Calcula a média dos salários dos funcionários da tabela funcionario\n",
        "SELECT AVG(salario) FROM funcionario;\n",
        "```\n",
        "\n",
        "* **MIN**: retorna o menor valor em um conjunto de valores. Pode ser usado com valores numéricos, de data ou de texto. Ignora os valores nulos. Por exemplo:\n",
        "\n",
        "```\n",
        "-- Encontra o menor valor dos pedidos da tabela pedido\n",
        "SELECT MIN(valor) FROM pedido;\n",
        "\n",
        "-- Encontra a data mais antiga dos pedidos da tabela pedido\n",
        "SELECT MIN(data) FROM pedido;\n",
        "\n",
        "-- Encontra o nome alfabeticamente menor dos clientes da tabela cliente\n",
        "SELECT MIN(nome) FROM cliente;\n",
        "```\n",
        "\n",
        "* **MAX**: retorna o maior valor em um conjunto de valores. Pode ser usado com valores numéricos, de data ou de texto. Ignora os valores nulos. Por exemplo:\n",
        "\n",
        "```\n",
        "-- Encontra o maior valor dos pedidos da tabela pedido\n",
        "SELECT MAX(valor) FROM pedido;\n",
        "\n",
        "-- Encontra a data mais recente dos pedidos da tabela pedido\n",
        "SELECT MAX(data) FROM pedido;\n",
        "\n",
        "-- Encontra o nome alfabeticamente maior dos clientes da tabela cliente\n",
        "SELECT MAX(nome) FROM cliente;\n",
        "```"
      ],
      "metadata": {
        "id": "2MmjzJAToeOG"
      }
    },
    {
      "cell_type": "markdown",
      "source": [
        "### Common Table Expressions - CTE\n",
        "\n",
        "CTEs, são as siglas para Common Table Expressions, ou Expressões de Tabela Comuns, que são um recurso do SQL que permite criar uma tabela temporária a partir de uma consulta, e usá-la em outra consulta. As CTEs são úteis para simplificar ou organizar consultas complexas, que envolvem várias tabelas, subconsultas, junções, agregações, etc. As CTEs também podem ser usadas para criar consultas recursivas, que são consultas que se referem a si mesmas, para resolver problemas que envolvem hierarquia, árvore, grafo, etc.\n",
        "\n",
        "Consulta com with: é uma forma de criar uma CTE usando a cláusula WITH, seguida pelo nome da CTE e a definição da consulta auxiliar. A consulta com with pode ser usada em conjunto com uma instrução SELECT, INSERT, UPDATE, DELETE ou MERGE, que faz referência ao nome da CTE.\n",
        "\n",
        "```\n",
        "WITH nome_cte (coluna1, coluna2, ...) AS\n",
        "(SELECT ... FROM ...)\n",
        "instrução que usa nome_cte;\n",
        "\n",
        "-- Cria uma CTE que retorna uma lista de clientes\n",
        "WITH clientes AS\n",
        "(SELECT id, nome, email FROM cliente)\n",
        "-- Usa a CTE para selecionar os clientes que fizeram algum pedido\n",
        "SELECT c.nome, c.email\n",
        "FROM clientes c\n",
        "JOIN pedido p ON p.cliente_id = c.id;\n",
        "```\n",
        "\n",
        "* **Recursividade utilizando SQL e with**: a recursividade é uma propriedade que permite que uma consulta se refira a si mesma, ou seja, que use a CTE como parte da definição da própria CTE. A recursividade é usada para resolver problemas que envolvem estruturas de dados hierárquicas, como árvores, grafos, etc., que não podem ser resolvidos com uma consulta simples.\n",
        "\n",
        "```\n",
        "-- A sintaxe básica da recursividade utilizando SQL e with é:\n",
        "WITH nome_cte (coluna1, coluna2, ...) AS\n",
        "(\n",
        "-- Parte não recursiva: define a consulta inicial, que é a base da recursão\n",
        "SELECT ... FROM ...\n",
        "UNION ALL\n",
        "-- Parte recursiva: define a consulta que se refere à CTE, que é a continuação da recursão\n",
        "SELECT ... FROM ... JOIN nome_cte ON ...\n",
        ")\n",
        "-- Usa a CTE para selecionar os dados desejados\n",
        "SELECT ... FROM nome_cte;\n",
        "\n",
        "-- Cria uma tabela de funcionários com uma coluna que indica o chefe de cada funcionário\n",
        "CREATE TABLE funcionario (\n",
        "  id INT PRIMARY KEY,\n",
        "  nome VARCHAR(50),\n",
        "  salario DECIMAL(10,2),\n",
        "  chefe_id INT REFERENCES funcionario(id)\n",
        ");\n",
        "\n",
        "-- Insere alguns dados na tabela de funcionários\n",
        "INSERT INTO funcionario VALUES\n",
        "(1, 'Ana', 10000, NULL),\n",
        "(2, 'Bruno', 8000, 1),\n",
        "(3, 'Carlos', 6000, 1),\n",
        "(4, 'Daniela', 5000, 2),\n",
        "(5, 'Eduardo', 4000, 2),\n",
        "(6, 'Fabiana', 3000, 3),\n",
        "(7, 'Gabriel', 2000, 3);\n",
        "\n",
        "-- Cria uma CTE recursiva que retorna a hierarquia dos funcionários\n",
        "WITH hierarquia (id, nome, nivel) AS\n",
        "(\n",
        "-- Parte não recursiva: seleciona os funcionários que não têm chefe, que são o nível 1 da hierarquia\n",
        "SELECT id, nome, 1 AS nivel FROM funcionario WHERE chefe_id IS NULL\n",
        "UNION ALL\n",
        "-- Parte recursiva: seleciona os funcionários que têm chefe, que são os níveis 2, 3, etc. da hierarquia\n",
        "SELECT f.id, f.nome, h.nivel + 1 AS nivel FROM funcionario f\n",
        "JOIN hierarquia h ON f.chefe_id = h.id\n",
        ")\n",
        "-- Usa a CTE para selecionar os funcionários e seus respectivos níveis na hierarquia\n",
        "SELECT * FROM hierarquia ORDER BY nivel, nome;\n",
        "\n",
        "```\n",
        "\n"
      ],
      "metadata": {
        "id": "RTPUii5EtOQ1"
      }
    },
    {
      "cell_type": "markdown",
      "source": [
        "### Procedure, Trigger e Function\n",
        "\n",
        "* **Procedures**: são blocos de código SQL ou PL/SQL que podem ser armazenados no banco de dados e executados por outras aplicações ou scripts. As procedures são usadas para encapsular tarefas repetitivas, aceitar parâmetros de entrada e retornar um valor de status. As procedures podem melhorar a performance, a segurança e a manutenção do banco de dados.\n",
        "\n",
        "```\n",
        "CREATE [OR REPLACE] PROCEDURE nome_procedure (parâmetro1, parâmetro2, ...)\n",
        "IS [ou AS]\n",
        "[declaração de variáveis]\n",
        "BEGIN\n",
        "[bloco de comandos SQL ou PL/SQL]\n",
        "END;\n",
        "\n",
        "-- Cria uma procedure que calcula o salário líquido de um funcionário\n",
        "CREATE PROCEDURE calcular_salario (id_funcionario IN NUMBER, salario_liquido OUT NUMBER)\n",
        "IS\n",
        "  salario_bruto NUMBER;\n",
        "  imposto NUMBER;\n",
        "BEGIN\n",
        "  -- Busca o salário bruto do funcionário pelo id\n",
        "  SELECT salario INTO salario_bruto FROM funcionario WHERE id = id_funcionario;\n",
        "  -- Calcula o imposto de 10% sobre o salário bruto\n",
        "  imposto := salario_bruto * 0.1;\n",
        "  -- Calcula o salário líquido subtraindo o imposto\n",
        "  salario_liquido := salario_bruto - imposto;\n",
        "END;\n",
        "```\n",
        "* **Triggers**: são blocos de código SQL ou PL/SQL que podem ser armazenados no banco de dados e executados automaticamente em resposta a um evento no banco de dados, como um comando INSERT, UPDATE ou DELETE. As triggers são usadas para realizar ações específicas, como validar dados, auditar mudanças, sincronizar tabelas, etc.\n",
        "\n",
        "```\n",
        "CREATE [OR REPLACE] TRIGGER nome_trigger\n",
        "[BEFORE ou AFTER] [INSERT ou UPDATE ou DELETE]\n",
        "ON tabela\n",
        "[FOR EACH ROW]\n",
        "[WHEN condição]\n",
        "[declaração de variáveis]\n",
        "BEGIN\n",
        "[bloco de comandos SQL ou PL/SQL]\n",
        "END;\n",
        "\n",
        "-- Cria uma trigger que registra as alterações na tabela cliente em uma tabela de auditoria\n",
        "CREATE TRIGGER auditar_cliente\n",
        "AFTER INSERT OR UPDATE OR DELETE\n",
        "ON cliente\n",
        "FOR EACH ROW\n",
        "BEGIN\n",
        "  -- Insere um registro na tabela auditoria com os dados da operação realizada na tabela cliente\n",
        "  INSERT INTO auditoria (tabela, operacao, id, nome, email, data_hora)\n",
        "  VALUES ('cliente',\n",
        "          CASE\n",
        "            WHEN INSERTING THEN 'I'\n",
        "            WHEN UPDATING THEN 'U'\n",
        "            WHEN DELETING THEN 'D'\n",
        "          END,\n",
        "          :NEW.id, :NEW.nome, :NEW.email, SYSDATE);\n",
        "END;\n",
        "```\n",
        "\n",
        "* **Functions**: são blocos de código SQL ou PL/SQL que podem ser armazenados no banco de dados e executados por outras aplicações ou scripts. As functions são usadas para retornar um valor único, que pode ser baseado em parâmetros de entrada. As functions podem ser usadas em conjunto com as instruções SELECT, WHERE, HAVING, etc.\n",
        "\n",
        "```\n",
        "CREATE [OR REPLACE] FUNCTION nome_function (parâmetro1, parâmetro2, ...)\n",
        "RETURN tipo_de_dados\n",
        "IS [ou AS]\n",
        "[declaração de variáveis]\n",
        "BEGIN\n",
        "[bloco de comandos SQL ou PL/SQL]\n",
        "RETURN valor;\n",
        "END;\n",
        "\n",
        "-- Cria uma function que calcula o fatorial de um número\n",
        "CREATE FUNCTION fatorial (n IN NUMBER) RETURN NUMBER\n",
        "IS\n",
        "  resultado NUMBER := 1;\n",
        "BEGIN\n",
        "  FOR i IN 1..n LOOP\n",
        "    resultado := resultado * i;\n",
        "  END LOOP;\n",
        "  RETURN resultado;\n",
        "END;\n",
        "```\n",
        "\n",
        "A melhor forma de uso e as restrições de cada um desses recursos dependem do objetivo e da necessidade de cada aplicação. De forma geral, algumas dicas são:\n",
        "\n",
        "* Usar **procedures** quando se quer executar uma tarefa que não retorna um valor, mas que pode ter efeitos colaterais no banco de dados, como inserir, atualizar ou deletar dados, ou que pode retornar um valor de status para indicar o sucesso ou o fracasso da operação.\n",
        "\n",
        "* Usar **triggers** quando se quer executar uma ação automática em resposta a um evento no banco de dados, como validar dados, auditar mudanças, sincronizar tabelas, etc., sem precisar de uma intervenção manual ou de uma chamada explícita.\n",
        "\n",
        "* Usar **functions** quando se quer executar uma tarefa que retorna um valor único, que pode ser baseado em parâmetros de entrada, e que pode ser usada em conjunto com outras instruções SQL, como SELECT, WHERE, HAVING, etc.\n",
        "\n",
        "* As **procedures** não podem ser usadas em instruções SQL, como SELECT, WHERE, HAVING, etc., pois elas não retornam um valor único.\n",
        "\n",
        "* As **triggers** não podem ser chamadas diretamente, pois elas são disparadas automaticamente pelo banco de dados. Além disso, as triggers devem ser cuidadosas para evitar loops infinitos e podem afetar diretamente a performance do tratamento de dados pelo banco.\n"
      ],
      "metadata": {
        "id": "E-fCWoiOzmLy"
      }
    },
    {
      "cell_type": "markdown",
      "source": [
        "### Segurança\n",
        "\n",
        "Um conjunto de medidas que visam proteger os dados e os objetos do banco de dados contra acessos não autorizados, alterações indevidas, perdas ou vazamentos. A segurança envolve vários aspectos, como:\n",
        "  \n",
        "  * Autenticação, que verifica a identidade dos usuários ou aplicações que se conectam ao banco de dados;\n",
        "  \n",
        "  * Autorização, que define os privilégios e as permissões dos usuários ou aplicações sobre os objetos do banco de dados\n",
        "  \n",
        "  * Criptografia, que codifica os dados para evitar que sejam lidos ou modificados por terceiros;\n",
        "  \n",
        "  * auditoria, que registra as atividades e os eventos que ocorrem no banco de dados;\n",
        "  \n",
        "  * Backup e recuperação, que permitem salvar e restaurar os dados em caso de falhas ou desastres\n",
        "\n",
        "Papeis e comandos em segurança de bancos relacionais:\n",
        "\n",
        "* Usuário: é uma entidade que representa uma pessoa ou uma aplicação que se conecta ao banco de dados, podendo acessar, manipular ou administrar os dados e os objetos do banco de dados. Cada usuário tem um nome, uma senha e um conjunto de privilégios associados. Os usuários são criados, alterados e eliminados usando os comandos CREATE USER, ALTER USER e DROP USER, respectivamente.\n",
        "\n",
        "```\n",
        "CREATE USER nome IDENTIFIED BY senha [ privilégio [, privilégio, ...] ];\n",
        "\n",
        "-- Cria um usuário chamado joao com a senha 1234\n",
        "CREATE USER joao IDENTIFIED BY 1234;\n",
        "\n",
        "-- Cria um usuário chamado maria com a senha 5678 e o privilégio de criar tabelas\n",
        "CREATE USER maria IDENTIFIED BY 5678 CREATE TABLE;\n",
        "\n",
        "-- Cria um usuário chamado pedro com a senha 9012 e os privilégios de alterar e eliminar usuários\n",
        "CREATE USER pedro IDENTIFIED BY 9012 ALTER USER, DROP USER;\n",
        "\n",
        "ALTER USER nome [ IDENTIFIED BY senha ] [ privilégio [, privilégio, ...] ];\n",
        "\n",
        "-- Altera a senha do usuário joao para 4321\n",
        "ALTER USER joao IDENTIFIED BY 4321;\n",
        "\n",
        "-- Concede o privilégio de consultar a tabela produto ao usuário maria\n",
        "ALTER USER maria GRANT SELECT ON produto;\n",
        "\n",
        "-- Revoga o privilégio de eliminar usuários do usuário pedro\n",
        "ALTER USER pedro REVOKE DROP USER;\n",
        "\n",
        "-- Elimina o usuário joao do banco de dados\n",
        "DROP USER joao;\n",
        "\n",
        "-- Elimina o usuário maria do banco de dados\n",
        "DROP USER maria;\n",
        "\n",
        "-- Elimina o usuário pedro do banco de dados\n",
        "DROP USER pedro;\n",
        "\n",
        "```\n",
        "\n",
        "* Privilégios: são os direitos ou as permissões que um usuário tem sobre os dados e os objetos do banco de dados, como tabelas, colunas, índices, views, funções, procedimentos, etc. Os privilégios determinam quais operações um usuário pode realizar, como criar, consultar, inserir, atualizar, deletar, modificar, executar, etc. Os privilégios são concedidos ou revogados usando os comandos GRANT e REVOKE, respectivamente.\n",
        "\n",
        "GRANT: é um comando SQL que permite conceder um ou mais privilégios a um usuário ou a um grupo de usuários sobre um objeto do banco de dados, como uma tabela, uma coluna, uma view, uma função, etc. O comando GRANT é usado para permitir ou ampliar o acesso de um usuário aos dados ou aos objetos do banco de dados, por motivos de segurança, de controle ou de colaboração.\n",
        "\n",
        "```\n",
        "--  A sintaxe básica do comando GRANT é\n",
        "\n",
        "GRANT { privilégio [, privilégio, ...] | ALL [ PRIVILEGES ] }\n",
        "ON objeto\n",
        "TO { usuário [, usuário, ...] | PUBLIC }\n",
        "[ WITH GRANT OPTION ];\n",
        "\n",
        "-- Concede o privilégio de consultar a tabela produto ao usuário joao\n",
        "GRANT SELECT ON produto TO joao;\n",
        "\n",
        "-- Concede o privilégio de inserir e atualizar dados na coluna preco da tabela produto ao usuário maria\n",
        "GRANT INSERT, UPDATE ON produto (preco) TO maria;\n",
        "\n",
        "-- Concede todos os privilégios sobre a view vendas ao usuário pedro e à opção de concedê-los a outros usuários\n",
        "GRANT ALL PRIVILEGES, GRANT OPTION ON vendas TO pedro;\n",
        "\n",
        "-- Concede todos os privilégios sobre a função fatorial ao usuário publico\n",
        "GRANT ALL ON FUNCTION fatorial TO PUBLIC;\n",
        "\n",
        "```\n",
        "\n",
        "REVOKE: é um comando SQL que permite remover um ou mais privilégios de um usuário ou de um grupo de usuários sobre um objeto do banco de dados. O comando REVOKE é usado para restringir ou cancelar o acesso de um usuário aos dados ou aos objetos do banco de dados, por motivos de segurança, de controle ou de auditoria.\n",
        "\n",
        "```\n",
        "--  A sintaxe básica do comando REVOKE é\n",
        "REVOKE [ GRANT OPTION FOR ] { privilégio [, privilégio, ...] | ALL [ PRIVILEGES ] }\n",
        "ON objeto\n",
        "FROM { usuário [, usuário, ...] | PUBLIC };\n",
        "\n",
        "-- Revoga o privilégio de consultar a tabela produto do usuário joao\n",
        "REVOKE SELECT ON produto FROM joao;\n",
        "\n",
        "-- Revoga o privilégio de inserir e atualizar dados na coluna preco da tabela produto do usuário maria\n",
        "REVOKE INSERT, UPDATE ON produto (preco) FROM maria;\n",
        "\n",
        "-- Revoga todos os privilégios sobre a view vendas do usuário pedro e da opção de concedê-los a outros usuários\n",
        "REVOKE ALL PRIVILEGES, GRANT OPTION FOR ON vendas FROM pedro;\n",
        "\n",
        "-- Revoga todos os privilégios sobre a função fatorial do usuário publico\n",
        "REVOKE ALL ON FUNCTION fatorial FROM PUBLIC;\n",
        "\n",
        "```\n",
        "\n",
        "\n"
      ],
      "metadata": {
        "id": "L3MEKmBghEaW"
      }
    },
    {
      "cell_type": "markdown",
      "source": [
        "### Criando um banco no PostgreSQL no Colab\n",
        "\n",
        "Vamos usar agora o colab, vamos utilizar o SGBD postgresql, pois, é possível utilizá-lo virtualmente dentro do colab, quando o colab se desconecta é dropado todo o ambiente, sendo necessário execução dos comandos novamente, então até por questões óbvias, não use-o para salvar dados importante, se precisar, faça backup dos postgresql antes e feche o colab."
      ],
      "metadata": {
        "id": "4sfnV69Axfux"
      }
    },
    {
      "cell_type": "code",
      "source": [
        "#instalando o postgresql\n",
        "!apt install postgresql postgresql-contrib &>log"
      ],
      "metadata": {
        "id": "di58GNp3N1IN"
      },
      "execution_count": null,
      "outputs": []
    },
    {
      "cell_type": "code",
      "source": [
        "#iniciar o serviço do postgresql\n",
        "!service postgresql start"
      ],
      "metadata": {
        "id": "FcCqL5mDN-ma"
      },
      "execution_count": null,
      "outputs": []
    },
    {
      "cell_type": "code",
      "source": [
        "#instala a extensão do sql para python\n",
        "!pip install ipython-sql"
      ],
      "metadata": {
        "id": "J2iNmEn6Pziz"
      },
      "execution_count": null,
      "outputs": []
    },
    {
      "cell_type": "code",
      "source": [
        "#biblioteca de extensão do ipython-sql\n",
        "!pip install pgspecial"
      ],
      "metadata": {
        "id": "FD3OFyL8mrtj"
      },
      "execution_count": null,
      "outputs": []
    },
    {
      "cell_type": "code",
      "source": [
        "#cria o usuário root com super poderes\n",
        "!sudo -u postgres psql -c \"CREATE USER root WITH SUPERUSER\""
      ],
      "metadata": {
        "id": "Lgcr6K9QPIh4"
      },
      "execution_count": null,
      "outputs": []
    },
    {
      "cell_type": "code",
      "source": [
        "#Comando para restartar o servidor do postgresql\n",
        "#execute se precisar\n",
        "#!service postgresql restart"
      ],
      "metadata": {
        "id": "Z1SWhq42SKal"
      },
      "execution_count": null,
      "outputs": []
    },
    {
      "cell_type": "code",
      "source": [
        "#carregar a extensão do sql do colab\n",
        "%load_ext sql"
      ],
      "metadata": {
        "id": "ptAUgW4fPWF-"
      },
      "execution_count": null,
      "outputs": []
    },
    {
      "cell_type": "code",
      "source": [
        "%config SqlMagic.feedback=False"
      ],
      "metadata": {
        "id": "nUjV_CQRjYLf"
      },
      "execution_count": null,
      "outputs": []
    },
    {
      "cell_type": "code",
      "source": [
        "%config SqlMagic.autopandas=True"
      ],
      "metadata": {
        "id": "nl2T-CgajZu_"
      },
      "execution_count": null,
      "outputs": []
    },
    {
      "cell_type": "code",
      "source": [
        "#como criamos o usuário root, precisa de um database root\n",
        "!sudo -u postgres psql -c \"CREATE DATABASE root\""
      ],
      "metadata": {
        "id": "oEf0QomLkZgf"
      },
      "execution_count": null,
      "outputs": []
    },
    {
      "cell_type": "code",
      "source": [
        "#conectando ao postgresql\n",
        "\n",
        "#%sql postgresql+psycopg2://@/postgres\n",
        "%sql postgresql+psycopg2://root:@/postgres"
      ],
      "metadata": {
        "id": "gUqJ7SHGRItT"
      },
      "execution_count": null,
      "outputs": []
    },
    {
      "cell_type": "code",
      "source": [
        "#comita tudo que está em memoria e persiste\n",
        "!psql -c \"COMMIT\""
      ],
      "metadata": {
        "id": "6fbTMLdEUskN"
      },
      "execution_count": null,
      "outputs": []
    },
    {
      "cell_type": "code",
      "source": [
        "#altera para deixar o commit automático\n",
        "!psql -c \"\\\\set AUTOCOMMIT on\""
      ],
      "metadata": {
        "id": "hhTIfL0ITwui"
      },
      "execution_count": null,
      "outputs": []
    },
    {
      "cell_type": "code",
      "source": [
        "# Cria um banco de dados chamado BANCO\n",
        "!psql -c \"CREATE DATABASE banco\""
      ],
      "metadata": {
        "id": "X8tFiB0_Raym"
      },
      "execution_count": null,
      "outputs": []
    },
    {
      "cell_type": "code",
      "source": [
        "#usuário root acessar o database banco\n",
        "%sql postgresql+psycopg2://root:@/banco"
      ],
      "metadata": {
        "id": "1r6G6jXRnSwV"
      },
      "execution_count": null,
      "outputs": []
    },
    {
      "cell_type": "code",
      "source": [
        "%sql CREATE TABLE AGENCIA (id SERIAL PRIMARY KEY, nome VARCHAR(50) NOT NULL);"
      ],
      "metadata": {
        "id": "k_tE9rp0mHAb"
      },
      "execution_count": null,
      "outputs": []
    },
    {
      "cell_type": "code",
      "source": [
        "%sql CREATE TABLE CLIENTE (id SERIAL PRIMARY KEY, nome VARCHAR(50) NOT NULL, numero_conta VARCHAR(20) UNIQUE NOT NULL, agencia_id INTEGER, FOREIGN KEY (agencia_id) REFERENCES AGENCIA(id));"
      ],
      "metadata": {
        "id": "ZMKvcWSiny7o"
      },
      "execution_count": null,
      "outputs": []
    },
    {
      "cell_type": "code",
      "source": [
        "%sql CREATE TABLE EXTRATO_DO_CLIENTE (id SERIAL PRIMARY KEY, cliente_id INTEGER, agencia_id INTEGER, transacao VARCHAR(50) NOT NULL, valor DECIMAL(10, 2) NOT NULL, data_transacao TIMESTAMP NOT NULL DEFAULT CURRENT_TIMESTAMP, FOREIGN KEY (cliente_id) REFERENCES CLIENTE(id), FOREIGN KEY (agencia_id) REFERENCES AGENCIA(id));"
      ],
      "metadata": {
        "id": "0ftjsFANn6RX"
      },
      "execution_count": null,
      "outputs": []
    },
    {
      "cell_type": "markdown",
      "source": [
        "Não ficou legal, pois, a conta pertence ao cliente, porém, o tipo da conta, não pertence ao cliente, precisamos melhorar um pouco mais, vamos alterar as tabelas, para ficar um pouco mais aderente as formas normais que falaremos nesse capitulo"
      ],
      "metadata": {
        "id": "j-9D_-uCpfXN"
      }
    },
    {
      "cell_type": "code",
      "source": [
        "%sql ALTER TABLE CLIENTE DROP COLUMN numero_conta;"
      ],
      "metadata": {
        "id": "47eW9cwUqHME"
      },
      "execution_count": null,
      "outputs": []
    },
    {
      "cell_type": "code",
      "source": [
        "%sql CREATE TABLE TIPO_CONTA (id SERIAL PRIMARY KEY,tipo VARCHAR(50) NOT NULL);"
      ],
      "metadata": {
        "id": "mvat3_ZbqQtO"
      },
      "execution_count": null,
      "outputs": []
    },
    {
      "cell_type": "code",
      "source": [
        "#Quando usa %%sql no começo da linha vc pode deixar mais visível o código e não precisa executar em uma linha\n",
        "%%sql\n",
        "CREATE TABLE CONTA (\n",
        "    id SERIAL PRIMARY KEY,\n",
        "    cliente_id INTEGER,\n",
        "    agencia_id INTEGER,\n",
        "    tipo_conta_id INTEGER,\n",
        "    FOREIGN KEY (cliente_id) REFERENCES CLIENTE(id),\n",
        "    FOREIGN KEY (agencia_id) REFERENCES AGENCIA(id),\n",
        "    FOREIGN KEY (tipo_conta_id) REFERENCES TIPO_CONTA(id)\n",
        ");"
      ],
      "metadata": {
        "id": "-WHqsBuaqagO"
      },
      "execution_count": null,
      "outputs": []
    },
    {
      "cell_type": "code",
      "source": [
        "%sql ALTER TABLE EXTRATO_DO_CLIENTE ADD COLUMN conta_id INTEGER;"
      ],
      "metadata": {
        "id": "V5xnJuKoqrew"
      },
      "execution_count": null,
      "outputs": []
    },
    {
      "cell_type": "code",
      "source": [
        "%sql ALTER TABLE EXTRATO_DO_CLIENTE ADD FOREIGN KEY (conta_id) REFERENCES CONTA(id);"
      ],
      "metadata": {
        "id": "BLfsw65-rDGD"
      },
      "execution_count": null,
      "outputs": []
    },
    {
      "cell_type": "markdown",
      "source": [
        "Vamos dropar tudo, precisa estar em ordem por causa da integridade das chaves... antes de executar o código, se quiser alterar a ordem para ver o que acontece..."
      ],
      "metadata": {
        "id": "D0UBKGIxrS-T"
      }
    },
    {
      "cell_type": "code",
      "source": [
        "%%sql\n",
        "DROP TABLE IF EXISTS EXTRATO_DO_CLIENTE;\n",
        "DROP TABLE IF EXISTS CONTA;\n",
        "DROP TABLE IF EXISTS CLIENTE;\n",
        "DROP TABLE IF EXISTS TIPO_CONTA;\n",
        "DROP TABLE IF EXISTS AGENCIA;"
      ],
      "metadata": {
        "id": "1vBopAnmrR-u"
      },
      "execution_count": null,
      "outputs": []
    },
    {
      "cell_type": "code",
      "source": [
        "#Lembra que precisa ser um usuário master para excluir um database? Outra coisa, pode dar erro por causa da quantidade de\n",
        "#usuarios que criamos, pode acontecer erro de algum usuário estar no database e não permitir excluir.\n",
        "!sudo -u root psql -c 'DROP DATABASE IF EXISTS banco;'"
      ],
      "metadata": {
        "id": "8CpM7-Enr2xZ"
      },
      "execution_count": null,
      "outputs": []
    },
    {
      "cell_type": "markdown",
      "source": [
        "## Banco de dados NoSql"
      ],
      "metadata": {
        "id": "snowvVTEG6mR"
      }
    },
    {
      "cell_type": "markdown",
      "source": [
        "# Capitulo 06 - Modelagem"
      ],
      "metadata": {
        "id": "HwwhwUPEGkve"
      }
    },
    {
      "cell_type": "markdown",
      "source": [
        "## Tipos de Modelagens\n",
        "\n",
        "Os tipos conceituais de modelagem para dados são formas de representar os dados de forma abstrata e independente de qualquer tecnologia, focando nos conceitos de negócio e nas regras de domínio. Os tipos conceituais de modelagem para dados servem para estabelecer o escopo e os objetivos do sistema, bem como facilitar a comunicação entre as partes interessadas.\n",
        "\n",
        "* **Modelo Entidade-Relacionamento (ER)**: é um tipo de modelagem que usa símbolos e notações para representar as entidades, seus atributos e seus relacionamentos. Uma entidade é um objeto ou conceito do mundo real sobre o qual queremos guardar informações. Um atributo é uma característica ou propriedade da entidade. Um relacionamento é uma associação entre duas ou mais entidades, que pode ter uma cardinalidade, que é o número de ocorrências que uma entidade pode ter em relação a outra.\n",
        "\n",
        "* **Modelo Dimensional**: é um tipo de modelagem que usa símbolos e notações para representar as dimensões, os fatos e as medidas. Uma dimensão é uma tabela que contém os atributos que descrevem os aspectos do negócio, como tempo, localização, produto, cliente (**São os cadastros**). Um fato é uma tabela que contém os atributos que representam os eventos ou as transações do negócio, como vendas, pedidos, estoques (**Evento Ocorrido**). Uma medida é um atributo numérico que expressa uma quantidade, um valor ou um desempenho de um fato."
      ],
      "metadata": {
        "id": "X73u3jtNGr7D"
      }
    },
    {
      "cell_type": "markdown",
      "source": [
        "## Modelagem Relacional\n",
        "\n",
        "A modelagem de dados é um processo que visa representar a estrutura e o significado dos dados que serão armazenados em um banco de dados relacional, antes de implementá-lo fisicamente. A modelagem de dados ajuda a organizar, otimizar e documentar os dados, facilitando o seu uso e manutenção.\n",
        "\n",
        "Existem basicamente três tipos de modelagem de dados, que são:\n",
        "\n",
        "* **Modelagem de dados conceitual**: é o tipo de modelagem que oferece uma visão geral do que o sistema conterá, como ele será organizado e quais regras de negócio estão envolvidas. Esse tipo de modelagem usa símbolos e notações para representar as entidades, seus atributos e seus relacionamentos de forma abstrata e independente de qualquer tecnologia. O modelo de dados conceitual serve para estabelecer o escopo e os objetivos do sistema, bem como facilitar a comunicação entre as partes interessadas. Um exemplo de modelo de dados conceitual é o Modelo Entidade-Relacionamento (MER), que é uma representação gráfica das entidades, seus atributos e seus relacionamentos.\n",
        "\n",
        "* **Modelagem de dados lógica**: é o tipo de modelagem que define como os dados serão armazenados, manipulados e acessados pelo sistema, de acordo com as regras de um modelo de dados específico. Esse tipo de modelagem usa símbolos e notações para representar as tabelas, as colunas, as chaves e as restrições de forma detalhada e consistente com o modelo de dados conceitual. O modelo de dados lógico serve para validar e refinar o modelo de dados conceitual, bem como facilitar a implementação do sistema. Um exemplo de modelo de dados lógico é o Diagrama Entidade-Relacionamento (DER), que é uma representação mais próxima da implementação física do banco de dados.\n",
        "\n",
        "* **Modelagem de dados física**: é o tipo de modelagem que especifica como os dados serão armazenados fisicamente no banco de dados, de acordo com as características e os requisitos de uma plataforma ou tecnologia específica. Esse tipo de modelagem usa comandos e instruções para criar e configurar as estruturas de dados, como tabelas, índices, visões, triggers, etc. O modelo de dados físico serve para otimizar o desempenho e a segurança do sistema, bem como facilitar a sua manutenção. Um exemplo de modelo de dados físico é o script SQL, que é uma linguagem de programação usada para interagir com o banco de dados. Exemplo:\n",
        "\n",
        "```\n",
        "CREATE TABLE cliente (\n",
        "  id INT PRIMARY KEY,\n",
        "  nome VARCHAR(50) NOT NULL,\n",
        "  email VARCHAR(50) UNIQUE,\n",
        "  telefone VARCHAR(15)\n",
        ");\n",
        "\n",
        "CREATE TABLE produto (\n",
        "  id INT PRIMARY KEY,\n",
        "  descricao VARCHAR(100) NOT NULL,\n",
        "  preco DECIMAL(10,2) NOT NULL,\n",
        "  estoque INT NOT NULL\n",
        ");\n",
        "\n",
        "CREATE TABLE compra (\n",
        "  id INT PRIMARY KEY,\n",
        "  id_cliente INT NOT NULL,\n",
        "  id_produto INT NOT NULL,\n",
        "  quantidade INT NOT NULL,\n",
        "  data DATE NOT NULL,\n",
        "  total DECIMAL(10,2) NOT NULL,\n",
        "  FOREIGN KEY (id_cliente) REFERENCES cliente(id) ON DELETE CASCADE,\n",
        "  FOREIGN KEY (id_produto) REFERENCES produto(id) ON DELETE CASCADE\n",
        ");\n",
        "```\n",
        "\n",
        "O conceito de banco de dados relacional foi proposto por Edgar F. Codd em 1969, baseado na teoria de conjuntos e na álgebra relacional. Um banco de dados relacional é formado por uma coleção de tabelas, que são estruturas bidimensionais compostas por linhas e colunas. Cada tabela representa uma entidade, que é um objeto ou conceito do mundo real sobre o qual queremos guardar informações. Cada linha representa uma instância ou ocorrência da entidade, e cada coluna representa um atributo, que é uma característica ou propriedade da entidade.\n",
        "\n",
        "Um exemplo de tabela é:\n",
        "\n",
        "```\n",
        "id\tnome\tidade\tsexo\n",
        "1\t  Ana  \t25\t   F\n",
        "2\t  Beto\t 32\t   M\n",
        "3\t  Caio\t 28\t   M\n",
        "```\n",
        "\n",
        "Nessa tabela, a entidade é pessoa, e os atributos são id, nome, idade e sexo. Cada linha corresponde a uma pessoa diferente.\n",
        "\n",
        "Para modelar um banco de dados relacional, existem algumas etapas e ferramentas que podem ser usadas. Uma delas é o Modelo Entidade-Relacionamento (MER), que é uma representação gráfica das entidades, seus atributos e seus relacionamentos. O MER usa símbolos e notações para indicar os tipos e as cardinalidades dos relacionamentos, que são as regras que definem quantas instâncias de uma entidade podem se relacionar com quantas instâncias de outra entidade.\n",
        "\n",
        "Os relacionamentos são indicados pelas linhas que ligam as entidades, e as cardinalidades são indicadas pelos números e símbolos nas extremidades das linhas. Por exemplo, o relacionamento entre cliente e compra tem a cardinalidade 1:N, o que significa que um cliente pode realizar várias compras, mas uma compra só pode ser realizada por um cliente.\n",
        "\n",
        "Outra ferramenta é o Diagrama Entidade-Relacionamento (DER), que é uma representação mais detalhada e próxima da implementação física do banco de dados. O DER usa símbolos e notações para indicar as chaves primárias e estrangeiras, que são os atributos que identificam e relacionam as entidades. O DER também pode mostrar as restrições de integridade, que são as regras que garantem a consistência e a validade dos dados\n",
        "\n",
        "Existem vários tipos de atributos que podem ser usados na modelagem de dados, dependendo da natureza e da complexidade dos dados. Alguns exemplos são:\n",
        "\n",
        "Atributo monovalorado: é um atributo que só pode ter um valor para cada instância da entidade. Por exemplo, o atributo nome na entidade cliente é monovalorado, pois cada cliente só pode ter um nome.\n",
        "\n",
        "Atributo composto: é um atributo que pode ser dividido em outros atributos menores e mais simples. Por exemplo, o atributo endereço na entidade cliente é composto, pois pode ser dividido em rua, número, bairro, cidade, estado e cep.\n",
        "Atributo multivalorado: é um atributo que pode ter vários valores para cada instância da entidade. Por exemplo, o atributo telefone na entidade cliente é multivalorado, pois um cliente pode ter vários telefones.\n",
        "\n",
        "Atributo derivado: é um atributo que pode ser obtido a partir de outros atributos ou de cálculos. Por exemplo, o atributo total na entidade compra é derivado, pois pode ser obtido pela soma dos valores dos produtos comprados.\n",
        "\n",
        "Atributo determinante: é um atributo que determina o valor de outro atributo. Por exemplo, o atributo id na entidade cliente é determinante, pois determina o valor do atributo nome, já que não pode haver dois clientes com o mesmo id.\n",
        "\n",
        "Os atributos também podem estar presentes nos relacionamentos entre as entidades, quando eles representam alguma informação sobre o próprio relacionamento. Por exemplo, o atributo data na entidade compra é um atributo de relacionamento, pois representa a data em que a compra foi realizada.\n"
      ],
      "metadata": {
        "id": "IottKInm6JzY"
      }
    },
    {
      "cell_type": "markdown",
      "source": [
        "### Cardinalidade\n",
        "\n",
        "A cardinalidade é um conceito que descreve o relacionamento numérico entre as instâncias de duas entidades que são associadas entre si em um banco de dados relacional. Em outras palavras, a cardinalidade define quantas instâncias de uma entidade se relacionam com quantas instâncias de outra entidade.\n",
        "\n",
        "Existem quatro tipos principais de cardinalidade que podem existir entre duas entidades em um modelo de dados: Um-para-Um (1:1), Um-para-Muitos (1:N), Muitos-para-Muitos (N:N) e Zero-ou-Um-para-Muitos (0…1:N). Cada tipo de cardinalidade tem exemplos e casos de uso específicos, além de implicações na modelagem de um banco de dados. Determinar o tipo correto de cardinalidade com base nas regras de negócio é crucial para a representação precisa de um modelo de dados.\n",
        "\n",
        "* **Um-para-Um (1:1)**: Um relacionamento um-para-um significa que cada instância de uma entidade se relaciona com no máximo uma única instância de outra entidade, e vice-versa. Por exemplo, em um sistema de RH, cada pessoa tem exatamente um CPF único associado a ela, e cada CPF pertence exclusivamente a uma pessoa. Esse tipo de relacionamento é representado por um traço com um símbolo de um na ponta de cada entidade.\n",
        "\n",
        "* **Um-para-Muitos (1:N)**: Um relacionamento um-para-muitos significa que cada instância de uma entidade se relaciona com uma ou mais instâncias de outra entidade, mas cada instância da outra entidade se relaciona com no máximo uma instância da primeira entidade. Por exemplo, em um sistema escolar, cada professor pode lecionar uma ou mais disciplinas, mas cada disciplina é lecionada por no máximo um professor. Esse tipo de relacionamento é representado por um traço com um símbolo de um na ponta da entidade que se relaciona com uma instância, e um símbolo de N na ponta da entidade que se relaciona com várias instâncias.\n",
        "\n",
        "* **Muitos-para-Muitos (N:N)**: Um relacionamento muitos-para-muitos significa que cada instância de uma entidade se relaciona com uma ou mais instâncias de outra entidade, e cada instância da outra entidade se relaciona com uma ou mais instâncias da primeira entidade. Por exemplo, em um sistema de biblioteca, cada livro pode ser emprestado por um ou mais leitores, e cada leitor pode emprestar um ou mais livros. Esse tipo de relacionamento é representado por um traço com um símbolo de N na ponta de cada entidade.\n",
        "\n",
        "* **Zero-ou-Um-para-Muitos (0…1:N)**: Um relacionamento zero-ou-um-para-muitos significa que cada instância de uma entidade se relaciona com zero ou uma instância de outra entidade, e cada instância da outra entidade se relaciona com zero ou mais instâncias da primeira entidade. Por exemplo, em um sistema de vendas, cada nota fiscal pode ter zero ou um cliente associado a ela, e cada cliente pode ter zero ou mais notas fiscais emitidas para ele. Esse tipo de relacionamento é representado por um traço com um símbolo de parêntesis na ponta da entidade que se relaciona com zero ou uma instância, e um símbolo de N na ponta da entidade que se relaciona com zero ou mais instâncias."
      ],
      "metadata": {
        "id": "wTb_WAP0Aqpw"
      }
    },
    {
      "cell_type": "markdown",
      "source": [
        "### Relacionamento\n",
        "\n",
        "Relacionamento é a forma como duas ou mais entidades se associam entre si, de acordo com uma regra de negócio ou uma necessidade de informação. Os relacionamentos podem ser classificados em diferentes tipos, de acordo com a cardinalidade, que é o número de ocorrências que uma entidade pode ter em relação a outra. Os tipos mais comuns são: um-para-um, um-para-muitos, muitos-para-muitos e zero-ou-um-para-muitos. Os relacionamentos são implementados por meio de chaves estrangeiras, que são atributos que referenciam as chaves primárias de outras entidades. Os relacionamentos também podem ter atributos próprios, que representam alguma informação sobre a associação entre as entidades.\n",
        "\n",
        "* **Auto relacionamento**: é um tipo especial de relacionamento em que uma entidade se relaciona consigo mesma, ou seja, uma instância da entidade se associa a outra instância da mesma entidade. Esse tipo de relacionamento é usado para representar situações de hierarquia, recursividade ou dependência entre as instâncias da entidade. Por exemplo, em uma entidade funcionário, pode haver um auto relacionamento que indica quem é o chefe de cada funcionário. Nesse caso, o atributo chefe_id seria uma chave estrangeira que referencia o atributo id da mesma entidade funcionário.\n",
        "\n",
        "* **Relacionamento ternário**: é um tipo especial de relacionamento em que três entidades se relacionam entre si, formando uma associação de ordem três. Esse tipo de relacionamento é usado para representar situações em que a associação entre as entidades não pode ser decomposta em relacionamentos binários, ou seja, de ordem dois. Por exemplo, em um sistema de reservas de hotel, pode haver um relacionamento ternário entre as entidades cliente, quarto e reserva, que indica que um cliente reserva um quarto em uma determinada data. Nesse caso, o relacionamento reserva teria os atributos data_entrada, data_saida e valor, além das chaves estrangeiras que referenciam as entidades cliente e quarto.\n",
        "\n",
        "* **Herança**: é um conceito que permite que uma entidade herde os atributos e os relacionamentos de outra entidade, chamada de entidade pai ou superclasse. A entidade que herda é chamada de entidade filha ou subclasse. Esse conceito é usado para representar situações de generalização ou especialização entre as entidades, ou seja, quando uma entidade é um caso particular ou uma extensão de outra entidade. Por exemplo, em um sistema de veículos, pode haver uma entidade veículo, que é uma generalização de outras entidades, como carro, moto e caminhão. Nesse caso, a entidade veículo teria os atributos comuns a todos os veículos, como placa, cor e modelo, e as entidades carro, moto e caminhão teriam os atributos específicos de cada tipo de veículo, como número de portas, cilindradas e capacidade de carga.\n",
        "\n",
        "* **Entidade fraca**: é um tipo especial de entidade que não tem uma chave primária própria, ou seja, que não pode ser identificada de forma única e independente. Uma entidade fraca depende de outra entidade, chamada de entidade forte, para existir e ser identificada. Uma entidade fraca se relaciona com uma entidade forte por meio de um relacionamento de identificação, que é um relacionamento um-para-muitos em que a chave estrangeira da entidade fraca é parte da sua chave primária. Por exemplo, em um sistema de estoque, pode haver uma entidade fraca item, que representa os itens de um pedido. A entidade item não tem uma chave primária própria, pois depende da entidade pedido, que é uma entidade forte, para existir e ser identificada. A entidade item se relaciona com a entidade pedido por meio de um relacionamento de identificação, em que a chave estrangeira pedido_id é parte da sua chave primária, que é composta por pedido_id e item_id.\n",
        "\n",
        "* **Entidade regular**: é um tipo de entidade que tem uma chave primária própria, ou seja, que pode ser identificada de forma única e independente. Uma entidade regular existe por si só, sem depender de outra entidade. Por exemplo, em um sistema de livraria, as entidades cliente, livro e editora são entidades regulares, pois cada uma delas tem um atributo que as identifica unicamente, como id, isbn ou cnpj.\n",
        "\n",
        "* **Atributo multivalorado**: é um tipo de atributo que pode ter mais de um valor para cada instância da entidade. Um atributo multivalorado representa uma situação em que uma entidade pode ter várias ocorrências de uma mesma característica. Por exemplo, em um sistema de livraria, o atributo telefone na entidade cliente é um atributo multivalorado, pois um cliente pode ter mais de um telefone. Um atributo multivalorado é representado por um oval duplo com o nome do atributo no DER."
      ],
      "metadata": {
        "id": "-ezFp29MC3EC"
      }
    },
    {
      "cell_type": "markdown",
      "source": [
        "### Normalização\n",
        "\n",
        "A normalização é um processo que visa organizar os dados de um banco de dados relacional de forma lógica e eficiente, evitando redundâncias e inconsistências. A normalização se baseia na aplicação de regras chamadas de formas normais, que impõem restrições à estrutura das tabelas que compõem o banco de dados. O objetivo da normalização é garantir a integridade dos dados e facilitar as operações de inserção, atualização e exclusão.\n",
        "\n",
        "Algumas das vantagens da normalização são:\n",
        "\n",
        "* Melhor desempenho de consulta, pois as tabelas são mais simples e diretas.\n",
        "\n",
        "* Otimização do espaço de armazenamento, pois os dados duplicados são eliminados.\n",
        "\n",
        "* Maior facilidade de manutenção e atualização, pois os dados são mais consistentes e padronizados.\n",
        "\n",
        "* Mais fácil de entender e gerenciar, pois as tabelas têm uma estrutura clara e coerente.\n",
        "\n",
        "Alguns dos conceitos importantes relacionados à normalização são:\n",
        "\n",
        "* Problema de tabelas mal formadas: é o problema que ocorre quando uma tabela não está em conformidade com as regras de normalização, resultando em dados redundantes, ambíguos ou incompletos. Um exemplo de tabela mal formada é:\n",
        "\n",
        "```\n",
        "id\tnome\ttelefone\tendereço\n",
        "1\t Ana\t 9999-9999\tRua A, 10\n",
        "2\t Beto\t8888-8888\tRua B, 20\n",
        "3\t Caio\t7777-7777\tRua C, 30\n",
        "4\t Ana\t 9999-9999\tRua D, 40\n",
        "```\n",
        "Nessa tabela, há vários problemas, como:\n",
        "\n",
        " * O atributo nome não identifica unicamente cada cliente, pois há dois clientes com o mesmo nome.\n",
        "\n",
        " * O atributo telefone é multivalorado, pois um cliente pode ter mais de um telefone.\n",
        "\n",
        " * O atributo endereço é composto, pois pode ser dividido em outros atributos menores, como rua, número, bairro, etc.\n",
        "\n",
        " * Há dados redundantes, pois o telefone da Ana se repete duas vezes.\n",
        "\n",
        "Esses problemas podem causar anomalias de inserção, atualização e exclusão, que são situações em que os dados podem ser perdidos, alterados ou inseridos de forma incorreta.\n",
        "\n",
        "* **Dependência funcional**: é uma relação que existe entre dois atributos de uma tabela, em que o valor de um atributo determina o valor de outro atributo. Por exemplo, na tabela acima, o atributo id determina o valor do atributo nome, pois não pode haver dois clientes com o mesmo id. Isso significa que o atributo nome depende funcionalmente do atributo id, ou seja, nome é funcionalmente dependente de id. Uma dependência funcional é representada por uma seta, como: id -> nome.\n",
        "\n",
        "* **Três formas normais**: são as regras básicas de normalização que devem ser seguidas para se obter um banco de dados bem estruturado. Elas são:\n",
        "\n",
        " * **Primeira forma normal (1NF)**: uma tabela está em 1NF se não contiver grupos repetidos ou colunas duplicadas para um único valor de chave. Cada valor de coluna deve ser atômico, ou seja, não pode ser decomposto em valores menores. Por exemplo, para se obter a 1NF na tabela acima, seria necessário:\n",
        "  \n",
        "  > *  Criar uma tabela separada para o atributo telefone, que é multivalorado, e relacioná-la com a tabela cliente por meio de uma chave estrangeira.\n",
        "\n",
        "  > * Dividir o atributo endereço em outros atributos menores, como rua, número, bairro, etc.\n",
        "\n",
        "  > * Remover a linha duplicada da Ana, que tem o mesmo id e telefone.\n",
        "\n",
        " * **Segunda forma normal (2NF)**: uma tabela está em 2NF se estiver em 1NF e todos os seus atributos não-chave dependerem funcionalmente da chave primária inteira. Por exemplo, para se obter a 2NF na tabela acima, seria necessário:\n",
        "\n",
        " > * Criar uma chave primária composta por id e telefone na tabela telefone, pois um cliente pode ter mais de um telefone.\n",
        "\n",
        " > * Remover os atributos de endereço da tabela cliente, pois eles não dependem do telefone, que faz parte da chave primária, e criar uma tabela separada para o endereço, relacionada com a tabela cliente por meio de uma chave estrangeira.\n",
        "\n",
        " * **Terceira forma normal (3NF)**: uma tabela está em 3NF se estiver em 2NF e todos os seus atributos não-chave dependerem funcionalmente apenas da chave primária, e não de outros atributos não-chave. Por exemplo, para se obter a 3NF na tabela acima, seria necessário:\n",
        "\n",
        "  > * Remover o atributo bairro da tabela endereço, pois ele depende do atributo rua, que é um atributo não-chave, e criar uma tabela separada para o bairro, relacionada com a tabela endereço por meio de uma chave estrangeira.\n",
        "\n"
      ],
      "metadata": {
        "id": "DUw_owNNE6GN"
      }
    },
    {
      "cell_type": "markdown",
      "source": [
        "## Modelagem Dimensional"
      ],
      "metadata": {
        "id": "502cT2EPGwY9"
      }
    },
    {
      "cell_type": "markdown",
      "source": [
        "### Desnormalização"
      ],
      "metadata": {
        "id": "v4oNjBit4N80"
      }
    },
    {
      "cell_type": "markdown",
      "source": [
        "## Modelagem OBT - Wide Table"
      ],
      "metadata": {
        "id": "KyddcF-J5WSe"
      }
    },
    {
      "cell_type": "markdown",
      "source": [
        "# Capitulo 07 - Arquitetura de dados"
      ],
      "metadata": {
        "id": "NksWzdKo3p-r"
      }
    },
    {
      "cell_type": "markdown",
      "source": [
        "## Data Warehouse"
      ],
      "metadata": {
        "id": "ls8cOvkc3yL6"
      }
    },
    {
      "cell_type": "markdown",
      "source": [
        "## Data Mart"
      ],
      "metadata": {
        "id": "Uiehjc234d9i"
      }
    },
    {
      "cell_type": "markdown",
      "source": [
        "## Data Lake"
      ],
      "metadata": {
        "id": "NlrcwIIN32Ck"
      }
    },
    {
      "cell_type": "markdown",
      "source": [
        "## Data Lake House"
      ],
      "metadata": {
        "id": "pGQ2C_2X356a"
      }
    },
    {
      "cell_type": "markdown",
      "source": [
        "## Data Fabric"
      ],
      "metadata": {
        "id": "T4Bvfx5y4k1S"
      }
    },
    {
      "cell_type": "markdown",
      "source": [
        "## Data Mesh"
      ],
      "metadata": {
        "id": "aSnHav6X4oKT"
      }
    },
    {
      "cell_type": "markdown",
      "source": [
        "# Capitulo 08 - Analise Combinatória"
      ],
      "metadata": {
        "id": "QHiPtZoIIUWY"
      }
    },
    {
      "cell_type": "markdown",
      "source": [
        "## Números Binominais\n",
        "\n",
        "Os números binomiais são formas algébricas de representar um valor. São representados por n e p, que são números naturais.\n",
        "\n",
        "* **n**: Este é o número total de elementos disponíveis para seleção. Por exemplo, se você tem um baralho de cartas com 52 cartas (n=52) e quer saber quantas combinações diferentes de 5 cartas você pode fazer.\n",
        "\n",
        "* **p**: Este é o número de elementos que você deseja selecionar do total. No exemplo do baralho de cartas, se você quiser selecionar 5 cartas, então p=5.\n",
        "\n",
        "A fórmula do número binomial é usada para calcular o número de maneiras possíveis de escolher p elementos de um conjunto de n elementos, sem levar em consideração a ordem em que os elementos são escolhidos.\n"
      ],
      "metadata": {
        "id": "skpX9DK29_k8"
      }
    },
    {
      "cell_type": "markdown",
      "source": [
        "## Permutação\n",
        "\n",
        "Dentro da Análise Combinatória, temos a Permutação, que é uma técnica utilizada para determinar quantas maneiras existem para ordenar os elementos de um conjunto finito.\n",
        "\n",
        "Existem dois tipos principais de permutação: Permutação Simples e Permutação com Repetição.\n",
        "\n",
        "* **Permutação Simples**: É a ordenação dos elementos de um conjunto finito, quando seus elementos não se repetem, são distintos. A fórmula para determinar a quantidade de permutações simples é n! (lê-se n fatorial),\n",
        "\n",
        " > Por exemplo, vamos considerar a palavra “PATO”. Queremos saber quantas maneiras diferentes podemos organizar as letras dessa palavra. Como a palavra PATO possui 4 letras, temos que 4! = 4 * 3 * 2 * 1 = 24. Portanto, há 24 permutações simples para a palavra PATO.\n",
        "\n",
        "* **Permutação com Repetição**: Acontece quando em um conjunto de n elementos, alguns destes são iguais. A fórmula para determinar o número de permutações com repetição é n! / (n1! * n2! * ... * nk!).\n",
        "\n",
        " > Por exemplo, vamos considerar a palavra “OVO”. Queremos saber quantas maneiras diferentes podemos organizar as letras dessa palavra.Algumas permutações se repetem e não podemos contá-las duas vezes. Para isso devemos dividir o valor de 3! (pois a palavra possui três letras), por 2! (pois a letra O se repete duas vezes). Dessa forma, o número de permutações para as letras da palavra OVO é igual a 3! / 2!, decompondo o fatorial ficaria 3 * 2 * 1 / 2 * 1, corta o 2 com 2 e o 1 com 1, o resultado ficaria 3. As formas possiveis de se utilizar as lestras da palavra ovo são, ovo, voo, oov."
      ],
      "metadata": {
        "id": "7_vloAPkACS1"
      }
    },
    {
      "cell_type": "markdown",
      "source": [
        "## Arranjo\n",
        "\n",
        "Arranjo é um conceito da Análise Combinatória que se refere à quantidade de maneiras que podemos organizar um subconjunto de elementos de um conjunto maior. A diferença entre arranjo e permutação é que, na permutação, consideramos todos os elementos do conjunto, enquanto no arranjo, consideramos apenas um subconjunto dos elementos.\n",
        "\n",
        "Existem dois tipos principais de arranjo: Arranjo Simples e Arranjo com Repetição.\n",
        "\n",
        "* **Arranjo Simples**: É quando a ordem dos elementos importa e cada elemento é único dentro de cada arranjo específico. A fórmula para calcular o número de arranjos simples de n elementos tomados p a p é dada por A(n, p) = n! / (n-p)!.\n",
        " > Por exemplo, se tivermos 4 pessoas (Ana, Bia, Carlos e Diogo) e quisermos formar duplas para um jogo, temos A(4, 2) = 4! / (4-2)! = 4*3*2*1 / 2*1 = 12 maneiras diferentes de formar essas duplas.\n",
        "\n",
        "\n",
        "* **Arranjo com Repetição**: É quando a ordem dos elementos importa e é permitida a repetição dos elementos. A fórmula para calcular o número de arranjos com repetição de n elementos tomados p a p é dada por AR(n, p) = n^p.\n",
        "\n",
        " > Por exemplo, se quisermos criar uma senha numérica de 4 dígitos do conjunto de 0 a 9, temos AR(10, 4) = 10^4 = 10000 senhas possíveis, pois cada posição da senha pode conter qualquer um dos 10 dígitos (0 a 9), e um mesmo dígito pode aparecer em mais de uma posição."
      ],
      "metadata": {
        "id": "9CY4IM8LD7yy"
      }
    },
    {
      "cell_type": "markdown",
      "source": [
        "## Combinação\n",
        "\n",
        "A Combinação é um conceito da Análise Combinatória que se refere à quantidade de maneiras que podemos selecionar um subconjunto de elementos de um conjunto maior. A diferença entre combinação, arranjo e permutação é que, na permutação, consideramos todos os elementos do conjunto e a ordem importa, no arranjo, consideramos apenas um subconjunto dos elementos e a ordem importa, e na combinação, consideramos um subconjunto dos elementos e a ordem não importa.\n",
        "\n",
        "Existem dois tipos principais de combinação: Combinação Simples e Combinação com Repetição12.\n",
        "\n",
        "* **Combinação Simples**: É quando a ordem dos elementos não importa e cada elemento é único dentro de cada combinação específica. A fórmula para calcular o número de combinações simples de n elementos tomados p a p é dada por C(n, p) = n! / [p!(n-p)!].\n",
        "\n",
        " > Por exemplo, na Mega Sena, temos 60 números disponíveis e queremos escolher 6. Então, temos C(60, 6) = 60! / [6!(60-6)!]. Ao calcular isso, obtemos o número total de combinações possíveis de 6 números que podem ser sorteados entre os 60 disponíveis. O legal qe da para fazer isso mais fácil, se pensar na eliminação da divisão basta fazer a decomposição do fatorial 60 * 59 * 58 * 57 * 56 * 55 * 54! / 720 * 54!, corta o 54! pelo 54!, agora basta multiplicar e dividir por 720, o valor da 50.063.860, dando um gostinho de probabilidade, a chance de 1 jogo de 6 números ter ganhador é de 1 em 50.063.860.\n",
        "\n",
        "* **Combinação com Repetição**: É quando a ordem dos elementos não importa e é permitida a repetição dos elementos. A fórmula para calcular o número de combinações com repetição de n elementos tomados p a p é dada por CR(n, p) = (n+p-1)! / [p!(n-1)!].\n",
        "\n",
        " > Por exemplo, imagine que você está em uma sorveteria com 5 sabores diferentes de sorvete e você pode escolher 3 bolas para o seu sundae. No entanto, você pode escolher o mesmo sabor mais de uma vez. Então, temos CR(5, 3) = (5+3-1)! / [3!(5-1)!]. Ao calcular isso, obtemos o número total de combinações possíveis de 3 bolas de sorvete que podem ser escolhidas entre os 5 sabores disponíveis, considerando que um sabor pode ser escolhido mais de uma vez.\n",
        " >\n",
        " > Vamos decompor isso:\n",
        " >\n",
        " > Primeiro, calculamos o numerador (5+3-1)! = 7! = 7 * 6 * 5 * 4 * 3 * 2 * 1 = 5040.\n",
        " >\n",
        " > Em seguida, calculamos o denominador 3!(5-1)! = 3! * 4! = (3 * 2 * 1) * (4 * 3 * 2 * 1) = 6 * 24 = 144.\n",
        " >\n",
        " > Finalmente, dividimos o numerador pelo denominador 5040 / 144 = 35.\n",
        " >\n",
        " > Portanto, existem 35 combinações possíveis de 3 bolas de sorvete que podem ser escolhidas entre os 5 sabores disponíveis, considerando que um sabor pode ser escolhido mais de uma vez.\n",
        " >\n",
        " > Dando um gostinho de probabilidade novamente, podemos usar esse caso do sorvete, onde se queira saber qual a probabilidade de se escolher 3 bolas do mesmo sabor, se pensarmos que temos 5 sabores e é possível ter 3 bolas do mesmo sabor, nós temos 5 resultados favoráveis, sendo que a probabilidade é justamente isso, o resultado favorável / resultado possíveis, sabendo que já calculamos os resultados possíveis que da 35 e sabendo que já sabemos o resultado favorável, basta fazermos 5 / 35, ou seja, 1/7, logo, a probabilidade de se escolher 3 bolas de sorvete do mesmo sabor é de 1/7 (0,14285714)"
      ],
      "metadata": {
        "id": "D_A3NC0uGrfM"
      }
    },
    {
      "cell_type": "markdown",
      "source": [
        "# Capitulo 09 - Probabilidade e Estatisica"
      ],
      "metadata": {
        "id": "TY3o08S7I4mJ"
      }
    },
    {
      "cell_type": "markdown",
      "source": [
        "## Probabilidade\n",
        "\n",
        "A Probabilidade é um ramo da matemática que estuda a incerteza e também a chance de ocorrência de eventos. Ela é amplamente aplicada em diversos campos, como estatística, ciências, jogos de azar e tomada de decisões.\n",
        "\n",
        "A probabilidade de um evento é indicada por um número entre 0 e 1, sendo 0 um evento impossível e 1 um evento certo. O cálculo da probabilidade de um evento é realizado pela razão entre o número de casos favoráveis ao evento e o número de casos possíveis.\n",
        "\n",
        "Por exemplo, se lançarmos um dado perfeito, todas as 6 faces têm a mesma chance de caírem voltadas para cima. Se quisermos saber a probabilidade de sair o número 1, temos 1 caso favorável (o número 1) e 6 casos possíveis (os números de 1 a 6 utilizando analise combinatória C(6, 1) = 6! / [1!(6-1)!] = 6). Assim, a probabilidade de sair o número 1 é 1/63.\n",
        "\n",
        "A probabilidade é útil porque nos permite determinar qual é a chance de algo acontecer. Toda vez que não temos certeza sobre o resultado de algum evento, estamos tratando da probabilidade de certos resultados acontecerem, ou quais as chances de eles acontecerem"
      ],
      "metadata": {
        "id": "WJtsMsPVMc-f"
      }
    },
    {
      "cell_type": "markdown",
      "source": [
        "### Teorema da Soma\n",
        "\n",
        "O Teorema da Soma é um princípio fundamental na teoria da probabilidade. Ele é usado para calcular a probabilidade da união de dois eventos.\n",
        "\n",
        "A probabilidade da união de dois eventos, A e B, é calculada pela probabilidade do evento A ocorrer, mais a probabilidade do evento B ocorrer, menos a intersecção entre A e B. Isso é representado pela seguinte fórmula:\n",
        "\n",
        " * P(A∪B)=P(A)+P(B)−P(A∩B)\n",
        "\n",
        " > Por exemplo, suponha que você tenha um baralho de 52 cartas e queira saber a probabilidade de tirar um rei ou uma carta de copas. A probabilidade de tirar um rei (evento A) é 4/52 (já que existem 4 reis no baralho), e a probabilidade de tirar uma carta de copas (evento B) é 13/52 (já que existem 13 cartas de copas no baralho). No entanto, como existe 1 rei de copas no baralho, temos que subtrair a probabilidade deste evento (1/52) para evitar contá-lo duas vezes. Portanto, a probabilidade de tirar um rei ou uma carta de copas é:\n",
        " >\n",
        " > P(A∪B)=P(A)+P(B)−P(A∩B) = 4/52 + 13/52 - 1/52 = 16/52 = 4/13\n",
        "\n",
        " O Mesmo exemplo, agora usando análise combinatória:\n",
        "\n",
        " > Evento A: Tirar uma carta de copas. Existem 13 cartas de copas em um baralho, então o número de maneiras de esse evento ocorrer é C(52, 13).\n",
        " >\n",
        " > Evento B: Tirar um rei. Existem 4 reis em um baralho, então o número de maneiras de esse evento ocorrer é C(52, 4).\n",
        " >\n",
        " > No entanto, esses dois eventos têm uma interseção: o rei de copas. Então, precisamos subtrair a probabilidade desse evento da nossa resposta final. O número de maneiras de tirar o rei de copas é C(52, 1).\n",
        " >\n",
        " > Portanto, o número total de maneiras de tirar uma carta de copas ou um rei é C(52, 13) + C(52, 4) - C(52, 1) = C(52, 16) = C(13, 4)."
      ],
      "metadata": {
        "id": "4AJGB3cuOcRU"
      }
    },
    {
      "cell_type": "markdown",
      "source": [
        "### Evento Complementar\n",
        "\n",
        "A probabilidade do evento complementar é um conceito fundamental na teoria da probabilidade. O evento complementar de um evento A é o conjunto de todos os resultados possíveis que não estão em A.\n",
        "\n",
        "Seja A um evento de um espaço amostral S. Se A ocorre, então o evento complementar de A, denotado por A’, não ocorre, e vice-versa. A probabilidade do evento complementar é calculada subtraindo a probabilidade do evento de 1. Isso é expresso pela seguinte fórmula:\n",
        "\n",
        " * P(A′)=1−P(A)\n",
        "\n",
        " > Por exemplo, suponha que você tenha um dado perfeito de 6 faces e queira saber a probabilidade de não tirar o número 6. A probabilidade de tirar o número 6 (evento A) é 1/6 (já que existe 1 face com o número 6 em um dado de 6 faces). No entanto, como queremos a probabilidade de não tirar o número 6 (evento A’), temos que calcular a probabilidade do evento complementar:\n",
        " >\n",
        " > P(A′) = 1−P(A) = 1− 1/6 ​= 5/6​\n",
        " >\n",
        " > Portanto, a probabilidade de não tirar o número 6 ao lançar um dado perfeito de 6 faces é 5/6.\n",
        "\n",
        "A probabilidade do evento complementar é frequentemente usada quando é mais fácil calcular a probabilidade do evento complementar do que a probabilidade do evento de interesse."
      ],
      "metadata": {
        "id": "vE5a6HU5gYh-"
      }
    },
    {
      "cell_type": "markdown",
      "source": [
        "### Combinatória\n",
        "\n",
        "A probabilidade combinatória é um conceito que une a análise combinatória e a teoria da probabilidade. A análise combinatória é a parte da matemática que estuda métodos e técnicas que permitem resolver problemas relacionados com contagem. A teoria da probabilidade, por sua vez, estuda experimentos ou fenômenos aleatórios.\n",
        "A probabilidade combinatória é usada quando queremos calcular a probabilidade de um evento que envolve a seleção ou arranjo de objetos dentro de um conjunto maior. Isso é comum em situações onde a ordem dos objetos selecionados importa (permutações) ou não importa (combinações).\n",
        "\n",
        "Vamos a um exemplo:\n",
        "\n",
        " > Suponha que você tenha um baralho de 52 cartas e queira saber a probabilidade de tirar uma mão de 5 cartas que sejam todas de copas.\n",
        " > Primeiro, precisamos calcular o número total de maneiras de tirar 5 cartas de um baralho de 52, sem se importar com a ordem em que as cartas são selecionadas. Isso é um problema de combinação, e o número de combinações de n elementos tomados p a p é dado por C(n, p) = n! / [p!(n-p)!]. Portanto, o número total de maneiras de tirar 5 cartas de um baralho de 52 é C(52, 5).\n",
        " >\n",
        " > Em seguida, precisamos calcular o número de maneiras de tirar 5 cartas que sejam todas de copas. Como existem 13 cartas de copas em um baralho, isso é igual a C(13, 5).\n",
        "\n",
        "A probabilidade de tirar uma mão de 5 cartas que sejam todas de copas é então o número de maneiras de tirar 5 cartas de copas dividido pelo número total de maneiras de tirar 5 cartas, ou seja, P(evento) = C(13, 5) / C(52, 5)."
      ],
      "metadata": {
        "id": "2FX68L5jogww"
      }
    },
    {
      "cell_type": "markdown",
      "source": [
        "# Capitulo 10 - Tratamento de Dados"
      ],
      "metadata": {
        "id": "bXF1aStwcYrh"
      }
    },
    {
      "cell_type": "markdown",
      "source": [
        "# Capitulo 11 - Analise Descritiva"
      ],
      "metadata": {
        "id": "NGFkG09ccfir"
      }
    },
    {
      "cell_type": "markdown",
      "source": [
        "## Power BI"
      ],
      "metadata": {
        "id": "DZT-X2OJcs1C"
      }
    },
    {
      "cell_type": "markdown",
      "source": [
        "# Capitulo 12 - Machine Learning"
      ],
      "metadata": {
        "id": "kmx-VJ_jc5sZ"
      }
    },
    {
      "cell_type": "markdown",
      "source": [
        "# Capitulo 13 - BIG DATA"
      ],
      "metadata": {
        "id": "4mOH_lKsdLKA"
      }
    },
    {
      "cell_type": "markdown",
      "source": [
        "## Sistema Distribuido"
      ],
      "metadata": {
        "id": "DWLOgC_IdU6Y"
      }
    },
    {
      "cell_type": "markdown",
      "source": [
        "### Docker"
      ],
      "metadata": {
        "id": "fjArHAmcdewZ"
      }
    },
    {
      "cell_type": "markdown",
      "source": [
        "### Kurbernet"
      ],
      "metadata": {
        "id": "2EVP0g0Wdhsi"
      }
    },
    {
      "cell_type": "markdown",
      "source": [
        "## Ecossistema Apache"
      ],
      "metadata": {
        "id": "6aNQ3JEednJz"
      }
    },
    {
      "cell_type": "markdown",
      "source": [
        "# Capitulo 14 - Inteligência Artificial"
      ],
      "metadata": {
        "id": "IaFzJttcdF4U"
      }
    },
    {
      "cell_type": "markdown",
      "source": [
        "# Capitulo 15 - GIT"
      ],
      "metadata": {
        "id": "dI-drTedd04J"
      }
    },
    {
      "cell_type": "markdown",
      "source": [
        "# Capitulo 16 - Lei Geral de proteção de Dados"
      ],
      "metadata": {
        "id": "TI9Ip9Mzd3dQ"
      }
    }
  ]
}